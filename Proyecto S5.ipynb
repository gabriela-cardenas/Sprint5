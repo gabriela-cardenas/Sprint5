{
 "cells": [
  {
   "cell_type": "markdown",
   "metadata": {},
   "source": [
    "------"
   ]
  },
  {
   "cell_type": "markdown",
   "metadata": {
    "id": "MQi4IPy70q0y"
   },
   "source": [
    "## Inicialización"
   ]
  },
  {
   "cell_type": "code",
   "execution_count": 1,
   "metadata": {
    "id": "MtYIuBxu0q0z"
   },
   "outputs": [],
   "source": [
    "# Cargar todas las librerías\n",
    "import pandas as pd\n",
    "df_calls = pd.read_csv('/datasets/megaline_calls.csv')\n",
    "df_internet = pd.read_csv('/datasets/megaline_internet.csv')\n",
    "df_messages = pd.read_csv('/datasets/megaline_messages.csv')\n",
    "df_plans = pd.read_csv('/datasets/megaline_plans.csv')\n",
    "df_users = pd.read_csv('/datasets/megaline_users.csv')\n",
    "\n"
   ]
  },
  {
   "cell_type": "markdown",
   "metadata": {
    "id": "4ysWWC5i0q00"
   },
   "source": [
    "## Cargar datos"
   ]
  },
  {
   "cell_type": "code",
   "execution_count": 2,
   "metadata": {
    "id": "CCqPW7rS0q01"
   },
   "outputs": [
    {
     "name": "stdout",
     "output_type": "stream",
     "text": [
      "<class 'pandas.core.frame.DataFrame'>\n",
      "RangeIndex: 137735 entries, 0 to 137734\n",
      "Data columns (total 4 columns):\n",
      " #   Column     Non-Null Count   Dtype  \n",
      "---  ------     --------------   -----  \n",
      " 0   id         137735 non-null  object \n",
      " 1   user_id    137735 non-null  int64  \n",
      " 2   call_date  137735 non-null  object \n",
      " 3   duration   137735 non-null  float64\n",
      "dtypes: float64(1), int64(1), object(2)\n",
      "memory usage: 4.2+ MB\n",
      "None\n",
      "         id  user_id   call_date  duration\n",
      "0   1000_93     1000  2018-12-27      8.52\n",
      "1  1000_145     1000  2018-12-27     13.66\n",
      "2  1000_247     1000  2018-12-27     14.48\n",
      "3  1000_309     1000  2018-12-28      5.76\n",
      "4  1000_380     1000  2018-12-30      4.22 \n",
      "\n",
      "<class 'pandas.core.frame.DataFrame'>\n",
      "RangeIndex: 104825 entries, 0 to 104824\n",
      "Data columns (total 4 columns):\n",
      " #   Column        Non-Null Count   Dtype  \n",
      "---  ------        --------------   -----  \n",
      " 0   id            104825 non-null  object \n",
      " 1   user_id       104825 non-null  int64  \n",
      " 2   session_date  104825 non-null  object \n",
      " 3   mb_used       104825 non-null  float64\n",
      "dtypes: float64(1), int64(1), object(2)\n",
      "memory usage: 3.2+ MB\n",
      "None\n",
      "         id  user_id session_date  mb_used\n",
      "0   1000_13     1000   2018-12-29    89.86\n",
      "1  1000_204     1000   2018-12-31     0.00\n",
      "2  1000_379     1000   2018-12-28   660.40\n",
      "3  1000_413     1000   2018-12-26   270.99\n",
      "4  1000_442     1000   2018-12-27   880.22 \n",
      "\n",
      "<class 'pandas.core.frame.DataFrame'>\n",
      "RangeIndex: 76051 entries, 0 to 76050\n",
      "Data columns (total 3 columns):\n",
      " #   Column        Non-Null Count  Dtype \n",
      "---  ------        --------------  ----- \n",
      " 0   id            76051 non-null  object\n",
      " 1   user_id       76051 non-null  int64 \n",
      " 2   message_date  76051 non-null  object\n",
      "dtypes: int64(1), object(2)\n",
      "memory usage: 1.7+ MB\n",
      "None\n",
      "         id  user_id message_date\n",
      "0  1000_125     1000   2018-12-27\n",
      "1  1000_160     1000   2018-12-31\n",
      "2  1000_223     1000   2018-12-31\n",
      "3  1000_251     1000   2018-12-27\n",
      "4  1000_255     1000   2018-12-26 \n",
      "\n",
      "<class 'pandas.core.frame.DataFrame'>\n",
      "RangeIndex: 2 entries, 0 to 1\n",
      "Data columns (total 8 columns):\n",
      " #   Column                 Non-Null Count  Dtype  \n",
      "---  ------                 --------------  -----  \n",
      " 0   messages_included      2 non-null      int64  \n",
      " 1   mb_per_month_included  2 non-null      int64  \n",
      " 2   minutes_included       2 non-null      int64  \n",
      " 3   usd_monthly_pay        2 non-null      int64  \n",
      " 4   usd_per_gb             2 non-null      int64  \n",
      " 5   usd_per_message        2 non-null      float64\n",
      " 6   usd_per_minute         2 non-null      float64\n",
      " 7   plan_name              2 non-null      object \n",
      "dtypes: float64(2), int64(5), object(1)\n",
      "memory usage: 256.0+ bytes\n",
      "None\n",
      "   messages_included  mb_per_month_included  minutes_included  \\\n",
      "0                 50                  15360               500   \n",
      "1               1000                  30720              3000   \n",
      "\n",
      "   usd_monthly_pay  usd_per_gb  usd_per_message  usd_per_minute plan_name  \n",
      "0               20          10             0.03            0.03      surf  \n",
      "1               70           7             0.01            0.01  ultimate   \n",
      "\n",
      "<class 'pandas.core.frame.DataFrame'>\n",
      "RangeIndex: 500 entries, 0 to 499\n",
      "Data columns (total 8 columns):\n",
      " #   Column      Non-Null Count  Dtype \n",
      "---  ------      --------------  ----- \n",
      " 0   user_id     500 non-null    int64 \n",
      " 1   first_name  500 non-null    object\n",
      " 2   last_name   500 non-null    object\n",
      " 3   age         500 non-null    int64 \n",
      " 4   city        500 non-null    object\n",
      " 5   reg_date    500 non-null    object\n",
      " 6   plan        500 non-null    object\n",
      " 7   churn_date  34 non-null     object\n",
      "dtypes: int64(2), object(6)\n",
      "memory usage: 31.4+ KB\n",
      "None\n",
      "   user_id first_name  last_name  age                                   city  \\\n",
      "0     1000   Anamaria      Bauer   45  Atlanta-Sandy Springs-Roswell, GA MSA   \n",
      "1     1001     Mickey  Wilkerson   28        Seattle-Tacoma-Bellevue, WA MSA   \n",
      "2     1002     Carlee    Hoffman   36   Las Vegas-Henderson-Paradise, NV MSA   \n",
      "3     1003   Reynaldo    Jenkins   52                          Tulsa, OK MSA   \n",
      "4     1004    Leonila   Thompson   40        Seattle-Tacoma-Bellevue, WA MSA   \n",
      "\n",
      "     reg_date      plan churn_date  \n",
      "0  2018-12-24  ultimate        NaN  \n",
      "1  2018-08-13      surf        NaN  \n",
      "2  2018-10-21      surf        NaN  \n",
      "3  2018-01-28      surf        NaN  \n",
      "4  2018-05-23      surf        NaN   \n",
      "\n"
     ]
    }
   ],
   "source": [
    "# Carga los archivos de datos en diferentes DataFrames\n",
    "\n",
    "for df in [df_calls, df_internet, df_messages, df_plans, df_users]:\n",
    "    print(df.info())\n",
    "    print(df.head(), \"\\n\") "
   ]
  },
  {
   "cell_type": "markdown",
   "metadata": {
    "id": "69qqoJ3r0q01"
   },
   "source": [
    "## Preparar los datos"
   ]
  },
  {
   "cell_type": "markdown",
   "metadata": {
    "id": "ohBhimvH0q01"
   },
   "source": [
    "## Tarifas"
   ]
  },
  {
   "cell_type": "code",
   "execution_count": 3,
   "metadata": {
    "id": "GptqP3Q40q02"
   },
   "outputs": [
    {
     "name": "stdout",
     "output_type": "stream",
     "text": [
      "<class 'pandas.core.frame.DataFrame'>\n",
      "RangeIndex: 2 entries, 0 to 1\n",
      "Data columns (total 8 columns):\n",
      " #   Column                 Non-Null Count  Dtype  \n",
      "---  ------                 --------------  -----  \n",
      " 0   messages_included      2 non-null      int64  \n",
      " 1   mb_per_month_included  2 non-null      int64  \n",
      " 2   minutes_included       2 non-null      int64  \n",
      " 3   usd_monthly_pay        2 non-null      int64  \n",
      " 4   usd_per_gb             2 non-null      int64  \n",
      " 5   usd_per_message        2 non-null      float64\n",
      " 6   usd_per_minute         2 non-null      float64\n",
      " 7   plan_name              2 non-null      object \n",
      "dtypes: float64(2), int64(5), object(1)\n",
      "memory usage: 256.0+ bytes\n",
      "None\n"
     ]
    }
   ],
   "source": [
    "# Imprime la información general/resumida sobre el DataFrame de las tarifas\n",
    "print(df_plans.info(show_counts=True))\n"
   ]
  },
  {
   "cell_type": "code",
   "execution_count": 4,
   "metadata": {
    "id": "64xzjwL70q02"
   },
   "outputs": [
    {
     "name": "stdout",
     "output_type": "stream",
     "text": [
      "   messages_included  mb_per_month_included  minutes_included  \\\n",
      "0                 50                  15360               500   \n",
      "1               1000                  30720              3000   \n",
      "\n",
      "   usd_monthly_pay  usd_per_gb  usd_per_message  usd_per_minute plan_name  \n",
      "0               20          10             0.03            0.03      surf  \n",
      "1               70           7             0.01            0.01  ultimate  \n"
     ]
    }
   ],
   "source": [
    "# Imprime una muestra de los datos para las tarifas\n",
    "print(df_plans.head())\n",
    "\n"
   ]
  },
  {
   "cell_type": "markdown",
   "metadata": {
    "id": "mEc_3_hs0q02"
   },
   "source": [
    "Contiene 2 filas, una para cada plan que ofrecen, y 8 columnas. Todas tienen datos completos, no hay nulos.\n",
    "El tipo de datos son:\n",
    "int64: messages_included, mb_per_month_included, minutes_included, usd_monthly_payment, usd_per_gb,\n",
    "float: usd_per_message, usd_per_minute\n",
    "obj: plan_name\n"
   ]
  },
  {
   "cell_type": "markdown",
   "metadata": {
    "id": "R3C05i1l0q03"
   },
   "source": [
    "## Corregir datos"
   ]
  },
  {
   "cell_type": "code",
   "execution_count": 5,
   "metadata": {
    "id": "Y7SVmjGn0q03"
   },
   "outputs": [
    {
     "data": {
      "text/plain": [
       "Index(['mssgs_included', 'mb_included', 'min_included', 'usd_monthly_pay',\n",
       "       'usd_per_gb', 'usd_per_message', 'usd_per_minute', 'plan_name'],\n",
       "      dtype='object')"
      ]
     },
     "execution_count": 5,
     "metadata": {},
     "output_type": "execute_result"
    }
   ],
   "source": [
    "df_plans.rename(columns ={'messages_included':'mssgs_included'}, inplace=True)\n",
    "df_plans.rename(columns ={'mb_per_month_included':'mb_included'}, inplace=True)\n",
    "df_plans.rename(columns ={'minutes_included':'min_included'}, inplace=True)\n",
    "\n",
    "df_plans.columns"
   ]
  },
  {
   "cell_type": "markdown",
   "metadata": {
    "id": "LJir7bml0q03"
   },
   "source": [
    "## Enriquecer los datos"
   ]
  },
  {
   "cell_type": "code",
   "execution_count": null,
   "metadata": {
    "id": "gfcIEuXV0q04"
   },
   "outputs": [],
   "source": []
  },
  {
   "cell_type": "markdown",
   "metadata": {
    "id": "1n2X6WXf0q04"
   },
   "source": [
    "## Usuarios/as"
   ]
  },
  {
   "cell_type": "code",
   "execution_count": 6,
   "metadata": {
    "id": "2NgjWFqx0q05"
   },
   "outputs": [
    {
     "name": "stdout",
     "output_type": "stream",
     "text": [
      "<class 'pandas.core.frame.DataFrame'>\n",
      "RangeIndex: 500 entries, 0 to 499\n",
      "Data columns (total 8 columns):\n",
      " #   Column      Non-Null Count  Dtype \n",
      "---  ------      --------------  ----- \n",
      " 0   user_id     500 non-null    int64 \n",
      " 1   first_name  500 non-null    object\n",
      " 2   last_name   500 non-null    object\n",
      " 3   age         500 non-null    int64 \n",
      " 4   city        500 non-null    object\n",
      " 5   reg_date    500 non-null    object\n",
      " 6   plan        500 non-null    object\n",
      " 7   churn_date  34 non-null     object\n",
      "dtypes: int64(2), object(6)\n",
      "memory usage: 31.4+ KB\n"
     ]
    }
   ],
   "source": [
    "# Imprime la información general/resumida sobre el DataFrame de usuarios\n",
    "df_users.info(show_counts=True)\n"
   ]
  },
  {
   "cell_type": "code",
   "execution_count": 7,
   "metadata": {
    "id": "1IN1L9uh0q05"
   },
   "outputs": [
    {
     "data": {
      "text/html": [
       "<div>\n",
       "<style scoped>\n",
       "    .dataframe tbody tr th:only-of-type {\n",
       "        vertical-align: middle;\n",
       "    }\n",
       "\n",
       "    .dataframe tbody tr th {\n",
       "        vertical-align: top;\n",
       "    }\n",
       "\n",
       "    .dataframe thead th {\n",
       "        text-align: right;\n",
       "    }\n",
       "</style>\n",
       "<table border=\"1\" class=\"dataframe\">\n",
       "  <thead>\n",
       "    <tr style=\"text-align: right;\">\n",
       "      <th></th>\n",
       "      <th>user_id</th>\n",
       "      <th>first_name</th>\n",
       "      <th>last_name</th>\n",
       "      <th>age</th>\n",
       "      <th>city</th>\n",
       "      <th>reg_date</th>\n",
       "      <th>plan</th>\n",
       "      <th>churn_date</th>\n",
       "    </tr>\n",
       "  </thead>\n",
       "  <tbody>\n",
       "    <tr>\n",
       "      <th>0</th>\n",
       "      <td>1000</td>\n",
       "      <td>Anamaria</td>\n",
       "      <td>Bauer</td>\n",
       "      <td>45</td>\n",
       "      <td>Atlanta-Sandy Springs-Roswell, GA MSA</td>\n",
       "      <td>2018-12-24</td>\n",
       "      <td>ultimate</td>\n",
       "      <td>NaN</td>\n",
       "    </tr>\n",
       "    <tr>\n",
       "      <th>1</th>\n",
       "      <td>1001</td>\n",
       "      <td>Mickey</td>\n",
       "      <td>Wilkerson</td>\n",
       "      <td>28</td>\n",
       "      <td>Seattle-Tacoma-Bellevue, WA MSA</td>\n",
       "      <td>2018-08-13</td>\n",
       "      <td>surf</td>\n",
       "      <td>NaN</td>\n",
       "    </tr>\n",
       "    <tr>\n",
       "      <th>2</th>\n",
       "      <td>1002</td>\n",
       "      <td>Carlee</td>\n",
       "      <td>Hoffman</td>\n",
       "      <td>36</td>\n",
       "      <td>Las Vegas-Henderson-Paradise, NV MSA</td>\n",
       "      <td>2018-10-21</td>\n",
       "      <td>surf</td>\n",
       "      <td>NaN</td>\n",
       "    </tr>\n",
       "    <tr>\n",
       "      <th>3</th>\n",
       "      <td>1003</td>\n",
       "      <td>Reynaldo</td>\n",
       "      <td>Jenkins</td>\n",
       "      <td>52</td>\n",
       "      <td>Tulsa, OK MSA</td>\n",
       "      <td>2018-01-28</td>\n",
       "      <td>surf</td>\n",
       "      <td>NaN</td>\n",
       "    </tr>\n",
       "    <tr>\n",
       "      <th>4</th>\n",
       "      <td>1004</td>\n",
       "      <td>Leonila</td>\n",
       "      <td>Thompson</td>\n",
       "      <td>40</td>\n",
       "      <td>Seattle-Tacoma-Bellevue, WA MSA</td>\n",
       "      <td>2018-05-23</td>\n",
       "      <td>surf</td>\n",
       "      <td>NaN</td>\n",
       "    </tr>\n",
       "  </tbody>\n",
       "</table>\n",
       "</div>"
      ],
      "text/plain": [
       "   user_id first_name  last_name  age                                   city  \\\n",
       "0     1000   Anamaria      Bauer   45  Atlanta-Sandy Springs-Roswell, GA MSA   \n",
       "1     1001     Mickey  Wilkerson   28        Seattle-Tacoma-Bellevue, WA MSA   \n",
       "2     1002     Carlee    Hoffman   36   Las Vegas-Henderson-Paradise, NV MSA   \n",
       "3     1003   Reynaldo    Jenkins   52                          Tulsa, OK MSA   \n",
       "4     1004    Leonila   Thompson   40        Seattle-Tacoma-Bellevue, WA MSA   \n",
       "\n",
       "     reg_date      plan churn_date  \n",
       "0  2018-12-24  ultimate        NaN  \n",
       "1  2018-08-13      surf        NaN  \n",
       "2  2018-10-21      surf        NaN  \n",
       "3  2018-01-28      surf        NaN  \n",
       "4  2018-05-23      surf        NaN  "
      ]
     },
     "execution_count": 7,
     "metadata": {},
     "output_type": "execute_result"
    }
   ],
   "source": [
    "# Imprime una muestra de datos para usuarios\n",
    "df_users.head() \n"
   ]
  },
  {
   "cell_type": "markdown",
   "metadata": {
    "id": "BX5FQh_I0q06"
   },
   "source": [
    "### Corregir los datos"
   ]
  },
  {
   "cell_type": "markdown",
   "metadata": {
    "id": "8OdKMwJv0q06"
   },
   "source": [
    "Este diccionario contiene información acerca de los usuarios de Megaline, 500 filas y 8 columnas.\n",
    "La única columna que contiene datos nulos es la de churn_date y esto es lógico dado que las celdas vacías indican que aun son clientes.\n",
    "En cuanto al tipo de datos para cada columna, 'user_id' y 'age' son tipo int64, lo cual me parece correcto. El resto de las columnas son tipo obj, y considero que dos de ellas no deberían serlo, me refiero a 'reg_date' y 'churn_date'. Dado que ambas contiene fechas, cambiarlas a tipo datetime facilitará el análisis.\n"
   ]
  },
  {
   "cell_type": "code",
   "execution_count": 8,
   "metadata": {
    "id": "yUqX-K0C0q07"
   },
   "outputs": [
    {
     "name": "stdout",
     "output_type": "stream",
     "text": [
      "<class 'pandas.core.frame.DataFrame'>\n",
      "RangeIndex: 500 entries, 0 to 499\n",
      "Data columns (total 8 columns):\n",
      " #   Column      Non-Null Count  Dtype         \n",
      "---  ------      --------------  -----         \n",
      " 0   user_id     500 non-null    int64         \n",
      " 1   first_name  500 non-null    object        \n",
      " 2   last_name   500 non-null    object        \n",
      " 3   age         500 non-null    int64         \n",
      " 4   city        500 non-null    object        \n",
      " 5   reg_date    500 non-null    datetime64[ns]\n",
      " 6   plan        500 non-null    object        \n",
      " 7   churn_date  34 non-null     datetime64[ns]\n",
      "dtypes: datetime64[ns](2), int64(2), object(4)\n",
      "memory usage: 31.4+ KB\n"
     ]
    }
   ],
   "source": [
    "df_users['reg_date'] = pd.to_datetime(df_users['reg_date'])\n",
    "df_users['churn_date'] = pd.to_datetime(df_users['churn_date'])\n",
    "\n",
    "df_users.info()"
   ]
  },
  {
   "cell_type": "markdown",
   "metadata": {
    "id": "ycwuARJp0q07"
   },
   "source": [
    "### Enriquecer los datos"
   ]
  },
  {
   "cell_type": "markdown",
   "metadata": {
    "id": "96NIh4CJ0q08"
   },
   "source": [
    "Sugiero cambiar el nombre de la columna 'plan', por 'plan_name' para que sea homogenea con los otros diccionarios que también contienen esta información."
   ]
  },
  {
   "cell_type": "code",
   "execution_count": 9,
   "metadata": {
    "id": "iq0AaBS90q08"
   },
   "outputs": [
    {
     "data": {
      "text/plain": [
       "Index(['user_id', 'first_name', 'last_name', 'age', 'city', 'reg_date',\n",
       "       'plan_name', 'churn_date'],\n",
       "      dtype='object')"
      ]
     },
     "execution_count": 9,
     "metadata": {},
     "output_type": "execute_result"
    }
   ],
   "source": [
    "df_users.rename(columns ={'plan':'plan_name'}, inplace=True)\n",
    "\n",
    "df_users.columns"
   ]
  },
  {
   "cell_type": "code",
   "execution_count": 10,
   "metadata": {},
   "outputs": [
    {
     "data": {
      "text/plain": [
       "<bound method Series.unique of 0          Atlanta-Sandy Springs-Roswell, GA MSA\n",
       "1                Seattle-Tacoma-Bellevue, WA MSA\n",
       "2           Las Vegas-Henderson-Paradise, NV MSA\n",
       "3                                  Tulsa, OK MSA\n",
       "4                Seattle-Tacoma-Bellevue, WA MSA\n",
       "                         ...                    \n",
       "495    New York-Newark-Jersey City, NY-NJ-PA MSA\n",
       "496                 New Orleans-Metairie, LA MSA\n",
       "497       Los Angeles-Long Beach-Anaheim, CA MSA\n",
       "498    New York-Newark-Jersey City, NY-NJ-PA MSA\n",
       "499            Orlando-Kissimmee-Sanford, FL MSA\n",
       "Name: city, Length: 500, dtype: object>"
      ]
     },
     "execution_count": 10,
     "metadata": {},
     "output_type": "execute_result"
    }
   ],
   "source": [
    "df_users['city'].unique"
   ]
  },
  {
   "cell_type": "markdown",
   "metadata": {
    "id": "o7MeKCid0q08"
   },
   "source": [
    "## Llamadas"
   ]
  },
  {
   "cell_type": "code",
   "execution_count": 11,
   "metadata": {
    "id": "6dDlnoDm0q08"
   },
   "outputs": [
    {
     "name": "stdout",
     "output_type": "stream",
     "text": [
      "<class 'pandas.core.frame.DataFrame'>\n",
      "RangeIndex: 137735 entries, 0 to 137734\n",
      "Data columns (total 4 columns):\n",
      " #   Column     Non-Null Count   Dtype  \n",
      "---  ------     --------------   -----  \n",
      " 0   id         137735 non-null  object \n",
      " 1   user_id    137735 non-null  int64  \n",
      " 2   call_date  137735 non-null  object \n",
      " 3   duration   137735 non-null  float64\n",
      "dtypes: float64(1), int64(1), object(2)\n",
      "memory usage: 4.2+ MB\n"
     ]
    }
   ],
   "source": [
    "# Imprime la información general/resumida sobre el DataFrame de las llamadas\n",
    "df_calls.info(show_counts=True)\n",
    "\n"
   ]
  },
  {
   "cell_type": "code",
   "execution_count": 12,
   "metadata": {
    "id": "kuh1vlNB0q09"
   },
   "outputs": [
    {
     "data": {
      "text/html": [
       "<div>\n",
       "<style scoped>\n",
       "    .dataframe tbody tr th:only-of-type {\n",
       "        vertical-align: middle;\n",
       "    }\n",
       "\n",
       "    .dataframe tbody tr th {\n",
       "        vertical-align: top;\n",
       "    }\n",
       "\n",
       "    .dataframe thead th {\n",
       "        text-align: right;\n",
       "    }\n",
       "</style>\n",
       "<table border=\"1\" class=\"dataframe\">\n",
       "  <thead>\n",
       "    <tr style=\"text-align: right;\">\n",
       "      <th></th>\n",
       "      <th>id</th>\n",
       "      <th>user_id</th>\n",
       "      <th>call_date</th>\n",
       "      <th>duration</th>\n",
       "    </tr>\n",
       "  </thead>\n",
       "  <tbody>\n",
       "    <tr>\n",
       "      <th>0</th>\n",
       "      <td>1000_93</td>\n",
       "      <td>1000</td>\n",
       "      <td>2018-12-27</td>\n",
       "      <td>8.52</td>\n",
       "    </tr>\n",
       "    <tr>\n",
       "      <th>1</th>\n",
       "      <td>1000_145</td>\n",
       "      <td>1000</td>\n",
       "      <td>2018-12-27</td>\n",
       "      <td>13.66</td>\n",
       "    </tr>\n",
       "    <tr>\n",
       "      <th>2</th>\n",
       "      <td>1000_247</td>\n",
       "      <td>1000</td>\n",
       "      <td>2018-12-27</td>\n",
       "      <td>14.48</td>\n",
       "    </tr>\n",
       "    <tr>\n",
       "      <th>3</th>\n",
       "      <td>1000_309</td>\n",
       "      <td>1000</td>\n",
       "      <td>2018-12-28</td>\n",
       "      <td>5.76</td>\n",
       "    </tr>\n",
       "    <tr>\n",
       "      <th>4</th>\n",
       "      <td>1000_380</td>\n",
       "      <td>1000</td>\n",
       "      <td>2018-12-30</td>\n",
       "      <td>4.22</td>\n",
       "    </tr>\n",
       "  </tbody>\n",
       "</table>\n",
       "</div>"
      ],
      "text/plain": [
       "         id  user_id   call_date  duration\n",
       "0   1000_93     1000  2018-12-27      8.52\n",
       "1  1000_145     1000  2018-12-27     13.66\n",
       "2  1000_247     1000  2018-12-27     14.48\n",
       "3  1000_309     1000  2018-12-28      5.76\n",
       "4  1000_380     1000  2018-12-30      4.22"
      ]
     },
     "execution_count": 12,
     "metadata": {},
     "output_type": "execute_result"
    }
   ],
   "source": [
    "# Imprime una muestra de datos para las llamadas\n",
    "df_calls.head()\n",
    "\n"
   ]
  },
  {
   "cell_type": "markdown",
   "metadata": {
    "id": "DOAxYJSx0q09"
   },
   "source": [
    "El diccionario df_calls contiene información referente a las llamadas realizadas por los 500 usuarios de la muestra. Contiene 137,735 filas (el más numeroso de los que analizamos) y 4 columnas. \n",
    "No contiene celdas con datos nulos.\n",
    "Sobre el tipo de datos, se observa nuevamente que la columna que contiene fecha 'call_date' está en tipo objetc, considero una conversión a tipo datetime para facilitar el análisis. También la corrobación posterior del tipo de datos."
   ]
  },
  {
   "cell_type": "markdown",
   "metadata": {
    "id": "S7hzxmbX0q0-"
   },
   "source": [
    "### Corregir los datos"
   ]
  },
  {
   "cell_type": "markdown",
   "metadata": {
    "id": "YxWyAjD20q0-"
   },
   "source": [
    "Cambiar el tipo de datos en 'call_date' a tipo datetime.\n",
    "Cambiar el nombre de la columna 'duration' a 'call_duration'"
   ]
  },
  {
   "cell_type": "code",
   "execution_count": 13,
   "metadata": {
    "id": "S2r8xA4f0q0-"
   },
   "outputs": [
    {
     "data": {
      "text/plain": [
       "Index(['id', 'user_id', 'call_date', 'call_duration'], dtype='object')"
      ]
     },
     "execution_count": 13,
     "metadata": {},
     "output_type": "execute_result"
    }
   ],
   "source": [
    "# Cambiar el tipo de datos en columna que incluye fecha\n",
    "df_calls['call_date'] = pd.to_datetime(df_calls['call_date'])\n",
    "\n",
    "df_calls['call_date'].dtype\n",
    "\n",
    "# Cambiar el nombre de la columna para mayor definición de lo que contiene\n",
    "\n",
    "df_calls.rename(columns={'duration':'call_duration'}, inplace=True)\n",
    "df_calls.columns"
   ]
  },
  {
   "cell_type": "markdown",
   "metadata": {
    "id": "KrMgTrlG0q0_"
   },
   "source": [
    "### Enriquecer los datos"
   ]
  },
  {
   "cell_type": "markdown",
   "metadata": {
    "id": "a9MbmEvE0q0_"
   },
   "source": [
    " En base al método de cálculo de Megaline, sugiero redondear la duración de las llamadas individuales."
   ]
  },
  {
   "cell_type": "code",
   "execution_count": 14,
   "metadata": {
    "id": "iZ1avpA_0q0_"
   },
   "outputs": [
    {
     "data": {
      "text/html": [
       "<div>\n",
       "<style scoped>\n",
       "    .dataframe tbody tr th:only-of-type {\n",
       "        vertical-align: middle;\n",
       "    }\n",
       "\n",
       "    .dataframe tbody tr th {\n",
       "        vertical-align: top;\n",
       "    }\n",
       "\n",
       "    .dataframe thead th {\n",
       "        text-align: right;\n",
       "    }\n",
       "</style>\n",
       "<table border=\"1\" class=\"dataframe\">\n",
       "  <thead>\n",
       "    <tr style=\"text-align: right;\">\n",
       "      <th></th>\n",
       "      <th>id</th>\n",
       "      <th>user_id</th>\n",
       "      <th>call_date</th>\n",
       "      <th>call_duration</th>\n",
       "      <th>call_rounded</th>\n",
       "    </tr>\n",
       "  </thead>\n",
       "  <tbody>\n",
       "    <tr>\n",
       "      <th>0</th>\n",
       "      <td>1000_93</td>\n",
       "      <td>1000</td>\n",
       "      <td>2018-12-27</td>\n",
       "      <td>8.52</td>\n",
       "      <td>9</td>\n",
       "    </tr>\n",
       "    <tr>\n",
       "      <th>1</th>\n",
       "      <td>1000_145</td>\n",
       "      <td>1000</td>\n",
       "      <td>2018-12-27</td>\n",
       "      <td>13.66</td>\n",
       "      <td>14</td>\n",
       "    </tr>\n",
       "    <tr>\n",
       "      <th>2</th>\n",
       "      <td>1000_247</td>\n",
       "      <td>1000</td>\n",
       "      <td>2018-12-27</td>\n",
       "      <td>14.48</td>\n",
       "      <td>15</td>\n",
       "    </tr>\n",
       "    <tr>\n",
       "      <th>3</th>\n",
       "      <td>1000_309</td>\n",
       "      <td>1000</td>\n",
       "      <td>2018-12-28</td>\n",
       "      <td>5.76</td>\n",
       "      <td>6</td>\n",
       "    </tr>\n",
       "    <tr>\n",
       "      <th>4</th>\n",
       "      <td>1000_380</td>\n",
       "      <td>1000</td>\n",
       "      <td>2018-12-30</td>\n",
       "      <td>4.22</td>\n",
       "      <td>5</td>\n",
       "    </tr>\n",
       "    <tr>\n",
       "      <th>5</th>\n",
       "      <td>1000_388</td>\n",
       "      <td>1000</td>\n",
       "      <td>2018-12-31</td>\n",
       "      <td>2.20</td>\n",
       "      <td>3</td>\n",
       "    </tr>\n",
       "    <tr>\n",
       "      <th>6</th>\n",
       "      <td>1000_510</td>\n",
       "      <td>1000</td>\n",
       "      <td>2018-12-27</td>\n",
       "      <td>5.75</td>\n",
       "      <td>6</td>\n",
       "    </tr>\n",
       "    <tr>\n",
       "      <th>7</th>\n",
       "      <td>1000_521</td>\n",
       "      <td>1000</td>\n",
       "      <td>2018-12-28</td>\n",
       "      <td>14.18</td>\n",
       "      <td>15</td>\n",
       "    </tr>\n",
       "    <tr>\n",
       "      <th>8</th>\n",
       "      <td>1000_530</td>\n",
       "      <td>1000</td>\n",
       "      <td>2018-12-28</td>\n",
       "      <td>5.77</td>\n",
       "      <td>6</td>\n",
       "    </tr>\n",
       "    <tr>\n",
       "      <th>9</th>\n",
       "      <td>1000_544</td>\n",
       "      <td>1000</td>\n",
       "      <td>2018-12-26</td>\n",
       "      <td>4.40</td>\n",
       "      <td>5</td>\n",
       "    </tr>\n",
       "  </tbody>\n",
       "</table>\n",
       "</div>"
      ],
      "text/plain": [
       "         id  user_id  call_date  call_duration  call_rounded\n",
       "0   1000_93     1000 2018-12-27           8.52             9\n",
       "1  1000_145     1000 2018-12-27          13.66            14\n",
       "2  1000_247     1000 2018-12-27          14.48            15\n",
       "3  1000_309     1000 2018-12-28           5.76             6\n",
       "4  1000_380     1000 2018-12-30           4.22             5\n",
       "5  1000_388     1000 2018-12-31           2.20             3\n",
       "6  1000_510     1000 2018-12-27           5.75             6\n",
       "7  1000_521     1000 2018-12-28          14.18            15\n",
       "8  1000_530     1000 2018-12-28           5.77             6\n",
       "9  1000_544     1000 2018-12-26           4.40             5"
      ]
     },
     "execution_count": 14,
     "metadata": {},
     "output_type": "execute_result"
    }
   ],
   "source": [
    "# Redondear los datos de la columna call_duration al siguiente entero para hacer el cálculo de acuerdo a las políticas de Megaline\n",
    "import numpy as np\n",
    "\n",
    "df_calls['call_rounded'] = np.ceil(df_calls['call_duration'])\n",
    "df_calls['call_rounded']= df_calls['call_rounded'].astype(int)\n",
    " \n",
    "df_calls.head(10) \n",
    " "
   ]
  },
  {
   "cell_type": "markdown",
   "metadata": {
    "id": "mOUZSi180q0_"
   },
   "source": [
    "## Mensajes"
   ]
  },
  {
   "cell_type": "code",
   "execution_count": 15,
   "metadata": {
    "id": "R-bYJpdV0q1A"
   },
   "outputs": [
    {
     "name": "stdout",
     "output_type": "stream",
     "text": [
      "<class 'pandas.core.frame.DataFrame'>\n",
      "RangeIndex: 76051 entries, 0 to 76050\n",
      "Data columns (total 3 columns):\n",
      " #   Column        Non-Null Count  Dtype \n",
      "---  ------        --------------  ----- \n",
      " 0   id            76051 non-null  object\n",
      " 1   user_id       76051 non-null  int64 \n",
      " 2   message_date  76051 non-null  object\n",
      "dtypes: int64(1), object(2)\n",
      "memory usage: 1.7+ MB\n"
     ]
    }
   ],
   "source": [
    "# Imprime la información general/resumida sobre el DataFrame de los mensajes\n",
    "df_messages.info(show_counts=True)\n"
   ]
  },
  {
   "cell_type": "code",
   "execution_count": 16,
   "metadata": {
    "id": "mCEl2iGE0q1A"
   },
   "outputs": [
    {
     "data": {
      "text/html": [
       "<div>\n",
       "<style scoped>\n",
       "    .dataframe tbody tr th:only-of-type {\n",
       "        vertical-align: middle;\n",
       "    }\n",
       "\n",
       "    .dataframe tbody tr th {\n",
       "        vertical-align: top;\n",
       "    }\n",
       "\n",
       "    .dataframe thead th {\n",
       "        text-align: right;\n",
       "    }\n",
       "</style>\n",
       "<table border=\"1\" class=\"dataframe\">\n",
       "  <thead>\n",
       "    <tr style=\"text-align: right;\">\n",
       "      <th></th>\n",
       "      <th>id</th>\n",
       "      <th>user_id</th>\n",
       "      <th>message_date</th>\n",
       "    </tr>\n",
       "  </thead>\n",
       "  <tbody>\n",
       "    <tr>\n",
       "      <th>0</th>\n",
       "      <td>1000_125</td>\n",
       "      <td>1000</td>\n",
       "      <td>2018-12-27</td>\n",
       "    </tr>\n",
       "    <tr>\n",
       "      <th>1</th>\n",
       "      <td>1000_160</td>\n",
       "      <td>1000</td>\n",
       "      <td>2018-12-31</td>\n",
       "    </tr>\n",
       "    <tr>\n",
       "      <th>2</th>\n",
       "      <td>1000_223</td>\n",
       "      <td>1000</td>\n",
       "      <td>2018-12-31</td>\n",
       "    </tr>\n",
       "    <tr>\n",
       "      <th>3</th>\n",
       "      <td>1000_251</td>\n",
       "      <td>1000</td>\n",
       "      <td>2018-12-27</td>\n",
       "    </tr>\n",
       "    <tr>\n",
       "      <th>4</th>\n",
       "      <td>1000_255</td>\n",
       "      <td>1000</td>\n",
       "      <td>2018-12-26</td>\n",
       "    </tr>\n",
       "  </tbody>\n",
       "</table>\n",
       "</div>"
      ],
      "text/plain": [
       "         id  user_id message_date\n",
       "0  1000_125     1000   2018-12-27\n",
       "1  1000_160     1000   2018-12-31\n",
       "2  1000_223     1000   2018-12-31\n",
       "3  1000_251     1000   2018-12-27\n",
       "4  1000_255     1000   2018-12-26"
      ]
     },
     "execution_count": 16,
     "metadata": {},
     "output_type": "execute_result"
    }
   ],
   "source": [
    "# Imprime una muestra de datos para los mensajes\n",
    "df_messages.head()\n"
   ]
  },
  {
   "cell_type": "markdown",
   "metadata": {
    "id": "04xDj7KH0q1A"
   },
   "source": [
    "El diccionario 'messages' contiene información sobre el total de mensajes envíados por los 500 usuarios en nuestra muestra. Hay un total de 76,051 filas y 3 columnas. Ningún dato nulo. En el tipo de datos, la columna 'message_date' considero mejor un cambio, originalmente en tipo objetc, cambiar a datetime."
   ]
  },
  {
   "cell_type": "markdown",
   "metadata": {
    "id": "Sprfak900q1B"
   },
   "source": [
    "### Corregir los datos"
   ]
  },
  {
   "cell_type": "code",
   "execution_count": 17,
   "metadata": {
    "id": "vsllvkoa0q1B"
   },
   "outputs": [
    {
     "data": {
      "text/plain": [
       "dtype('<M8[ns]')"
      ]
     },
     "execution_count": 17,
     "metadata": {},
     "output_type": "execute_result"
    }
   ],
   "source": [
    "df_messages['message_date'] = pd.to_datetime(df_messages['message_date'])\n",
    "\n",
    "df_messages['message_date'].dtype\n"
   ]
  },
  {
   "cell_type": "markdown",
   "metadata": {
    "id": "HvLid7iD0q1B"
   },
   "source": [
    "### Enriquecer los datos"
   ]
  },
  {
   "cell_type": "code",
   "execution_count": null,
   "metadata": {
    "id": "zYEXZac10q1C"
   },
   "outputs": [],
   "source": []
  },
  {
   "cell_type": "markdown",
   "metadata": {
    "id": "bStkaxn40q1C"
   },
   "source": [
    "## Internet"
   ]
  },
  {
   "cell_type": "code",
   "execution_count": 18,
   "metadata": {
    "id": "e-Uz5qyn0q1C"
   },
   "outputs": [
    {
     "name": "stdout",
     "output_type": "stream",
     "text": [
      "<class 'pandas.core.frame.DataFrame'>\n",
      "RangeIndex: 104825 entries, 0 to 104824\n",
      "Data columns (total 4 columns):\n",
      " #   Column        Non-Null Count   Dtype  \n",
      "---  ------        --------------   -----  \n",
      " 0   id            104825 non-null  object \n",
      " 1   user_id       104825 non-null  int64  \n",
      " 2   session_date  104825 non-null  object \n",
      " 3   mb_used       104825 non-null  float64\n",
      "dtypes: float64(1), int64(1), object(2)\n",
      "memory usage: 3.2+ MB\n"
     ]
    }
   ],
   "source": [
    "# Imprime la información general/resumida sobre el DataFrame de internet\n",
    "df_internet.info(show_counts=True)\n"
   ]
  },
  {
   "cell_type": "code",
   "execution_count": 19,
   "metadata": {
    "id": "9r3x_XLw0q1C"
   },
   "outputs": [
    {
     "data": {
      "text/html": [
       "<div>\n",
       "<style scoped>\n",
       "    .dataframe tbody tr th:only-of-type {\n",
       "        vertical-align: middle;\n",
       "    }\n",
       "\n",
       "    .dataframe tbody tr th {\n",
       "        vertical-align: top;\n",
       "    }\n",
       "\n",
       "    .dataframe thead th {\n",
       "        text-align: right;\n",
       "    }\n",
       "</style>\n",
       "<table border=\"1\" class=\"dataframe\">\n",
       "  <thead>\n",
       "    <tr style=\"text-align: right;\">\n",
       "      <th></th>\n",
       "      <th>id</th>\n",
       "      <th>user_id</th>\n",
       "      <th>session_date</th>\n",
       "      <th>mb_used</th>\n",
       "    </tr>\n",
       "  </thead>\n",
       "  <tbody>\n",
       "    <tr>\n",
       "      <th>0</th>\n",
       "      <td>1000_13</td>\n",
       "      <td>1000</td>\n",
       "      <td>2018-12-29</td>\n",
       "      <td>89.86</td>\n",
       "    </tr>\n",
       "    <tr>\n",
       "      <th>1</th>\n",
       "      <td>1000_204</td>\n",
       "      <td>1000</td>\n",
       "      <td>2018-12-31</td>\n",
       "      <td>0.00</td>\n",
       "    </tr>\n",
       "    <tr>\n",
       "      <th>2</th>\n",
       "      <td>1000_379</td>\n",
       "      <td>1000</td>\n",
       "      <td>2018-12-28</td>\n",
       "      <td>660.40</td>\n",
       "    </tr>\n",
       "    <tr>\n",
       "      <th>3</th>\n",
       "      <td>1000_413</td>\n",
       "      <td>1000</td>\n",
       "      <td>2018-12-26</td>\n",
       "      <td>270.99</td>\n",
       "    </tr>\n",
       "    <tr>\n",
       "      <th>4</th>\n",
       "      <td>1000_442</td>\n",
       "      <td>1000</td>\n",
       "      <td>2018-12-27</td>\n",
       "      <td>880.22</td>\n",
       "    </tr>\n",
       "    <tr>\n",
       "      <th>5</th>\n",
       "      <td>1001_0</td>\n",
       "      <td>1001</td>\n",
       "      <td>2018-08-24</td>\n",
       "      <td>284.68</td>\n",
       "    </tr>\n",
       "    <tr>\n",
       "      <th>6</th>\n",
       "      <td>1001_3</td>\n",
       "      <td>1001</td>\n",
       "      <td>2018-12-09</td>\n",
       "      <td>656.04</td>\n",
       "    </tr>\n",
       "    <tr>\n",
       "      <th>7</th>\n",
       "      <td>1001_4</td>\n",
       "      <td>1001</td>\n",
       "      <td>2018-11-04</td>\n",
       "      <td>16.97</td>\n",
       "    </tr>\n",
       "    <tr>\n",
       "      <th>8</th>\n",
       "      <td>1001_10</td>\n",
       "      <td>1001</td>\n",
       "      <td>2018-11-27</td>\n",
       "      <td>135.18</td>\n",
       "    </tr>\n",
       "    <tr>\n",
       "      <th>9</th>\n",
       "      <td>1001_15</td>\n",
       "      <td>1001</td>\n",
       "      <td>2018-12-13</td>\n",
       "      <td>761.92</td>\n",
       "    </tr>\n",
       "  </tbody>\n",
       "</table>\n",
       "</div>"
      ],
      "text/plain": [
       "         id  user_id session_date  mb_used\n",
       "0   1000_13     1000   2018-12-29    89.86\n",
       "1  1000_204     1000   2018-12-31     0.00\n",
       "2  1000_379     1000   2018-12-28   660.40\n",
       "3  1000_413     1000   2018-12-26   270.99\n",
       "4  1000_442     1000   2018-12-27   880.22\n",
       "5    1001_0     1001   2018-08-24   284.68\n",
       "6    1001_3     1001   2018-12-09   656.04\n",
       "7    1001_4     1001   2018-11-04    16.97\n",
       "8   1001_10     1001   2018-11-27   135.18\n",
       "9   1001_15     1001   2018-12-13   761.92"
      ]
     },
     "execution_count": 19,
     "metadata": {},
     "output_type": "execute_result"
    }
   ],
   "source": [
    "# Imprime una muestra de datos para el tráfico de internet\n",
    "df_internet.head(10)\n"
   ]
  },
  {
   "cell_type": "markdown",
   "metadata": {
    "id": "EzOG5ik30q1D"
   },
   "source": [
    "El diccionario 'internet' contiene información sobre el total de datos usados por los 500 usuarios en nuestra muestra. Hay un total de 104,085 filas y 4 columnas. Ningún dato nulo. En el tipo de datos, la columna 'session_date' considero mejor un cambio, originalmente en tipo objetc, cambiar a datetime."
   ]
  },
  {
   "cell_type": "markdown",
   "metadata": {
    "id": "yA0tkPFg0q1D"
   },
   "source": [
    "### Corregir los datos"
   ]
  },
  {
   "cell_type": "code",
   "execution_count": 20,
   "metadata": {
    "id": "zVeanzdd0q1E"
   },
   "outputs": [
    {
     "data": {
      "text/plain": [
       "dtype('<M8[ns]')"
      ]
     },
     "execution_count": 20,
     "metadata": {},
     "output_type": "execute_result"
    }
   ],
   "source": [
    "df_internet['session_date'] = pd.to_datetime(df_internet['session_date'])\n",
    "\n",
    "df_internet['session_date'].dtype"
   ]
  },
  {
   "cell_type": "markdown",
   "metadata": {
    "id": "e8_mLF4a0q1E"
   },
   "source": [
    "### Enriquecer los datos"
   ]
  },
  {
   "cell_type": "markdown",
   "metadata": {
    "id": "3UA2cqIW0q1E"
   },
   "source": [
    "## Estudiar las condiciones de las tarifas"
   ]
  },
  {
   "cell_type": "code",
   "execution_count": 21,
   "metadata": {
    "id": "i409op8p0q1F"
   },
   "outputs": [
    {
     "data": {
      "text/html": [
       "<div>\n",
       "<style scoped>\n",
       "    .dataframe tbody tr th:only-of-type {\n",
       "        vertical-align: middle;\n",
       "    }\n",
       "\n",
       "    .dataframe tbody tr th {\n",
       "        vertical-align: top;\n",
       "    }\n",
       "\n",
       "    .dataframe thead th {\n",
       "        text-align: right;\n",
       "    }\n",
       "</style>\n",
       "<table border=\"1\" class=\"dataframe\">\n",
       "  <thead>\n",
       "    <tr style=\"text-align: right;\">\n",
       "      <th></th>\n",
       "      <th>mssgs_included</th>\n",
       "      <th>mb_included</th>\n",
       "      <th>min_included</th>\n",
       "      <th>usd_monthly_pay</th>\n",
       "      <th>usd_per_gb</th>\n",
       "      <th>usd_per_message</th>\n",
       "      <th>usd_per_minute</th>\n",
       "      <th>plan_name</th>\n",
       "    </tr>\n",
       "  </thead>\n",
       "  <tbody>\n",
       "    <tr>\n",
       "      <th>0</th>\n",
       "      <td>50</td>\n",
       "      <td>15360</td>\n",
       "      <td>500</td>\n",
       "      <td>20</td>\n",
       "      <td>10</td>\n",
       "      <td>0.03</td>\n",
       "      <td>0.03</td>\n",
       "      <td>surf</td>\n",
       "    </tr>\n",
       "    <tr>\n",
       "      <th>1</th>\n",
       "      <td>1000</td>\n",
       "      <td>30720</td>\n",
       "      <td>3000</td>\n",
       "      <td>70</td>\n",
       "      <td>7</td>\n",
       "      <td>0.01</td>\n",
       "      <td>0.01</td>\n",
       "      <td>ultimate</td>\n",
       "    </tr>\n",
       "  </tbody>\n",
       "</table>\n",
       "</div>"
      ],
      "text/plain": [
       "   mssgs_included  mb_included  min_included  usd_monthly_pay  usd_per_gb  \\\n",
       "0              50        15360           500               20          10   \n",
       "1            1000        30720          3000               70           7   \n",
       "\n",
       "   usd_per_message  usd_per_minute plan_name  \n",
       "0             0.03            0.03      surf  \n",
       "1             0.01            0.01  ultimate  "
      ]
     },
     "execution_count": 21,
     "metadata": {},
     "output_type": "execute_result"
    }
   ],
   "source": [
    "# Imprime las condiciones de la tarifa y asegúrate de que te quedan claras\n",
    "df_plans.head()\n"
   ]
  },
  {
   "cell_type": "code",
   "execution_count": 22,
   "metadata": {
    "id": "A332cedB0q1G"
   },
   "outputs": [
    {
     "name": "stdout",
     "output_type": "stream",
     "text": [
      "      user_id  month  calls_per_month\n",
      "0        1000     12               16\n",
      "1        1001      8               27\n",
      "2        1001      9               49\n",
      "3        1001     10               65\n",
      "4        1001     11               64\n",
      "...       ...    ...              ...\n",
      "2253     1498     12               39\n",
      "2254     1499      9               41\n",
      "2255     1499     10               53\n",
      "2256     1499     11               45\n",
      "2257     1499     12               65\n",
      "\n",
      "[2258 rows x 3 columns]\n"
     ]
    }
   ],
   "source": [
    "# Calcula el número de llamadas hechas por cada usuario al mes. Guarda el resultado.\n",
    "df_calls['month'] = df_calls['call_date'].dt.month\n",
    "\n",
    "calls_per_user_per_month = df_calls.groupby(['user_id', 'month']).size().reset_index(name='calls_per_month')\n",
    "\n",
    "calls_per_user_per_month['calls_per_month'] = calls_per_user_per_month['calls_per_month'].astype(int)\n",
    "\n",
    "print(calls_per_user_per_month)"
   ]
  },
  {
   "cell_type": "code",
   "execution_count": 23,
   "metadata": {
    "id": "aw2cmuql0q1G"
   },
   "outputs": [
    {
     "name": "stdout",
     "output_type": "stream",
     "text": [
      "      user_id  month  minutes_per_month\n",
      "0        1000     12                124\n",
      "1        1001      8                182\n",
      "2        1001      9                315\n",
      "3        1001     10                393\n",
      "4        1001     11                426\n",
      "...       ...    ...                ...\n",
      "2253     1498     12                339\n",
      "2254     1499      9                346\n",
      "2255     1499     10                385\n",
      "2256     1499     11                308\n",
      "2257     1499     12                496\n",
      "\n",
      "[2258 rows x 3 columns]\n"
     ]
    }
   ],
   "source": [
    "# Calcula la cantidad de minutos usados por cada usuario al mes. Guarda el resultado.\n",
    "df_calls['month'] = df_calls['call_date'].dt.month\n",
    "\n",
    "minutes_per_user_per_month = df_calls.groupby(['user_id', 'month'])['call_rounded'].sum().reset_index(name='minutes_per_month')\n",
    "\n",
    "print(minutes_per_user_per_month)\n"
   ]
  },
  {
   "cell_type": "code",
   "execution_count": 24,
   "metadata": {
    "id": "CcQvNHn60q1G"
   },
   "outputs": [
    {
     "name": "stdout",
     "output_type": "stream",
     "text": [
      "      user_id  month  mssg_per_month\n",
      "0        1000     12              11\n",
      "1        1001      8              30\n",
      "2        1001      9              44\n",
      "3        1001     10              53\n",
      "4        1001     11              36\n",
      "...       ...    ...             ...\n",
      "1801     1496      9              21\n",
      "1802     1496     10              18\n",
      "1803     1496     11              13\n",
      "1804     1496     12              11\n",
      "1805     1497     12              50\n",
      "\n",
      "[1806 rows x 3 columns]\n"
     ]
    }
   ],
   "source": [
    "# Calcula el número de mensajes enviados por cada usuario al mes. Guarda el resultado.\n",
    "df_messages['month'] = df_messages['message_date'].dt.month\n",
    "\n",
    "messages_per_user_per_month = df_messages.groupby(['user_id','month'])['message_date'].count().reset_index(name ='mssg_per_month')\n",
    "\n",
    "messages_per_user_per_month['mssg_per_month'] = messages_per_user_per_month['mssg_per_month'].astype(int)\n",
    "\n",
    "print(messages_per_user_per_month)\n"
   ]
  },
  {
   "cell_type": "code",
   "execution_count": 25,
   "metadata": {
    "id": "H1AqN2eG0q1H"
   },
   "outputs": [
    {
     "name": "stdout",
     "output_type": "stream",
     "text": [
      "      user_id  month  mb_per_month  gb_per_month  gb_rounded\n",
      "0        1000     12       1901.47      1.856904           2\n",
      "1        1001      8       6919.15      6.756982           7\n",
      "2        1001      9      13314.82     13.002754          14\n",
      "3        1001     10      22330.49     21.807119          22\n",
      "4        1001     11      18504.30     18.070605          19\n",
      "...       ...    ...           ...           ...         ...\n",
      "2272     1498     12      23137.69     22.595400          23\n",
      "2273     1499      9      12984.76     12.680430          13\n",
      "2274     1499     10      19492.43     19.035576          20\n",
      "2275     1499     11      16813.83     16.419756          17\n",
      "2276     1499     12      22059.21     21.542197          22\n",
      "\n",
      "[2277 rows x 5 columns]\n"
     ]
    }
   ],
   "source": [
    "# Calcula el volumen del tráfico de Internet usado por cada usuario al mes. Guarda el resultado.\n",
    " \n",
    "import numpy as np\n",
    "\n",
    "df_internet['month'] = df_internet['session_date'].dt.month\n",
    "\n",
    "mb_per_user_per_month = df_internet.groupby(['user_id', 'month'])['mb_used'].sum().reset_index(name='mb_per_month')\n",
    "\n",
    "# Convertir a GB\n",
    "mb_per_user_per_month['gb_per_month'] = mb_per_user_per_month['mb_per_month']/1024\n",
    "\n",
    "# Redondear\n",
    "mb_per_user_per_month['gb_rounded'] = np.ceil(mb_per_user_per_month['gb_per_month']).astype(int) \n",
    "\n",
    " \n",
    "print(mb_per_user_per_month)\n",
    "\n",
    "\n"
   ]
  },
  {
   "cell_type": "markdown",
   "metadata": {
    "id": "VDfYXnj80q1H"
   },
   "source": [
    "Después de fusionar las 4, se corregirá con lo siguiente: rellenar datos nulos con 0 para facilitar los calculos más adelante, y cambiar el tipo de datos en dos columnas, de float a int, por que en esas columnas se manejan unicamente número enteros y con este cambio es más amigable a la vista."
   ]
  },
  {
   "cell_type": "code",
   "execution_count": 26,
   "metadata": {
    "id": "FW99ykyf0q1H"
   },
   "outputs": [
    {
     "name": "stdout",
     "output_type": "stream",
     "text": [
      "   user_id  month  mssg_per_month  mb_per_month  gb_per_month  gb_rounded  \\\n",
      "0     1000     12              11       1901.47      1.856904           2   \n",
      "1     1001      8              30       6919.15      6.756982           7   \n",
      "2     1001      9              44      13314.82     13.002754          14   \n",
      "3     1001     10              53      22330.49     21.807119          22   \n",
      "4     1001     11              36      18504.30     18.070605          19   \n",
      "5     1001     12              44      19369.18     18.915215          19   \n",
      "6     1002     10              15       6552.01      6.398447           7   \n",
      "7     1002     11              32      19345.08     18.891680          19   \n",
      "8     1002     12              41      14396.24     14.058828          15   \n",
      "9     1003     12              50      27044.14     26.410293          27   \n",
      "\n",
      "   minutes_per_month  calls_per_month  \n",
      "0                124               16  \n",
      "1                182               27  \n",
      "2                315               49  \n",
      "3                393               65  \n",
      "4                426               64  \n",
      "5                412               56  \n",
      "6                 59               11  \n",
      "7                386               55  \n",
      "8                384               47  \n",
      "9               1104              149  \n",
      "<class 'pandas.core.frame.DataFrame'>\n",
      "Int64Index: 2293 entries, 0 to 2292\n",
      "Data columns (total 8 columns):\n",
      " #   Column             Non-Null Count  Dtype  \n",
      "---  ------             --------------  -----  \n",
      " 0   user_id            2293 non-null   int64  \n",
      " 1   month              2293 non-null   int64  \n",
      " 2   mssg_per_month     2293 non-null   int64  \n",
      " 3   mb_per_month       2293 non-null   float64\n",
      " 4   gb_per_month       2293 non-null   float64\n",
      " 5   gb_rounded         2293 non-null   int64  \n",
      " 6   minutes_per_month  2293 non-null   int64  \n",
      " 7   calls_per_month    2293 non-null   int64  \n",
      "dtypes: float64(2), int64(6)\n",
      "memory usage: 161.2 KB\n"
     ]
    }
   ],
   "source": [
    "# Fusiona los datos de llamadas, minutos, mensajes e Internet con base en user_id y month\n",
    "totals_per_user = messages_per_user_per_month\n",
    "\n",
    "totals_per_user = totals_per_user.merge(mb_per_user_per_month, on=['user_id','month'], how='outer')\n",
    "\n",
    "totals_per_user = totals_per_user.merge(minutes_per_user_per_month, on=['user_id','month'], how='outer')\n",
    "\n",
    "totals_per_user = totals_per_user.merge(calls_per_user_per_month, on=['user_id','month'], how='outer')\n",
    "\n",
    "\n",
    "\n",
    "\n",
    "# Corregir datos, rellenando nulos con 0 y cambiando el tipo de datos en las columnas que solo manejan enteros\n",
    "totals_per_user = totals_per_user.fillna(0)\n",
    "\n",
    "totals_per_user['mssg_per_month'] = totals_per_user['mssg_per_month'].astype(int)\n",
    "totals_per_user['calls_per_month'] = totals_per_user['calls_per_month'].astype(int)\n",
    "totals_per_user['gb_rounded'] = totals_per_user['gb_rounded'].astype(int)\n",
    "totals_per_user['minutes_per_month'] = totals_per_user['minutes_per_month'].astype(int)\n",
    "\n",
    "print(totals_per_user.head(10))\n",
    "totals_per_user.info()"
   ]
  },
  {
   "cell_type": "code",
   "execution_count": 27,
   "metadata": {
    "id": "0dNOXHag0q1H"
   },
   "outputs": [
    {
     "name": "stdout",
     "output_type": "stream",
     "text": [
      "   user_id  month  mssg_per_month  mb_per_month  gb_per_month  gb_rounded  \\\n",
      "0     1000     12              11       1901.47      1.856904           2   \n",
      "1     1001      8              30       6919.15      6.756982           7   \n",
      "2     1001      9              44      13314.82     13.002754          14   \n",
      "3     1001     10              53      22330.49     21.807119          22   \n",
      "4     1001     11              36      18504.30     18.070605          19   \n",
      "5     1001     12              44      19369.18     18.915215          19   \n",
      "6     1002     10              15       6552.01      6.398447           7   \n",
      "7     1002     11              32      19345.08     18.891680          19   \n",
      "8     1002     12              41      14396.24     14.058828          15   \n",
      "9     1003     12              50      27044.14     26.410293          27   \n",
      "\n",
      "   minutes_per_month  calls_per_month plan_name  \n",
      "0                124               16  ultimate  \n",
      "1                182               27      surf  \n",
      "2                315               49      surf  \n",
      "3                393               65      surf  \n",
      "4                426               64      surf  \n",
      "5                412               56      surf  \n",
      "6                 59               11      surf  \n",
      "7                386               55      surf  \n",
      "8                384               47      surf  \n",
      "9               1104              149      surf  \n"
     ]
    }
   ],
   "source": [
    "# Añade la información de la tarifa\n",
    "totals_per_user = totals_per_user.merge(df_users[['user_id','plan_name']], on='user_id', how='left')\n",
    "\n",
    "\n",
    "print(totals_per_user.head(10))\n",
    " "
   ]
  },
  {
   "cell_type": "markdown",
   "metadata": {
    "id": "1IwGo4wg0q1I"
   },
   "source": [
    " "
   ]
  },
  {
   "cell_type": "code",
   "execution_count": 28,
   "metadata": {},
   "outputs": [
    {
     "name": "stdout",
     "output_type": "stream",
     "text": [
      "   user_id  month  mssg_per_month  mb_per_month  gb_per_month  gb_rounded  \\\n",
      "0     1000     12              11       1901.47      1.856904           2   \n",
      "1     1001      8              30       6919.15      6.756982           7   \n",
      "2     1001      9              44      13314.82     13.002754          14   \n",
      "3     1001     10              53      22330.49     21.807119          22   \n",
      "4     1001     11              36      18504.30     18.070605          19   \n",
      "5     1001     12              44      19369.18     18.915215          19   \n",
      "6     1002     10              15       6552.01      6.398447           7   \n",
      "7     1002     11              32      19345.08     18.891680          19   \n",
      "8     1002     12              41      14396.24     14.058828          15   \n",
      "9     1003     12              50      27044.14     26.410293          27   \n",
      "\n",
      "   minutes_per_month  calls_per_month plan_name  \\\n",
      "0                124               16  ultimate   \n",
      "1                182               27      surf   \n",
      "2                315               49      surf   \n",
      "3                393               65      surf   \n",
      "4                426               64      surf   \n",
      "5                412               56      surf   \n",
      "6                 59               11      surf   \n",
      "7                386               55      surf   \n",
      "8                384               47      surf   \n",
      "9               1104              149      surf   \n",
      "\n",
      "                                    city  \n",
      "0  Atlanta-Sandy Springs-Roswell, GA MSA  \n",
      "1        Seattle-Tacoma-Bellevue, WA MSA  \n",
      "2        Seattle-Tacoma-Bellevue, WA MSA  \n",
      "3        Seattle-Tacoma-Bellevue, WA MSA  \n",
      "4        Seattle-Tacoma-Bellevue, WA MSA  \n",
      "5        Seattle-Tacoma-Bellevue, WA MSA  \n",
      "6   Las Vegas-Henderson-Paradise, NV MSA  \n",
      "7   Las Vegas-Henderson-Paradise, NV MSA  \n",
      "8   Las Vegas-Henderson-Paradise, NV MSA  \n",
      "9                          Tulsa, OK MSA  \n"
     ]
    }
   ],
   "source": [
    "# Añade la información de la ciudad\n",
    "totals_per_user = totals_per_user.merge(df_users[['user_id','city']], on='user_id', how='left')\n",
    "\n",
    "\n",
    "print(totals_per_user.head(10))"
   ]
  },
  {
   "cell_type": "code",
   "execution_count": 29,
   "metadata": {
    "id": "5FGCf_c60q1I",
    "scrolled": true
   },
   "outputs": [
    {
     "name": "stdout",
     "output_type": "stream",
     "text": [
      "   user_id  month  mssg_per_month  mb_per_month  gb_per_month  gb_rounded  \\\n",
      "0     1000     12              11       1901.47      1.856904           2   \n",
      "1     1006     11              15       2068.37      2.019893           3   \n",
      "2     1006     12             139      32118.82     31.366035          32   \n",
      "3     1008     10              21      17106.99     16.706045          17   \n",
      "4     1008     11              37      23676.72     23.121797          24   \n",
      "5     1008     12              26      14689.33     14.345049          15   \n",
      "6     1011      6              21       6685.11      6.528428           7   \n",
      "7     1011      7              53      21046.41     20.553135          21   \n",
      "8     1011      8              54      21099.37     20.604854          21   \n",
      "9     1011      9              60      16638.46     16.248496          17   \n",
      "\n",
      "   minutes_per_month  calls_per_month plan_name  \\\n",
      "0                124               16  ultimate   \n",
      "1                 10                2  ultimate   \n",
      "2                 59                9  ultimate   \n",
      "3                476               71  ultimate   \n",
      "4                446               63  ultimate   \n",
      "5                634               85  ultimate   \n",
      "6                118               19  ultimate   \n",
      "7                499               63  ultimate   \n",
      "8                486               61  ultimate   \n",
      "9                484               73  ultimate   \n",
      "\n",
      "                                     city  ...  mb_included  min_included  \\\n",
      "0   Atlanta-Sandy Springs-Roswell, GA MSA  ...        30720          3000   \n",
      "1  San Francisco-Oakland-Berkeley, CA MSA  ...        30720          3000   \n",
      "2  San Francisco-Oakland-Berkeley, CA MSA  ...        30720          3000   \n",
      "3       Orlando-Kissimmee-Sanford, FL MSA  ...        30720          3000   \n",
      "4       Orlando-Kissimmee-Sanford, FL MSA  ...        30720          3000   \n",
      "5       Orlando-Kissimmee-Sanford, FL MSA  ...        30720          3000   \n",
      "6                Cleveland-Elyria, OH MSA  ...        30720          3000   \n",
      "7                Cleveland-Elyria, OH MSA  ...        30720          3000   \n",
      "8                Cleveland-Elyria, OH MSA  ...        30720          3000   \n",
      "9                Cleveland-Elyria, OH MSA  ...        30720          3000   \n",
      "\n",
      "   usd_monthly_pay  usd_per_gb  usd_per_message  usd_per_minute  \\\n",
      "0               70           7             0.01            0.01   \n",
      "1               70           7             0.01            0.01   \n",
      "2               70           7             0.01            0.01   \n",
      "3               70           7             0.01            0.01   \n",
      "4               70           7             0.01            0.01   \n",
      "5               70           7             0.01            0.01   \n",
      "6               70           7             0.01            0.01   \n",
      "7               70           7             0.01            0.01   \n",
      "8               70           7             0.01            0.01   \n",
      "9               70           7             0.01            0.01   \n",
      "\n",
      "   extra_minutes  extra_gb  extra_mssgs  total_revenue  \n",
      "0              0       0.0            0           70.0  \n",
      "1              0       0.0            0           70.0  \n",
      "2              0       2.0            0           84.0  \n",
      "3              0       0.0            0           70.0  \n",
      "4              0       0.0            0           70.0  \n",
      "5              0       0.0            0           70.0  \n",
      "6              0       0.0            0           70.0  \n",
      "7              0       0.0            0           70.0  \n",
      "8              0       0.0            0           70.0  \n",
      "9              0       0.0            0           70.0  \n",
      "\n",
      "[10 rows x 21 columns]\n"
     ]
    }
   ],
   "source": [
    "# Calcula el ingreso mensual para cada usuario\n",
    "# Fusionar con df_plans para incluir las cantidades incluidas por mes \n",
    "\n",
    "totals_per_user = totals_per_user.merge(df_plans, on='plan_name', how='outer')\n",
    "\n",
    "\n",
    "# Evitar celdas vacías post fusión, rellenandolas con 0\n",
    "totals_per_user[['minutes_per_month','mb_per_month','mssg_per_month']] = totals_per_user[['minutes_per_month','mb_per_month','mssg_per_month']].fillna(0)\n",
    "\n",
    "# Calcular sí el consumo excede lo incluído en cada plan\n",
    "\n",
    "totals_per_user['extra_minutes'] = (totals_per_user['minutes_per_month']-totals_per_user['min_included']).clip(lower=0) \n",
    "totals_per_user['extra_gb'] = (totals_per_user['gb_rounded']-totals_per_user['mb_included']/1024).clip(lower=0)\n",
    "totals_per_user['extra_mssgs'] = (totals_per_user['mssg_per_month']-totals_per_user['mssgs_included']).clip(lower=0)\n",
    "\n",
    "# Calcular el total facturado por mes a cada usuario\n",
    "totals_per_user['total_revenue'] = ( \n",
    "    totals_per_user['usd_monthly_pay'] +\n",
    "    (totals_per_user['extra_minutes'] * totals_per_user['usd_per_minute']) +\n",
    "    (totals_per_user['extra_gb'] * totals_per_user['usd_per_gb']) +\n",
    "    (totals_per_user['extra_mssgs'] * totals_per_user['usd_per_message'])\n",
    ")\n",
    " \n",
    "print(totals_per_user.head(10))"
   ]
  },
  {
   "cell_type": "code",
   "execution_count": 30,
   "metadata": {},
   "outputs": [
    {
     "data": {
      "text/html": [
       "<div>\n",
       "<style scoped>\n",
       "    .dataframe tbody tr th:only-of-type {\n",
       "        vertical-align: middle;\n",
       "    }\n",
       "\n",
       "    .dataframe tbody tr th {\n",
       "        vertical-align: top;\n",
       "    }\n",
       "\n",
       "    .dataframe thead th {\n",
       "        text-align: right;\n",
       "    }\n",
       "</style>\n",
       "<table border=\"1\" class=\"dataframe\">\n",
       "  <thead>\n",
       "    <tr style=\"text-align: right;\">\n",
       "      <th></th>\n",
       "      <th>user_id</th>\n",
       "      <th>month</th>\n",
       "      <th>mssg_per_month</th>\n",
       "      <th>mb_per_month</th>\n",
       "      <th>gb_per_month</th>\n",
       "      <th>gb_rounded</th>\n",
       "      <th>minutes_per_month</th>\n",
       "      <th>calls_per_month</th>\n",
       "      <th>plan_name</th>\n",
       "      <th>city</th>\n",
       "      <th>...</th>\n",
       "      <th>mb_included</th>\n",
       "      <th>min_included</th>\n",
       "      <th>usd_monthly_pay</th>\n",
       "      <th>usd_per_gb</th>\n",
       "      <th>usd_per_message</th>\n",
       "      <th>usd_per_minute</th>\n",
       "      <th>extra_minutes</th>\n",
       "      <th>extra_gb</th>\n",
       "      <th>extra_mssgs</th>\n",
       "      <th>total_revenue</th>\n",
       "    </tr>\n",
       "  </thead>\n",
       "  <tbody>\n",
       "    <tr>\n",
       "      <th>720</th>\n",
       "      <td>1001</td>\n",
       "      <td>8</td>\n",
       "      <td>30</td>\n",
       "      <td>6919.15</td>\n",
       "      <td>6.756982</td>\n",
       "      <td>7</td>\n",
       "      <td>182</td>\n",
       "      <td>27</td>\n",
       "      <td>surf</td>\n",
       "      <td>Seattle-Tacoma-Bellevue, WA MSA</td>\n",
       "      <td>...</td>\n",
       "      <td>15360</td>\n",
       "      <td>500</td>\n",
       "      <td>20</td>\n",
       "      <td>10</td>\n",
       "      <td>0.03</td>\n",
       "      <td>0.03</td>\n",
       "      <td>0</td>\n",
       "      <td>0.0</td>\n",
       "      <td>0</td>\n",
       "      <td>20.00</td>\n",
       "    </tr>\n",
       "    <tr>\n",
       "      <th>721</th>\n",
       "      <td>1001</td>\n",
       "      <td>9</td>\n",
       "      <td>44</td>\n",
       "      <td>13314.82</td>\n",
       "      <td>13.002754</td>\n",
       "      <td>14</td>\n",
       "      <td>315</td>\n",
       "      <td>49</td>\n",
       "      <td>surf</td>\n",
       "      <td>Seattle-Tacoma-Bellevue, WA MSA</td>\n",
       "      <td>...</td>\n",
       "      <td>15360</td>\n",
       "      <td>500</td>\n",
       "      <td>20</td>\n",
       "      <td>10</td>\n",
       "      <td>0.03</td>\n",
       "      <td>0.03</td>\n",
       "      <td>0</td>\n",
       "      <td>0.0</td>\n",
       "      <td>0</td>\n",
       "      <td>20.00</td>\n",
       "    </tr>\n",
       "    <tr>\n",
       "      <th>722</th>\n",
       "      <td>1001</td>\n",
       "      <td>10</td>\n",
       "      <td>53</td>\n",
       "      <td>22330.49</td>\n",
       "      <td>21.807119</td>\n",
       "      <td>22</td>\n",
       "      <td>393</td>\n",
       "      <td>65</td>\n",
       "      <td>surf</td>\n",
       "      <td>Seattle-Tacoma-Bellevue, WA MSA</td>\n",
       "      <td>...</td>\n",
       "      <td>15360</td>\n",
       "      <td>500</td>\n",
       "      <td>20</td>\n",
       "      <td>10</td>\n",
       "      <td>0.03</td>\n",
       "      <td>0.03</td>\n",
       "      <td>0</td>\n",
       "      <td>7.0</td>\n",
       "      <td>3</td>\n",
       "      <td>90.09</td>\n",
       "    </tr>\n",
       "    <tr>\n",
       "      <th>723</th>\n",
       "      <td>1001</td>\n",
       "      <td>11</td>\n",
       "      <td>36</td>\n",
       "      <td>18504.30</td>\n",
       "      <td>18.070605</td>\n",
       "      <td>19</td>\n",
       "      <td>426</td>\n",
       "      <td>64</td>\n",
       "      <td>surf</td>\n",
       "      <td>Seattle-Tacoma-Bellevue, WA MSA</td>\n",
       "      <td>...</td>\n",
       "      <td>15360</td>\n",
       "      <td>500</td>\n",
       "      <td>20</td>\n",
       "      <td>10</td>\n",
       "      <td>0.03</td>\n",
       "      <td>0.03</td>\n",
       "      <td>0</td>\n",
       "      <td>4.0</td>\n",
       "      <td>0</td>\n",
       "      <td>60.00</td>\n",
       "    </tr>\n",
       "    <tr>\n",
       "      <th>724</th>\n",
       "      <td>1001</td>\n",
       "      <td>12</td>\n",
       "      <td>44</td>\n",
       "      <td>19369.18</td>\n",
       "      <td>18.915215</td>\n",
       "      <td>19</td>\n",
       "      <td>412</td>\n",
       "      <td>56</td>\n",
       "      <td>surf</td>\n",
       "      <td>Seattle-Tacoma-Bellevue, WA MSA</td>\n",
       "      <td>...</td>\n",
       "      <td>15360</td>\n",
       "      <td>500</td>\n",
       "      <td>20</td>\n",
       "      <td>10</td>\n",
       "      <td>0.03</td>\n",
       "      <td>0.03</td>\n",
       "      <td>0</td>\n",
       "      <td>4.0</td>\n",
       "      <td>0</td>\n",
       "      <td>60.00</td>\n",
       "    </tr>\n",
       "  </tbody>\n",
       "</table>\n",
       "<p>5 rows × 21 columns</p>\n",
       "</div>"
      ],
      "text/plain": [
       "     user_id  month  mssg_per_month  mb_per_month  gb_per_month  gb_rounded  \\\n",
       "720     1001      8              30       6919.15      6.756982           7   \n",
       "721     1001      9              44      13314.82     13.002754          14   \n",
       "722     1001     10              53      22330.49     21.807119          22   \n",
       "723     1001     11              36      18504.30     18.070605          19   \n",
       "724     1001     12              44      19369.18     18.915215          19   \n",
       "\n",
       "     minutes_per_month  calls_per_month plan_name  \\\n",
       "720                182               27      surf   \n",
       "721                315               49      surf   \n",
       "722                393               65      surf   \n",
       "723                426               64      surf   \n",
       "724                412               56      surf   \n",
       "\n",
       "                                city  ...  mb_included  min_included  \\\n",
       "720  Seattle-Tacoma-Bellevue, WA MSA  ...        15360           500   \n",
       "721  Seattle-Tacoma-Bellevue, WA MSA  ...        15360           500   \n",
       "722  Seattle-Tacoma-Bellevue, WA MSA  ...        15360           500   \n",
       "723  Seattle-Tacoma-Bellevue, WA MSA  ...        15360           500   \n",
       "724  Seattle-Tacoma-Bellevue, WA MSA  ...        15360           500   \n",
       "\n",
       "     usd_monthly_pay  usd_per_gb  usd_per_message  usd_per_minute  \\\n",
       "720               20          10             0.03            0.03   \n",
       "721               20          10             0.03            0.03   \n",
       "722               20          10             0.03            0.03   \n",
       "723               20          10             0.03            0.03   \n",
       "724               20          10             0.03            0.03   \n",
       "\n",
       "     extra_minutes  extra_gb  extra_mssgs  total_revenue  \n",
       "720              0       0.0            0          20.00  \n",
       "721              0       0.0            0          20.00  \n",
       "722              0       7.0            3          90.09  \n",
       "723              0       4.0            0          60.00  \n",
       "724              0       4.0            0          60.00  \n",
       "\n",
       "[5 rows x 21 columns]"
      ]
     },
     "execution_count": 30,
     "metadata": {},
     "output_type": "execute_result"
    }
   ],
   "source": [
    "totals_per_user[totals_per_user[\"user_id\"] == 1001]"
   ]
  },
  {
   "cell_type": "markdown",
   "metadata": {
    "id": "-jtyHzJb0q1I"
   },
   "source": [
    "## Estudia el comportamiento de usuario"
   ]
  },
  {
   "cell_type": "markdown",
   "metadata": {
    "id": "vtW4CJEe0q1J"
   },
   "source": [
    "### Llamadas"
   ]
  },
  {
   "cell_type": "code",
   "execution_count": 31,
   "metadata": {
    "id": "Jf5v5--k0q1J"
   },
   "outputs": [
    {
     "data": {
      "image/png": "[encoded data removed]",
      "text/plain": [
       "<Figure size 640x480 with 1 Axes>"
      ]
     },
     "metadata": {},
     "output_type": "display_data"
    }
   ],
   "source": [
    "# Compara la duración promedio de llamadas por cada plan y por cada mes. Traza un gráfico de barras para visualizarla.\n",
    "\n",
    "import matplotlib.pyplot as plt\n",
    "\n",
    "# Calcula la duración promedio de llamadas por plan y mes\n",
    "avg_call_duration = totals_per_user.groupby(['plan_name', 'month'])['minutes_per_month'].mean().reset_index()\n",
    "\n",
    "# Crea gráfica de barras\n",
    "\n",
    "colors = {'surf':'gray', 'ultimate':'pink'}\n",
    "\n",
    "for plan in avg_call_duration['plan_name'].unique():\n",
    "    subset = avg_call_duration[avg_call_duration['plan_name'] == plan]\n",
    "    plt.bar(subset['month'], subset['minutes_per_month'], alpha=0.7, label=plan, color=colors[plan])\n",
    "\n",
    "plt.xlabel('Mes')\n",
    "plt.ylabel('Duración promedio de llamadas(minutos)')\n",
    "plt.title('Duración promedio por plan y mes')\n",
    "plt.legend(title='Plan')\n",
    "plt.xticks(range(1,13))\n",
    "plt.grid(axis='y', linestyle='--', alpha=0.7)\n",
    "\n",
    "\n",
    "plt.show()\n",
    " "
   ]
  },
  {
   "cell_type": "code",
   "execution_count": 32,
   "metadata": {
    "id": "QoLqW1S_0q1J"
   },
   "outputs": [
    {
     "data": {
      "image/png": "[encoded data removed]",
      "text/plain": [
       "<Figure size 640x480 with 1 Axes>"
      ]
     },
     "metadata": {},
     "output_type": "display_data"
    }
   ],
   "source": [
    "# Compara el número de minutos mensuales que necesitan los usuarios de cada plan. Traza un histograma.\n",
    "\n",
    "import matplotlib.pyplot as plt\n",
    "\n",
    "surf_minutes = totals_per_user[totals_per_user['plan_name']=='surf']['minutes_per_month']\n",
    "ultimate_minutes = totals_per_user[totals_per_user['plan_name']=='ultimate']['minutes_per_month']\n",
    "\n",
    "plt.hist(surf_minutes, bins=20, color='gray', label='Surf')\n",
    "plt.hist(ultimate_minutes, bins=20, color='pink', label='Ultimate')\n",
    "\n",
    "plt.xlabel('Minutos por mes')\n",
    "plt.ylabel('Frecuencia')\n",
    "plt.title('Distribución de minutos mensuales por plan')\n",
    "plt.legend()\n",
    "plt.show()\n",
    " \n"
   ]
  },
  {
   "cell_type": "code",
   "execution_count": 33,
   "metadata": {
    "id": "oSndbAnt0q1K"
   },
   "outputs": [
    {
     "name": "stdout",
     "output_type": "stream",
     "text": [
      "Surf,su media de duración mensual de llamadas es: 428.7495232040687\n",
      "\n",
      "Ultimate,su media de duración mensual de llamadas es: 430.45\n",
      "\n",
      "Surf,la varianza de duración mensual de llamadas es: 54968.27946065038\n",
      "\n",
      "Ultimate,la varianza de duración mensual de llamadas es: 57844.46481223922\n",
      "\n"
     ]
    }
   ],
   "source": [
    "# Calcula la media y la varianza de la duración mensual de llamadas.\n",
    "# Calcular la media\n",
    "import numpy as np\n",
    "\n",
    "surf_minutes_mean = surf_minutes.mean()\n",
    "ultimate_minutes_mean = ultimate_minutes.mean()\n",
    "\n",
    "# Calcular la varianza\n",
    "\n",
    "surf_minutes_var = surf_minutes.var(ddof=1)\n",
    "ultimate_minutes_var = ultimate_minutes.var(ddof=1)\n",
    "\n",
    "# Mostrar los resultados\n",
    "\n",
    "print(\"Surf,su media de duración mensual de llamadas es:\", surf_minutes_mean)\n",
    "print()\n",
    "print(\"Ultimate,su media de duración mensual de llamadas es:\", ultimate_minutes_mean)\n",
    "print()\n",
    "print(\"Surf,la varianza de duración mensual de llamadas es:\", surf_minutes_var)\n",
    "print()\n",
    "print(\"Ultimate,la varianza de duración mensual de llamadas es:\", ultimate_minutes_var)\n",
    "print()"
   ]
  },
  {
   "cell_type": "code",
   "execution_count": 34,
   "metadata": {
    "id": "nZzoRUKc0q1K"
   },
   "outputs": [
    {
     "data": {
      "image/png": "[encoded data removed]",
      "text/plain": [
       "<Figure size 640x480 with 1 Axes>"
      ]
     },
     "metadata": {},
     "output_type": "display_data"
    },
    {
     "data": {
      "image/png": "[encoded data removed]",
      "text/plain": [
       "<Figure size 640x480 with 1 Axes>"
      ]
     },
     "metadata": {},
     "output_type": "display_data"
    }
   ],
   "source": [
    "# Traza un diagrama de caja para visualizar la distribución de la duración mensual de llamadas\n",
    "\n",
    "import seaborn as sns\n",
    "import pandas as pd\n",
    "import matplotlib.pyplot as plt\n",
    "\n",
    "sns.boxplot(surf_minutes, color='gray')\n",
    "\n",
    "plt.title('Surf: \\nDistribución de minutos por mes')\n",
    "plt.show()\n",
    "\n",
    "sns.boxplot(ultimate_minutes, color='pink')\n",
    "\n",
    "plt.title('Ultimate: \\nDistribución de minutos por mes')\n",
    "plt.show()"
   ]
  },
  {
   "cell_type": "markdown",
   "metadata": {
    "id": "r627zBO50q1K"
   },
   "source": [
    "Después de calcular la media, observo que son similares:\n",
    "-Surf 428.75\n",
    "-Ultimate 430.45\n",
    "Con respecto a la varianza, para Ultimate es mayor- 57844, mientras que Surf fue 54968; una varianza mayor nos dice que hay mayor diferencia de consumo entre los clientes del plan Ultimate.\n",
    "\n",
    "En el gráfico de caja, observamos que el intervalo intercuartílico ( la representación del 50% medio de la muestra) para ambos planes está situado en valores similares y también que ambos contienen valores atípicos."
   ]
  },
  {
   "cell_type": "markdown",
   "metadata": {
    "id": "8idKy8Wh0q1L"
   },
   "source": [
    "### Mensajes"
   ]
  },
  {
   "cell_type": "code",
   "execution_count": 35,
   "metadata": {
    "id": "NXLxiTit0q1L"
   },
   "outputs": [
    {
     "data": {
      "image/png": "[encoded data removed]",
      "text/plain": [
       "<Figure size 640x480 with 1 Axes>"
      ]
     },
     "metadata": {},
     "output_type": "display_data"
    }
   ],
   "source": [
    "# Comprara el número de mensajes que tienden a enviar cada mes los usuarios de cada plan\n",
    " \n",
    "import matplotlib.pyplot as plt\n",
    "\n",
    "# Calcula los mensajes promedio por plan y mes\n",
    "avg_messages = totals_per_user.groupby(['plan_name', 'month'])['mssg_per_month'].mean().reset_index()\n",
    " \n",
    "colors = {'surf':'gray', 'ultimate':'Pink'}\n",
    "\n",
    "# Crea gráfica de barras\n",
    "for plan in avg_messages['plan_name'].unique():\n",
    "    subset = avg_messages[avg_messages['plan_name'] == plan]\n",
    "    plt.bar(subset['month'], subset['mssg_per_month'],alpha=0.7, label=plan, color=colors[plan])\n",
    "\n",
    "plt.xlabel('Mes')\n",
    "plt.ylabel('Promedio de mensajes')\n",
    "plt.title('Promedio de mensajes por plan y mes')\n",
    "plt.legend(title='Plan')\n",
    "plt.xticks(range(1,13))\n",
    "plt.grid(axis='y', linestyle='--', alpha=0.7)\n",
    "\n",
    "\n",
    "plt.show()\n",
    " \n"
   ]
  },
  {
   "cell_type": "code",
   "execution_count": 36,
   "metadata": {
    "id": "GRI_R7xF0q1L"
   },
   "outputs": [
    {
     "data": {
      "image/png": "[encoded data removed]",
      "text/plain": [
       "<Figure size 640x480 with 1 Axes>"
      ]
     },
     "metadata": {},
     "output_type": "display_data"
    }
   ],
   "source": [
    "# Compara el número de mensajes mensuales que necesitan los usuarios de cada plan. Traza un histograma.\n",
    "\n",
    "import matplotlib.pyplot as plt\n",
    "\n",
    "surf_mssgs = totals_per_user[totals_per_user['plan_name']=='surf']['mssg_per_month']\n",
    "ultimate_mssgs = totals_per_user[totals_per_user['plan_name']=='ultimate']['mssg_per_month']\n",
    "\n",
    "plt.hist(surf_mssgs, bins=14, color='gray', label='Surf')\n",
    "plt.hist(ultimate_mssgs, bins=14, color='pink', label='Ultimate')\n",
    "\n",
    "plt.xlabel('Mensajes por mes')\n",
    "plt.ylabel('Frecuencia')\n",
    "plt.title('Distribución de mensajes mensuales por plan')\n",
    "plt.legend()\n",
    "plt.show()\n",
    "\n"
   ]
  },
  {
   "cell_type": "code",
   "execution_count": 37,
   "metadata": {},
   "outputs": [
    {
     "data": {
      "image/png": "[encoded data removed]",
      "text/plain": [
       "<Figure size 640x480 with 1 Axes>"
      ]
     },
     "metadata": {},
     "output_type": "display_data"
    },
    {
     "data": {
      "image/png": "[encoded data removed]",
      "text/plain": [
       "<Figure size 640x480 with 1 Axes>"
      ]
     },
     "metadata": {},
     "output_type": "display_data"
    }
   ],
   "source": [
    "# Traza un diagrama de caja para visualizar la distribución de los mensajes por mes\n",
    "\n",
    "import seaborn as sns\n",
    "import pandas as pd\n",
    "import matplotlib.pyplot as plt\n",
    "\n",
    "sns.boxplot(surf_mssgs, color='gray')\n",
    "\n",
    "plt.title('Surf: \\nDistribución de mensajes por mes')\n",
    "plt.show()\n",
    "\n",
    "sns.boxplot(ultimate_mssgs, color='pink')\n",
    "\n",
    "plt.title('Ultimate: \\nDistribución de mensajes por mes')\n",
    "plt.show()"
   ]
  },
  {
   "cell_type": "code",
   "execution_count": 38,
   "metadata": {
    "id": "dtFwCGAp0q1M"
   },
   "outputs": [
    {
     "name": "stdout",
     "output_type": "stream",
     "text": [
      "Surf,su media de mensajes por mes es: 31.15956770502225\n",
      "\n",
      "Ultimate,su media de mensajes por mes es: 37.55138888888889\n",
      "\n",
      "Surf,la varianza de mensajes por mes es: 1126.7245219504066\n",
      "\n",
      "Ultimate,la varianza de mensajes por mes es: 1208.756743548138\n"
     ]
    }
   ],
   "source": [
    "# Calcula la media y la varianza de los mensajes por mes por plan\n",
    "\n",
    "# Calcular la media\n",
    "import numpy as np\n",
    "\n",
    "surf_mssgs_mean = surf_mssgs.mean()\n",
    "ultimate_mssgs_mean = ultimate_mssgs.mean()\n",
    "\n",
    "# Calcular la varianza\n",
    "\n",
    "surf_mssgs_var = surf_mssgs.var(ddof=1)\n",
    "ultimate_mssgs_var = ultimate_mssgs.var(ddof=1)\n",
    "\n",
    "# Mostrar los resultados\n",
    "\n",
    "print(\"Surf,su media de mensajes por mes es:\", surf_mssgs_mean)\n",
    "print()\n",
    "print(\"Ultimate,su media de mensajes por mes es:\", ultimate_mssgs_mean)\n",
    "print()\n",
    "print(\"Surf,la varianza de mensajes por mes es:\", surf_mssgs_var)\n",
    "print()\n",
    "print(\"Ultimate,la varianza de mensajes por mes es:\", ultimate_mssgs_var)\n"
   ]
  },
  {
   "cell_type": "markdown",
   "metadata": {
    "id": "390SSL480q1M"
   },
   "source": [
    "Después de calcular la media, observo que son similares:\n",
    "-Surf 31\n",
    "-Ultimate 37\n",
    "Con respecto a la varianza, para Ultimate es mayor- 1208, mientras que Surf fue 1126; una varianza más alta nos dice que hay mayor diferencia de consumo entre los clientes del plan Ultimate.\n",
    " "
   ]
  },
  {
   "cell_type": "markdown",
   "metadata": {
    "id": "42YSypXz0q1M"
   },
   "source": [
    "### Internet"
   ]
  },
  {
   "cell_type": "code",
   "execution_count": 39,
   "metadata": {
    "id": "lSuKPtjh0q1M"
   },
   "outputs": [
    {
     "data": {
      "image/png": "[encoded data removed]",
      "text/plain": [
       "<Figure size 640x480 with 1 Axes>"
      ]
     },
     "metadata": {},
     "output_type": "display_data"
    }
   ],
   "source": [
    "# Comprara el consumo de GB que tienden a consumir los usuarios de cada plan\n",
    " \n",
    "import matplotlib.pyplot as plt\n",
    "\n",
    "# Calcula los GB promedio por plan y mes\n",
    "avg_gb = totals_per_user.groupby(['plan_name', 'month'])['gb_rounded'].mean().reset_index()\n",
    " \n",
    "colors = {'surf':'gray', 'ultimate':'Pink'}\n",
    "\n",
    "# Crea gráfica de barras\n",
    "for plan in avg_gb['plan_name'].unique():\n",
    "    subset = avg_gb[avg_gb['plan_name'] == plan]\n",
    "    plt.bar(subset['month'], subset['gb_rounded'],alpha=0.7, label=plan, color=colors[plan])\n",
    "\n",
    "plt.xlabel('Mes')\n",
    "plt.ylabel('Promedio de GB consumidos')\n",
    "plt.title('Promedio de GB consumidos por plan y mes')\n",
    "plt.legend(title='Plan')\n",
    "plt.xticks(range(1,13))\n",
    "plt.grid(axis='y', linestyle='--', alpha=0.7)\n",
    "\n",
    "\n",
    "plt.show()\n",
    " "
   ]
  },
  {
   "cell_type": "code",
   "execution_count": 40,
   "metadata": {
    "id": "wnh8jYXi0q1N"
   },
   "outputs": [
    {
     "data": {
      "image/png": "[encoded data removed]",
      "text/plain": [
       "<Figure size 640x480 with 1 Axes>"
      ]
     },
     "metadata": {},
     "output_type": "display_data"
    }
   ],
   "source": [
    "# Compara los GB mensuales que necesitan los usuarios de cada plan. Traza un histograma.\n",
    "\n",
    "import matplotlib.pyplot as plt\n",
    "\n",
    "surf_gb = totals_per_user[totals_per_user['plan_name']=='surf']['gb_rounded']\n",
    "ultimate_gb = totals_per_user[totals_per_user['plan_name']=='ultimate']['gb_rounded']\n",
    "\n",
    "plt.hist(surf_gb, bins=14, color='gray', label='Surf')\n",
    "plt.hist(ultimate_gb, bins=14, color='pink', label='Ultimate')\n",
    "\n",
    "plt.xlabel('GB por mes')\n",
    "plt.ylabel('Frecuencia')\n",
    "plt.title('Distribución de GB mensuales por plan')\n",
    "plt.legend()\n",
    "plt.show()\n"
   ]
  },
  {
   "cell_type": "code",
   "execution_count": 41,
   "metadata": {},
   "outputs": [
    {
     "data": {
      "image/png": "[encoded data removed]",
      "text/plain": [
       "<Figure size 640x480 with 1 Axes>"
      ]
     },
     "metadata": {},
     "output_type": "display_data"
    },
    {
     "data": {
      "image/png": "[encoded data removed]",
      "text/plain": [
       "<Figure size 640x480 with 1 Axes>"
      ]
     },
     "metadata": {},
     "output_type": "display_data"
    }
   ],
   "source": [
    "# Traza un diagrama de caja para visualizar la distribución de los GB por mes\n",
    "\n",
    "import seaborn as sns\n",
    "import pandas as pd\n",
    "import matplotlib.pyplot as plt\n",
    "\n",
    "sns.boxplot(surf_gb, color='gray')\n",
    "\n",
    "plt.title('Surf: \\nDistribución de mensajes por mes')\n",
    "plt.show()\n",
    "\n",
    "sns.boxplot(ultimate_gb, color='pink')\n",
    "\n",
    "plt.title('Ultimate: \\nDistribución de GB por mes')\n",
    "plt.show()"
   ]
  },
  {
   "cell_type": "code",
   "execution_count": 42,
   "metadata": {
    "id": "5VlyJ9ry0q1N"
   },
   "outputs": [
    {
     "name": "stdout",
     "output_type": "stream",
     "text": [
      "Surf,su media de GB por mes es: 16.670692943420217\n",
      "\n",
      "Ultimate,su media de GB por mes es: 17.306944444444444\n",
      "\n",
      "Surf,la varianza de GB por mes es: 61.583599837590114\n",
      "\n",
      "Ultimate,la varianza de GB por mes es: 58.830549760469786\n"
     ]
    }
   ],
   "source": [
    "# Calcula la media y la varianza de GB por mes por plan\n",
    "\n",
    "# Calcular la media\n",
    "import numpy as np\n",
    "\n",
    "surf_gb_mean = surf_gb.mean()\n",
    "ultimate_gb_mean = ultimate_gb.mean()\n",
    "\n",
    "# Calcular la varianza\n",
    "\n",
    "surf_gb_var = surf_gb.var(ddof=1)\n",
    "ultimate_gb_var = ultimate_gb.var(ddof=1)\n",
    "\n",
    "# Mostrar los resultados\n",
    "\n",
    "print(\"Surf,su media de GB por mes es:\", surf_gb_mean)\n",
    "print()\n",
    "print(\"Ultimate,su media de GB por mes es:\", ultimate_gb_mean)\n",
    "print()\n",
    "print(\"Surf,la varianza de GB por mes es:\", surf_gb_var)\n",
    "print()\n",
    "print(\"Ultimate,la varianza de GB por mes es:\", ultimate_gb_var)\n"
   ]
  },
  {
   "cell_type": "markdown",
   "metadata": {
    "id": "UN9zwuMP0q1N"
   },
   "source": [
    "Después de calcular la media, observo que son similares:\n",
    "-Surf 16.67\n",
    "-Ultimate 17.30\n",
    "Con respecto a la varianza, para Surf es mayor- 61, mientras que Ultimate fue 58; una varianza más alta nos dice que hay mayor diferencia de consumo entre los clientes del plan Surf."
   ]
  },
  {
   "cell_type": "markdown",
   "metadata": {
    "id": "tCijq3260q1N"
   },
   "source": [
    "## Ingreso"
   ]
  },
  {
   "cell_type": "code",
   "execution_count": 43,
   "metadata": {
    "id": "tz-dq_V00q1O"
   },
   "outputs": [
    {
     "data": {
      "image/png": "[encoded data removed]",
      "text/plain": [
       "<Figure size 640x480 with 1 Axes>"
      ]
     },
     "metadata": {},
     "output_type": "display_data"
    }
   ],
   "source": [
    "# Comprara el ingreso que genera cada plan por mes\n",
    " \n",
    "import matplotlib.pyplot as plt\n",
    "\n",
    "# Calcula el ingreso promedio por plan y mes\n",
    "avg_revenue = totals_per_user.groupby(['plan_name', 'month'])['total_revenue'].mean().reset_index()\n",
    " \n",
    "colors = {'surf':'gray', 'ultimate':'Pink'}\n",
    "\n",
    "# Crea gráfica de barras\n",
    "for plan in avg_revenue['plan_name'].unique():\n",
    "    subset = avg_revenue[avg_revenue['plan_name'] == plan]\n",
    "    plt.bar(subset['month'], subset['total_revenue'],alpha=0.7, label=plan, color=colors[plan])\n",
    "\n",
    "plt.xlabel('Mes')\n",
    "plt.ylabel('Promedio de ingreso')\n",
    "plt.title('Promedio de ingreso generado por plan y mes')\n",
    "plt.legend(title='Plan')\n",
    "plt.xticks(range(1,13))\n",
    "plt.grid(axis='y', linestyle='--', alpha=0.7)\n",
    "\n",
    "\n",
    "plt.show()\n"
   ]
  },
  {
   "cell_type": "code",
   "execution_count": 44,
   "metadata": {
    "id": "0Y1v8ZUz0q1P"
   },
   "outputs": [
    {
     "data": {
      "image/png": "[encoded data removed]",
      "text/plain": [
       "<Figure size 640x480 with 1 Axes>"
      ]
     },
     "metadata": {},
     "output_type": "display_data"
    }
   ],
   "source": [
    "# Compara los ingresos que generan los usuarios de cada plan. Traza un histograma.\n",
    "\n",
    "import matplotlib.pyplot as plt\n",
    "\n",
    "surf_revenue = totals_per_user[totals_per_user['plan_name']=='surf']['total_revenue']\n",
    "ultimate_revenue = totals_per_user[totals_per_user['plan_name']=='ultimate']['total_revenue']\n",
    "\n",
    "plt.hist(surf_revenue, bins=14, color='gray', label='Surf')\n",
    "plt.hist(ultimate_revenue, bins=14, color='pink', label='Ultimate')\n",
    "\n",
    "plt.xlabel('Ingreso por mes')\n",
    "plt.ylabel('Frecuencia')\n",
    "plt.title('Distribución de ingreso mensual por plan')\n",
    "plt.legend()\n",
    "plt.show()\n"
   ]
  },
  {
   "cell_type": "code",
   "execution_count": 45,
   "metadata": {},
   "outputs": [
    {
     "data": {
      "image/png": "[encoded data removed]",
      "text/plain": [
       "<Figure size 640x480 with 1 Axes>"
      ]
     },
     "metadata": {},
     "output_type": "display_data"
    },
    {
     "data": {
      "image/png": "[encoded data removed]",
      "text/plain": [
       "<Figure size 640x480 with 1 Axes>"
      ]
     },
     "metadata": {},
     "output_type": "display_data"
    }
   ],
   "source": [
    "# Traza un diagrama de caja para visualizar la distribución de los ingresos por mes\n",
    "\n",
    "import seaborn as sns\n",
    "import pandas as pd\n",
    "import matplotlib.pyplot as plt\n",
    "\n",
    "sns.boxplot(surf_revenue, color='gray')\n",
    "\n",
    "plt.title('Surf: \\nDistribución de ingreso por mes')\n",
    "plt.show()\n",
    "\n",
    "sns.boxplot(ultimate_revenue, color='pink')\n",
    "\n",
    "plt.title('Ultimate: \\nDistribución de ingreso por mes')\n",
    "plt.show()"
   ]
  },
  {
   "cell_type": "code",
   "execution_count": 46,
   "metadata": {
    "id": "bYmwxyVh0q1P"
   },
   "outputs": [
    {
     "name": "stdout",
     "output_type": "stream",
     "text": [
      "Surf,la media de ingresos por mes es: 60.706408137317226\n",
      "\n",
      "Surf,la mediana de ingresos por mes es: 40.36\n",
      "\n",
      "Surf,la varianza de ingresos por mes es: 3067.835152293878\n",
      "\n",
      "\n",
      "Ultimate,la media de ingresos por mes es: 72.31388888888888\n",
      "\n",
      "Ultimate,la mediana de ingresos por mes es: 70.0\n",
      "\n",
      "Ultimate,la varianza de ingresos por mes es: 129.8484855509195\n"
     ]
    }
   ],
   "source": [
    "# Calcula la media y la varianza de ingresos por mes por plan\n",
    "\n",
    "# Calcular la media\n",
    "import numpy as np\n",
    "\n",
    "surf_revenue_mean = surf_revenue.mean()\n",
    "ultimate_revenue_mean = ultimate_revenue.mean()\n",
    "\n",
    "# Calcular la varianza\n",
    "\n",
    "surf_revenue_var = surf_revenue.var(ddof=1)\n",
    "ultimate_revenue_var = ultimate_revenue.var(ddof=1)\n",
    "\n",
    "# Calcular la mediana\n",
    "surf_revenue_median = np.median(surf_revenue)\n",
    "ultimate_revenue_median = np.median(ultimate_revenue)\n",
    " \n",
    "# Mostrar los resultados\n",
    "\n",
    "print(\"Surf,la media de ingresos por mes es:\", surf_revenue_mean)\n",
    "print()\n",
    "print(\"Surf,la mediana de ingresos por mes es:\", surf_revenue_median)\n",
    "print()\n",
    "print(\"Surf,la varianza de ingresos por mes es:\", surf_revenue_var)\n",
    "print()\n",
    "print()\n",
    "print(\"Ultimate,la media de ingresos por mes es:\", ultimate_revenue_mean)\n",
    "print()\n",
    "print(\"Ultimate,la mediana de ingresos por mes es:\", ultimate_revenue_median)\n",
    "print()\n",
    "print(\"Ultimate,la varianza de ingresos por mes es:\", ultimate_revenue_var)\n",
    " "
   ]
  },
  {
   "cell_type": "markdown",
   "metadata": {
    "id": "ajJ7VKeI0q1Q"
   },
   "source": [
    "## Prueba las hipótesis estadísticas"
   ]
  },
  {
   "cell_type": "markdown",
   "metadata": {
    "id": "IQwa_hsh0q1Q"
   },
   "source": [
    "Hipótesis Nula: \n",
    "No hay una diferencia significativa en los ingresos mensuales de los planes Surf y Ultimate \n",
    "\n",
    "Hipótesis Alternativa:\n",
    "Sí hay una diferencia significativa en los ingresos mensuales entre los planes Surf y Ultimate"
   ]
  },
  {
   "cell_type": "code",
   "execution_count": 47,
   "metadata": {
    "id": "nFoPNlPq0q1R"
   },
   "outputs": [
    {
     "name": "stdout",
     "output_type": "stream",
     "text": [
      "Estadístico de Levene: 404.7301727752691\n",
      "Valor p de Levene: 5.028876110654919e-83\n",
      "\n",
      "valor_p: 3.1703905481135734e-15\n",
      "Rechazamos la hipótesis nula: Hay una diferencia significativa en los ingresos.\n"
     ]
    }
   ],
   "source": [
    "# Prueba las hipótesis\n",
    "\n",
    "# Hipótesis nula\n",
    "\n",
    "from scipy import stats as st\n",
    "import numpy as np\n",
    "import pandas as pd\n",
    "\n",
    "# Prueba Levene\n",
    "stat, p_value = st.levene(surf_revenue, ultimate_revenue)\n",
    "\n",
    "print(\"Estadístico de Levene:\", stat)\n",
    "print(\"Valor p de Levene:\", p_value)\n",
    "print()\n",
    "\n",
    "equal_var = p_value >= 0.05\n",
    " \n",
    "# Prueba T\n",
    "alpha = 0.05\n",
    "\n",
    "results = st.ttest_ind(surf_revenue, ultimate_revenue, equal_var=equal_var) \n",
    "\n",
    "print('valor_p:', results.pvalue)\n",
    "if results.pvalue < alpha:\n",
    "    print(\"Rechazamos la hipótesis nula: Hay una diferencia significativa en los ingresos.\")\n",
    "else:\n",
    "    print(\"No podemos rechazar la hipótesis nula: No hay una diferencia significativa en los ingresos\")\n",
    " "
   ]
  },
  {
   "cell_type": "markdown",
   "metadata": {
    "id": "tCcAruM60q1R"
   },
   "source": [
    " "
   ]
  },
  {
   "cell_type": "markdown",
   "metadata": {
    "id": "LsBgitqj0q1R"
   },
   "source": [
    " Hipótesis Nula: \n",
    " No hay una diferencia significativa en los ingresos mensuales de NY-NJ vs otras regiones\n",
    " \n",
    " Hipótesis Alternativa:\n",
    " Sí hay una diferencia significativa en los ingresos mensuales de NY-NJ vs otras regiones"
   ]
  },
  {
   "cell_type": "code",
   "execution_count": 48,
   "metadata": {
    "id": "Cqcj7wrZ0q1S"
   },
   "outputs": [
    {
     "name": "stdout",
     "output_type": "stream",
     "text": [
      "Estadístico de Levene: 2.345281651730069\n",
      "Valor p de Levene: 0.12580091109612837\n",
      "\n",
      "valor_p: 0.04355743162134299\n",
      "Rechazamos la hipótesis nula: Hay una diferencia significativa en los ingresos.\n"
     ]
    }
   ],
   "source": [
    "# Prueba las hipótesis\n",
    "\n",
    "from scipy import stats as st\n",
    "import pandas as pd\n",
    "\n",
    "# Filtrar ingresos de usuarios de NY-NJ\n",
    "ny_nj_revenue = totals_per_user[totals_per_user['city'] == 'New York-Newark-Jersey City, NY-NJ-PA MSA']['total_revenue']\n",
    "\n",
    "#Filtrar ingresos de usuarios de otras regiones\n",
    "other_regions_revenue = totals_per_user[totals_per_user['city'] != 'New York-Newark-Jersey City, NY-NJ-PA MSA']['total_revenue']\n",
    "\n",
    "# Prueba Levene\n",
    "stat, p_value = st.levene(ny_nj_revenue, other_regions_revenue)\n",
    "\n",
    "print(\"Estadístico de Levene:\", stat)\n",
    "print(\"Valor p de Levene:\", p_value)\n",
    "print()\n",
    "\n",
    "equal_var = p_value >= 0.05\n",
    " \n",
    "# Prueba T\n",
    "alpha = 0.05\n",
    "\n",
    "results = st.ttest_ind(ny_nj_revenue, other_regions_revenue, equal_var=equal_var) \n",
    "\n",
    "print('valor_p:', results.pvalue)\n",
    "if results.pvalue < alpha:\n",
    "    print(\"Rechazamos la hipótesis nula: Hay una diferencia significativa en los ingresos.\")\n",
    "else:\n",
    "    print(\"No podemos rechazar la hipótesis nula: No hay una diferencia significativa en los ingresos\")\n",
    " "
   ]
  },
  {
   "cell_type": "markdown",
   "metadata": {
    "id": "bbTR8UQO0q1T"
   },
   "source": [
    "Conclusión general\n",
    "\n",
    "Elegí calcular también la mediana, ya que se observan valores atípicos, y en esos casos se recomienda también obtener este calculo.\n",
    "\n",
    "El plan Surf tiene un costo fijo mensual de 20, el promedio es 60.70, muy por encima del costo fijo y con la gráfica de barras se observa que hay una frecuencia muy alta de los usuarios de este plan que están generando el ingreso promedio; aunque la mediana es de 40.36, que también va muy por encima del costo mensual mínimo.\n",
    "\n",
    "El plan Ultimate, tiene un costo fijo de 70, y su promedio es de 72.31, una cantidad muy similar al costo fijo del plan, y la mayoría de los usuarios de este plan están pagan una cantidad como el promedio, aunque en Ultimate está una cantidad mucho menor de usuarios con respecto a Surf.\n",
    " \n",
    "Con respecto a la varianza, para Surf es mucho mayor- 3067, mientras que Ultimate fue 129; una varianza más alta nos dice que hay mayor diferencia de consumo entre los clientes del plan Surf.\n",
    "\n",
    "Con esta información podemos ir a la hipótesis de nuestro caso, que pregunta sí hay diferencia en los ingresos generados por el tipo de plan.\n",
    "\n",
    "En este caso, queremos probar que las medias de dos poblaciones son iguales, y apliqué scipy.st.ttest_ind por que es la que acepta 2 arrays, y es lo que buscamos hacer, comparar entre las dos muestras que tenemos, el plan Surf y el Ultimate. Con equal_var en False, dado que sabemos que las varianzas de las muestras a comparar son distintas.\n",
    "\n",
    "Lo que encontré fue : valor_p: 3.1703905481135734e-15, dado que se estableció el umbral de significación en 0.05 y en base a esto rechazamos la hipótesis nula: Hay una diferencia significativa en los ingresos.\n",
    " "
   ]
  }
 ],
 "metadata": {
  "ExecuteTimeLog": [
   {
    "duration": 828,
    "start_time": "2021-11-16T09:21:11.304Z"
   },
   {
    "duration": 893,
    "start_time": "2021-11-16T09:21:17.728Z"
   },
   {
    "duration": 1150,
    "start_time": "2021-11-16T09:21:29.568Z"
   },
   {
    "duration": 3,
    "start_time": "2021-11-16T09:24:14.495Z"
   },
   {
    "duration": 120,
    "start_time": "2021-11-16T09:24:46.630Z"
   },
   {
    "duration": 3,
    "start_time": "2021-11-16T09:28:27.882Z"
   },
   {
    "duration": 4,
    "start_time": "2021-11-16T09:29:54.281Z"
   },
   {
    "duration": 3,
    "start_time": "2021-11-16T09:30:45.936Z"
   },
   {
    "duration": 4,
    "start_time": "2021-11-16T09:31:06.300Z"
   },
   {
    "duration": 113,
    "start_time": "2021-11-16T09:31:37.208Z"
   },
   {
    "duration": 143,
    "start_time": "2021-11-16T09:31:48.656Z"
   },
   {
    "duration": 98,
    "start_time": "2021-11-16T09:31:55.678Z"
   },
   {
    "duration": 3,
    "start_time": "2021-11-16T09:32:08.535Z"
   },
   {
    "duration": 111,
    "start_time": "2021-11-16T09:32:10.120Z"
   },
   {
    "duration": 3,
    "start_time": "2021-11-16T09:32:15.732Z"
   },
   {
    "duration": 4,
    "start_time": "2021-11-16T09:32:29.423Z"
   },
   {
    "duration": 3,
    "start_time": "2021-11-16T10:03:03.074Z"
   },
   {
    "duration": 3,
    "start_time": "2021-11-16T10:10:01.288Z"
   },
   {
    "duration": 3,
    "start_time": "2021-11-16T10:10:46.923Z"
   },
   {
    "duration": 121,
    "start_time": "2021-11-16T10:37:46.494Z"
   },
   {
    "duration": 125,
    "start_time": "2021-11-16T10:38:20.632Z"
   },
   {
    "duration": 112,
    "start_time": "2021-11-16T10:46:53.001Z"
   },
   {
    "duration": 110,
    "start_time": "2021-11-16T10:48:25.775Z"
   },
   {
    "duration": 3,
    "start_time": "2021-11-16T10:50:18.720Z"
   },
   {
    "duration": 4,
    "start_time": "2021-11-16T10:50:37.649Z"
   },
   {
    "duration": 2,
    "start_time": "2021-11-16T10:50:51.884Z"
   },
   {
    "duration": 3,
    "start_time": "2021-11-16T10:51:56.237Z"
   },
   {
    "duration": 101,
    "start_time": "2021-11-16T10:53:13.791Z"
   },
   {
    "duration": 3,
    "start_time": "2021-11-16T10:55:59.186Z"
   },
   {
    "duration": 3,
    "start_time": "2021-11-16T10:56:10.751Z"
   },
   {
    "duration": 3,
    "start_time": "2021-11-16T10:56:49.038Z"
   },
   {
    "duration": 3,
    "start_time": "2021-11-16T10:56:49.174Z"
   },
   {
    "duration": 4,
    "start_time": "2021-11-16T10:56:49.414Z"
   },
   {
    "duration": 3,
    "start_time": "2021-11-16T10:56:49.680Z"
   },
   {
    "duration": 3,
    "start_time": "2021-11-16T10:56:50.370Z"
   },
   {
    "duration": 114,
    "start_time": "2021-11-16T10:59:34.518Z"
   },
   {
    "duration": 3,
    "start_time": "2021-11-16T11:01:41.201Z"
   },
   {
    "duration": 116,
    "start_time": "2021-11-16T11:01:48.754Z"
   },
   {
    "duration": 3,
    "start_time": "2021-11-16T11:02:16.685Z"
   },
   {
    "duration": 3,
    "start_time": "2021-11-16T11:02:19.479Z"
   },
   {
    "duration": 3,
    "start_time": "2021-11-16T11:02:47.067Z"
   },
   {
    "duration": 3,
    "start_time": "2021-11-16T11:02:49.353Z"
   },
   {
    "duration": 3,
    "start_time": "2021-11-16T11:03:07.835Z"
   },
   {
    "duration": 3,
    "start_time": "2021-11-16T11:03:07.953Z"
   },
   {
    "duration": 112,
    "start_time": "2021-11-16T11:07:52.072Z"
   },
   {
    "duration": 187,
    "start_time": "2021-11-16T11:09:23.468Z"
   },
   {
    "duration": 4,
    "start_time": "2021-11-16T11:10:01.455Z"
   },
   {
    "duration": 3,
    "start_time": "2021-11-16T11:10:05.069Z"
   },
   {
    "duration": 4,
    "start_time": "2021-11-16T11:10:13.376Z"
   },
   {
    "duration": 3,
    "start_time": "2021-11-16T11:10:14.434Z"
   },
   {
    "duration": 3,
    "start_time": "2021-11-16T11:10:22.853Z"
   },
   {
    "duration": 4,
    "start_time": "2021-11-16T11:27:29.279Z"
   },
   {
    "duration": 4,
    "start_time": "2021-11-16T11:29:08.919Z"
   },
   {
    "duration": 118,
    "start_time": "2021-11-16T11:29:46.703Z"
   },
   {
    "duration": 437,
    "start_time": "2021-11-16T11:36:02.181Z"
   },
   {
    "duration": 157,
    "start_time": "2021-11-16T11:36:14.388Z"
   },
   {
    "duration": 207,
    "start_time": "2021-11-16T11:47:15.898Z"
   },
   {
    "duration": 3,
    "start_time": "2021-11-16T11:53:52.092Z"
   },
   {
    "duration": 3,
    "start_time": "2021-11-16T11:53:52.236Z"
   },
   {
    "duration": 3,
    "start_time": "2021-11-16T11:59:12.005Z"
   },
   {
    "duration": 112,
    "start_time": "2021-11-16T12:00:33.446Z"
   },
   {
    "duration": 3,
    "start_time": "2021-11-16T12:02:14.453Z"
   },
   {
    "duration": 3,
    "start_time": "2021-11-16T12:02:39.512Z"
   },
   {
    "duration": 106,
    "start_time": "2021-11-16T12:03:03.460Z"
   },
   {
    "duration": 3,
    "start_time": "2021-11-17T20:37:21.139Z"
   },
   {
    "duration": 3,
    "start_time": "2021-11-17T20:37:22.229Z"
   },
   {
    "duration": 3,
    "start_time": "2021-11-17T20:38:38.806Z"
   },
   {
    "duration": 3,
    "start_time": "2021-11-17T20:38:41.958Z"
   },
   {
    "duration": 3,
    "start_time": "2021-11-17T20:43:46.551Z"
   },
   {
    "duration": 4,
    "start_time": "2021-11-17T20:58:21.835Z"
   },
   {
    "duration": 3,
    "start_time": "2021-11-17T20:59:21.872Z"
   },
   {
    "duration": 4,
    "start_time": "2021-11-17T20:59:45.352Z"
   },
   {
    "duration": 4,
    "start_time": "2021-11-17T20:59:49.646Z"
   },
   {
    "duration": 159,
    "start_time": "2021-11-17T21:02:26.949Z"
   },
   {
    "duration": 3,
    "start_time": "2021-11-17T21:03:53.461Z"
   },
   {
    "duration": 3,
    "start_time": "2021-11-17T21:03:53.694Z"
   },
   {
    "duration": 3,
    "start_time": "2021-11-17T21:05:28.145Z"
   },
   {
    "duration": 116,
    "start_time": "2021-11-17T21:05:57.787Z"
   },
   {
    "duration": 3,
    "start_time": "2021-11-17T21:06:37.993Z"
   },
   {
    "duration": 3,
    "start_time": "2021-11-17T21:06:38.261Z"
   },
   {
    "duration": 3,
    "start_time": "2021-11-17T21:11:54.358Z"
   },
   {
    "duration": 3,
    "start_time": "2021-11-17T21:12:43.846Z"
   },
   {
    "duration": 4,
    "start_time": "2021-11-17T21:13:08.773Z"
   },
   {
    "duration": 3,
    "start_time": "2021-11-17T21:14:44.441Z"
   },
   {
    "duration": 3,
    "start_time": "2021-11-17T21:15:42.059Z"
   },
   {
    "duration": 4,
    "start_time": "2021-11-17T21:15:51.995Z"
   },
   {
    "duration": 3,
    "start_time": "2021-11-17T21:15:53.923Z"
   },
   {
    "duration": 3,
    "start_time": "2021-11-17T21:15:55.282Z"
   },
   {
    "duration": 3,
    "start_time": "2021-11-17T21:16:28.492Z"
   },
   {
    "duration": 3,
    "start_time": "2021-11-17T21:16:32.603Z"
   },
   {
    "duration": 3,
    "start_time": "2021-11-17T21:17:06.941Z"
   },
   {
    "duration": 98,
    "start_time": "2021-11-17T21:18:05.733Z"
   },
   {
    "duration": 4,
    "start_time": "2021-11-17T21:21:35.255Z"
   },
   {
    "duration": 3,
    "start_time": "2021-11-17T21:21:37.804Z"
   },
   {
    "duration": 4,
    "start_time": "2021-11-17T21:23:06.071Z"
   },
   {
    "duration": 3,
    "start_time": "2021-11-17T21:23:24.799Z"
   },
   {
    "duration": 3,
    "start_time": "2021-11-17T21:23:32.591Z"
   },
   {
    "duration": 98,
    "start_time": "2021-11-17T21:28:31.559Z"
   },
   {
    "duration": 3,
    "start_time": "2021-11-17T21:28:45.448Z"
   },
   {
    "duration": 3,
    "start_time": "2021-11-17T21:29:17.303Z"
   },
   {
    "duration": 3,
    "start_time": "2021-11-17T21:29:29.617Z"
   },
   {
    "duration": 3,
    "start_time": "2021-11-17T21:29:32.681Z"
   },
   {
    "duration": 3,
    "start_time": "2021-11-17T21:36:11.474Z"
   },
   {
    "duration": 3,
    "start_time": "2021-11-17T21:36:14.791Z"
   },
   {
    "duration": 3,
    "start_time": "2021-11-17T21:36:53.943Z"
   },
   {
    "duration": 3,
    "start_time": "2021-11-17T21:36:56.165Z"
   },
   {
    "duration": 4,
    "start_time": "2021-11-17T21:37:16.590Z"
   },
   {
    "duration": 3,
    "start_time": "2021-11-17T21:37:22.702Z"
   },
   {
    "duration": 4,
    "start_time": "2021-11-17T21:38:03.479Z"
   },
   {
    "duration": 3,
    "start_time": "2021-11-17T21:38:08.601Z"
   },
   {
    "duration": 3,
    "start_time": "2021-11-17T21:38:12.928Z"
   },
   {
    "duration": 3,
    "start_time": "2021-11-17T21:38:48.896Z"
   },
   {
    "duration": 2,
    "start_time": "2021-11-17T21:38:49.171Z"
   },
   {
    "duration": 4,
    "start_time": "2021-11-17T21:39:57.889Z"
   },
   {
    "duration": 3,
    "start_time": "2021-11-17T21:39:58.057Z"
   },
   {
    "duration": 3,
    "start_time": "2021-11-17T21:41:20.108Z"
   },
   {
    "duration": 3,
    "start_time": "2021-11-17T21:41:20.629Z"
   },
   {
    "duration": 3,
    "start_time": "2021-11-17T21:42:49.136Z"
   },
   {
    "duration": 3,
    "start_time": "2021-11-17T21:43:15.137Z"
   },
   {
    "duration": 4,
    "start_time": "2021-11-17T21:43:16.766Z"
   },
   {
    "duration": 4,
    "start_time": "2021-11-17T21:43:31.711Z"
   },
   {
    "duration": 3,
    "start_time": "2021-11-17T21:43:36.312Z"
   },
   {
    "duration": 4,
    "start_time": "2021-11-17T21:45:08.825Z"
   },
   {
    "duration": 4,
    "start_time": "2021-11-17T21:45:10.119Z"
   },
   {
    "duration": 4,
    "start_time": "2021-11-17T21:45:13.748Z"
   },
   {
    "duration": 3,
    "start_time": "2021-11-17T21:45:22.219Z"
   },
   {
    "duration": 3,
    "start_time": "2021-11-17T21:45:33.412Z"
   },
   {
    "duration": 2,
    "start_time": "2021-11-17T21:46:01.885Z"
   },
   {
    "duration": 3,
    "start_time": "2021-11-17T21:46:03.628Z"
   },
   {
    "duration": 107,
    "start_time": "2021-11-17T21:47:32.512Z"
   },
   {
    "duration": 103,
    "start_time": "2021-11-17T21:50:36.243Z"
   },
   {
    "duration": 3,
    "start_time": "2021-11-18T06:28:31.440Z"
   },
   {
    "duration": 3,
    "start_time": "2021-11-18T06:29:00.168Z"
   },
   {
    "duration": 3,
    "start_time": "2021-11-18T06:31:27.008Z"
   },
   {
    "duration": 2,
    "start_time": "2021-11-18T06:35:34.288Z"
   },
   {
    "duration": 2,
    "start_time": "2021-11-18T06:38:04.527Z"
   },
   {
    "duration": 507,
    "start_time": "2025-03-26T18:22:52.783Z"
   },
   {
    "duration": 159,
    "start_time": "2025-03-26T18:22:56.275Z"
   },
   {
    "duration": 9,
    "start_time": "2025-03-26T18:23:20.634Z"
   },
   {
    "duration": 12,
    "start_time": "2025-03-26T18:24:12.611Z"
   },
   {
    "duration": 9,
    "start_time": "2025-03-26T18:24:24.405Z"
   },
   {
    "duration": 162,
    "start_time": "2025-03-26T20:07:57.414Z"
   },
   {
    "duration": 520,
    "start_time": "2025-03-26T20:08:10.840Z"
   },
   {
    "duration": 11,
    "start_time": "2025-03-26T20:08:15.743Z"
   },
   {
    "duration": 16,
    "start_time": "2025-03-26T20:13:28.318Z"
   },
   {
    "duration": 35,
    "start_time": "2025-03-26T20:25:45.505Z"
   },
   {
    "duration": 49,
    "start_time": "2025-03-26T20:39:07.456Z"
   },
   {
    "duration": 5,
    "start_time": "2025-03-26T20:53:29.598Z"
   },
   {
    "duration": 5,
    "start_time": "2025-03-26T20:53:46.264Z"
   },
   {
    "duration": 5,
    "start_time": "2025-03-26T20:55:13.556Z"
   },
   {
    "duration": 170,
    "start_time": "2025-03-27T17:15:09.768Z"
   },
   {
    "duration": 572,
    "start_time": "2025-03-27T17:15:20.538Z"
   },
   {
    "duration": 54,
    "start_time": "2025-03-27T17:15:27.801Z"
   },
   {
    "duration": 9,
    "start_time": "2025-03-27T17:15:35.586Z"
   },
   {
    "duration": 10,
    "start_time": "2025-03-27T17:22:23.908Z"
   },
   {
    "duration": 11,
    "start_time": "2025-03-27T17:22:55.819Z"
   },
   {
    "duration": 9,
    "start_time": "2025-03-27T17:23:10.324Z"
   },
   {
    "duration": 11,
    "start_time": "2025-03-27T17:35:08.337Z"
   },
   {
    "duration": 15,
    "start_time": "2025-03-27T18:15:12.812Z"
   },
   {
    "duration": 10,
    "start_time": "2025-03-27T18:17:07.602Z"
   },
   {
    "duration": 19,
    "start_time": "2025-03-27T18:20:50.703Z"
   },
   {
    "duration": 13,
    "start_time": "2025-03-27T18:21:10.675Z"
   },
   {
    "duration": 14,
    "start_time": "2025-03-27T18:21:42.291Z"
   },
   {
    "duration": 32,
    "start_time": "2025-03-27T18:26:10.868Z"
   },
   {
    "duration": 6,
    "start_time": "2025-03-27T18:26:33.744Z"
   },
   {
    "duration": 12,
    "start_time": "2025-03-27T19:05:28.340Z"
   },
   {
    "duration": 15,
    "start_time": "2025-03-27T19:06:08.302Z"
   },
   {
    "duration": 7,
    "start_time": "2025-03-27T19:06:45.783Z"
   },
   {
    "duration": 18,
    "start_time": "2025-03-27T19:09:53.655Z"
   },
   {
    "duration": 5,
    "start_time": "2025-03-27T19:11:46.010Z"
   },
   {
    "duration": 33,
    "start_time": "2025-03-27T19:12:00.465Z"
   },
   {
    "duration": 38,
    "start_time": "2025-03-27T19:36:33.607Z"
   },
   {
    "duration": 9,
    "start_time": "2025-03-27T19:36:40.738Z"
   },
   {
    "duration": 2,
    "start_time": "2025-03-27T19:38:11.097Z"
   },
   {
    "duration": 5,
    "start_time": "2025-03-27T19:41:40.511Z"
   },
   {
    "duration": 5,
    "start_time": "2025-03-27T19:41:52.604Z"
   },
   {
    "duration": 4,
    "start_time": "2025-03-27T19:42:14.077Z"
   },
   {
    "duration": 19,
    "start_time": "2025-03-27T19:42:36.281Z"
   },
   {
    "duration": 17,
    "start_time": "2025-03-27T19:45:19.277Z"
   },
   {
    "duration": 20,
    "start_time": "2025-03-27T19:45:38.894Z"
   },
   {
    "duration": 32,
    "start_time": "2025-03-27T19:49:38.497Z"
   },
   {
    "duration": 30,
    "start_time": "2025-03-27T19:52:36.533Z"
   },
   {
    "duration": 178,
    "start_time": "2025-03-28T14:10:05.131Z"
   },
   {
    "duration": 625,
    "start_time": "2025-03-28T14:12:31.837Z"
   },
   {
    "duration": 65,
    "start_time": "2025-03-28T14:12:32.464Z"
   },
   {
    "duration": 11,
    "start_time": "2025-03-28T14:12:32.531Z"
   },
   {
    "duration": 5,
    "start_time": "2025-03-28T14:12:32.544Z"
   },
   {
    "duration": 8,
    "start_time": "2025-03-28T14:12:32.551Z"
   },
   {
    "duration": 11,
    "start_time": "2025-03-28T14:12:32.561Z"
   },
   {
    "duration": 42,
    "start_time": "2025-03-28T14:12:32.574Z"
   },
   {
    "duration": 18,
    "start_time": "2025-03-28T14:12:32.618Z"
   },
   {
    "duration": 9,
    "start_time": "2025-03-28T14:12:32.638Z"
   },
   {
    "duration": 17,
    "start_time": "2025-03-28T14:12:32.650Z"
   },
   {
    "duration": 38,
    "start_time": "2025-03-28T14:12:32.668Z"
   },
   {
    "duration": 9,
    "start_time": "2025-03-28T14:12:32.708Z"
   },
   {
    "duration": 14,
    "start_time": "2025-03-28T14:12:32.719Z"
   },
   {
    "duration": 15,
    "start_time": "2025-03-28T14:12:32.735Z"
   },
   {
    "duration": 10,
    "start_time": "2025-03-28T14:12:32.752Z"
   },
   {
    "duration": 42,
    "start_time": "2025-03-28T14:12:32.764Z"
   },
   {
    "duration": 10,
    "start_time": "2025-03-28T14:12:32.808Z"
   },
   {
    "duration": 23,
    "start_time": "2025-03-28T14:12:32.820Z"
   },
   {
    "duration": 24,
    "start_time": "2025-03-28T14:12:32.845Z"
   },
   {
    "duration": 401,
    "start_time": "2025-03-28T14:12:32.871Z"
   },
   {
    "duration": 0,
    "start_time": "2025-03-28T14:12:33.275Z"
   },
   {
    "duration": 0,
    "start_time": "2025-03-28T14:12:33.276Z"
   },
   {
    "duration": 0,
    "start_time": "2025-03-28T14:12:33.278Z"
   },
   {
    "duration": 0,
    "start_time": "2025-03-28T14:12:33.279Z"
   },
   {
    "duration": 0,
    "start_time": "2025-03-28T14:12:33.280Z"
   },
   {
    "duration": 0,
    "start_time": "2025-03-28T14:12:33.281Z"
   },
   {
    "duration": 0,
    "start_time": "2025-03-28T14:12:33.282Z"
   },
   {
    "duration": 0,
    "start_time": "2025-03-28T14:12:33.283Z"
   },
   {
    "duration": 0,
    "start_time": "2025-03-28T14:12:33.284Z"
   },
   {
    "duration": 0,
    "start_time": "2025-03-28T14:12:33.285Z"
   },
   {
    "duration": 0,
    "start_time": "2025-03-28T14:12:33.305Z"
   },
   {
    "duration": 0,
    "start_time": "2025-03-28T14:12:33.305Z"
   },
   {
    "duration": 164,
    "start_time": "2025-03-28T14:12:52.091Z"
   },
   {
    "duration": 164,
    "start_time": "2025-03-28T14:13:54.279Z"
   },
   {
    "duration": 180,
    "start_time": "2025-03-28T14:14:14.339Z"
   },
   {
    "duration": 6,
    "start_time": "2025-03-28T14:19:49.454Z"
   },
   {
    "duration": 12,
    "start_time": "2025-03-28T14:20:48.794Z"
   },
   {
    "duration": 15,
    "start_time": "2025-03-28T14:27:15.452Z"
   },
   {
    "duration": 20,
    "start_time": "2025-03-28T14:27:41.667Z"
   },
   {
    "duration": 82,
    "start_time": "2025-03-28T14:42:26.419Z"
   },
   {
    "duration": 85,
    "start_time": "2025-03-28T14:42:40.830Z"
   },
   {
    "duration": 18,
    "start_time": "2025-03-28T14:46:21.450Z"
   },
   {
    "duration": 13,
    "start_time": "2025-03-28T14:52:44.399Z"
   },
   {
    "duration": 34,
    "start_time": "2025-03-28T15:08:56.585Z"
   },
   {
    "duration": 29,
    "start_time": "2025-03-28T15:10:37.874Z"
   },
   {
    "duration": 4,
    "start_time": "2025-03-28T15:17:23.259Z"
   },
   {
    "duration": 5,
    "start_time": "2025-03-28T15:17:45.895Z"
   },
   {
    "duration": 20,
    "start_time": "2025-03-28T15:19:22.914Z"
   },
   {
    "duration": 464,
    "start_time": "2025-03-28T15:19:56.689Z"
   },
   {
    "duration": 51,
    "start_time": "2025-03-28T15:19:57.155Z"
   },
   {
    "duration": 8,
    "start_time": "2025-03-28T15:19:57.208Z"
   },
   {
    "duration": 6,
    "start_time": "2025-03-28T15:19:57.218Z"
   },
   {
    "duration": 11,
    "start_time": "2025-03-28T15:19:57.228Z"
   },
   {
    "duration": 12,
    "start_time": "2025-03-28T15:19:57.241Z"
   },
   {
    "duration": 11,
    "start_time": "2025-03-28T15:19:57.257Z"
   },
   {
    "duration": 37,
    "start_time": "2025-03-28T15:19:57.270Z"
   },
   {
    "duration": 16,
    "start_time": "2025-03-28T15:19:57.309Z"
   },
   {
    "duration": 10,
    "start_time": "2025-03-28T15:19:57.327Z"
   },
   {
    "duration": 18,
    "start_time": "2025-03-28T15:19:57.338Z"
   },
   {
    "duration": 14,
    "start_time": "2025-03-28T15:19:57.357Z"
   },
   {
    "duration": 8,
    "start_time": "2025-03-28T15:19:57.374Z"
   },
   {
    "duration": 11,
    "start_time": "2025-03-28T15:19:57.408Z"
   },
   {
    "duration": 14,
    "start_time": "2025-03-28T15:19:57.421Z"
   },
   {
    "duration": 7,
    "start_time": "2025-03-28T15:19:57.437Z"
   },
   {
    "duration": 20,
    "start_time": "2025-03-28T15:19:57.446Z"
   },
   {
    "duration": 8,
    "start_time": "2025-03-28T15:19:57.468Z"
   },
   {
    "duration": 21,
    "start_time": "2025-03-28T15:19:57.506Z"
   },
   {
    "duration": 21,
    "start_time": "2025-03-28T15:19:57.529Z"
   },
   {
    "duration": 14,
    "start_time": "2025-03-28T15:19:57.552Z"
   },
   {
    "duration": 42,
    "start_time": "2025-03-28T15:19:57.568Z"
   },
   {
    "duration": 15,
    "start_time": "2025-03-28T15:19:57.612Z"
   },
   {
    "duration": 524,
    "start_time": "2025-03-28T15:19:57.629Z"
   },
   {
    "duration": 0,
    "start_time": "2025-03-28T15:19:58.155Z"
   },
   {
    "duration": 0,
    "start_time": "2025-03-28T15:19:58.155Z"
   },
   {
    "duration": 0,
    "start_time": "2025-03-28T15:19:58.161Z"
   },
   {
    "duration": 0,
    "start_time": "2025-03-28T15:19:58.162Z"
   },
   {
    "duration": 0,
    "start_time": "2025-03-28T15:19:58.163Z"
   },
   {
    "duration": 0,
    "start_time": "2025-03-28T15:19:58.164Z"
   },
   {
    "duration": 0,
    "start_time": "2025-03-28T15:19:58.165Z"
   },
   {
    "duration": 0,
    "start_time": "2025-03-28T15:19:58.166Z"
   },
   {
    "duration": 0,
    "start_time": "2025-03-28T15:19:58.167Z"
   },
   {
    "duration": 33,
    "start_time": "2025-03-28T15:20:11.943Z"
   },
   {
    "duration": 11,
    "start_time": "2025-03-28T15:20:39.736Z"
   },
   {
    "duration": 13,
    "start_time": "2025-03-28T15:20:54.880Z"
   },
   {
    "duration": 24,
    "start_time": "2025-03-28T15:22:01.556Z"
   },
   {
    "duration": 22,
    "start_time": "2025-03-28T15:22:19.429Z"
   },
   {
    "duration": 18,
    "start_time": "2025-03-28T15:22:44.378Z"
   },
   {
    "duration": 16,
    "start_time": "2025-03-28T15:25:43.486Z"
   },
   {
    "duration": 10,
    "start_time": "2025-03-28T15:25:55.035Z"
   },
   {
    "duration": 11,
    "start_time": "2025-03-28T15:26:08.734Z"
   },
   {
    "duration": 16,
    "start_time": "2025-03-28T15:29:18.038Z"
   },
   {
    "duration": 31,
    "start_time": "2025-03-28T15:32:51.189Z"
   },
   {
    "duration": 225,
    "start_time": "2025-03-28T15:35:38.068Z"
   },
   {
    "duration": 14,
    "start_time": "2025-03-28T15:36:47.768Z"
   },
   {
    "duration": 22,
    "start_time": "2025-03-28T15:38:08.271Z"
   },
   {
    "duration": 23,
    "start_time": "2025-03-28T15:38:18.005Z"
   },
   {
    "duration": 19,
    "start_time": "2025-03-28T15:43:05.661Z"
   },
   {
    "duration": 11,
    "start_time": "2025-03-28T15:45:35.596Z"
   },
   {
    "duration": 12,
    "start_time": "2025-03-28T15:45:59.979Z"
   },
   {
    "duration": 21,
    "start_time": "2025-03-28T15:58:01.693Z"
   },
   {
    "duration": 17,
    "start_time": "2025-03-28T16:02:44.943Z"
   },
   {
    "duration": 9,
    "start_time": "2025-03-28T16:02:58.063Z"
   },
   {
    "duration": 11,
    "start_time": "2025-03-28T16:03:07.367Z"
   },
   {
    "duration": 64,
    "start_time": "2025-03-28T16:11:45.263Z"
   },
   {
    "duration": 19,
    "start_time": "2025-03-28T16:16:22.698Z"
   },
   {
    "duration": 67,
    "start_time": "2025-03-28T16:17:45.239Z"
   },
   {
    "duration": 14,
    "start_time": "2025-03-28T16:18:21.499Z"
   },
   {
    "duration": 496,
    "start_time": "2025-03-28T16:20:40.045Z"
   },
   {
    "duration": 51,
    "start_time": "2025-03-28T16:20:40.545Z"
   },
   {
    "duration": 8,
    "start_time": "2025-03-28T16:20:40.599Z"
   },
   {
    "duration": 5,
    "start_time": "2025-03-28T16:20:40.610Z"
   },
   {
    "duration": 7,
    "start_time": "2025-03-28T16:20:40.617Z"
   },
   {
    "duration": 10,
    "start_time": "2025-03-28T16:20:40.626Z"
   },
   {
    "duration": 11,
    "start_time": "2025-03-28T16:20:40.638Z"
   },
   {
    "duration": 5,
    "start_time": "2025-03-28T16:20:40.651Z"
   },
   {
    "duration": 53,
    "start_time": "2025-03-28T16:20:40.658Z"
   },
   {
    "duration": 7,
    "start_time": "2025-03-28T16:20:40.716Z"
   },
   {
    "duration": 18,
    "start_time": "2025-03-28T16:20:40.725Z"
   },
   {
    "duration": 12,
    "start_time": "2025-03-28T16:20:40.746Z"
   },
   {
    "duration": 7,
    "start_time": "2025-03-28T16:20:40.760Z"
   },
   {
    "duration": 39,
    "start_time": "2025-03-28T16:20:40.769Z"
   },
   {
    "duration": 15,
    "start_time": "2025-03-28T16:20:40.809Z"
   },
   {
    "duration": 8,
    "start_time": "2025-03-28T16:20:40.825Z"
   },
   {
    "duration": 13,
    "start_time": "2025-03-28T16:20:40.835Z"
   },
   {
    "duration": 7,
    "start_time": "2025-03-28T16:20:40.850Z"
   },
   {
    "duration": 51,
    "start_time": "2025-03-28T16:20:40.858Z"
   },
   {
    "duration": 25,
    "start_time": "2025-03-28T16:20:40.911Z"
   },
   {
    "duration": 18,
    "start_time": "2025-03-28T16:20:40.938Z"
   },
   {
    "duration": 20,
    "start_time": "2025-03-28T16:20:40.958Z"
   },
   {
    "duration": 34,
    "start_time": "2025-03-28T16:20:40.979Z"
   },
   {
    "duration": 9,
    "start_time": "2025-03-28T16:20:41.015Z"
   },
   {
    "duration": 592,
    "start_time": "2025-03-28T16:20:41.026Z"
   },
   {
    "duration": 0,
    "start_time": "2025-03-28T16:20:41.621Z"
   },
   {
    "duration": 0,
    "start_time": "2025-03-28T16:20:41.622Z"
   },
   {
    "duration": 0,
    "start_time": "2025-03-28T16:20:41.623Z"
   },
   {
    "duration": 0,
    "start_time": "2025-03-28T16:20:41.624Z"
   },
   {
    "duration": 0,
    "start_time": "2025-03-28T16:20:41.626Z"
   },
   {
    "duration": 0,
    "start_time": "2025-03-28T16:20:41.627Z"
   },
   {
    "duration": 0,
    "start_time": "2025-03-28T16:20:41.628Z"
   },
   {
    "duration": 0,
    "start_time": "2025-03-28T16:20:41.629Z"
   },
   {
    "duration": 10,
    "start_time": "2025-03-28T16:21:58.890Z"
   },
   {
    "duration": 10,
    "start_time": "2025-03-28T16:26:25.028Z"
   },
   {
    "duration": 11,
    "start_time": "2025-03-28T16:26:49.665Z"
   },
   {
    "duration": 542,
    "start_time": "2025-03-28T16:30:03.391Z"
   },
   {
    "duration": 72,
    "start_time": "2025-03-28T16:30:03.935Z"
   },
   {
    "duration": 10,
    "start_time": "2025-03-28T16:30:04.009Z"
   },
   {
    "duration": 5,
    "start_time": "2025-03-28T16:30:04.021Z"
   },
   {
    "duration": 9,
    "start_time": "2025-03-28T16:30:04.029Z"
   },
   {
    "duration": 19,
    "start_time": "2025-03-28T16:30:04.039Z"
   },
   {
    "duration": 25,
    "start_time": "2025-03-28T16:30:04.065Z"
   },
   {
    "duration": 15,
    "start_time": "2025-03-28T16:30:04.091Z"
   },
   {
    "duration": 20,
    "start_time": "2025-03-28T16:30:04.107Z"
   },
   {
    "duration": 8,
    "start_time": "2025-03-28T16:30:04.128Z"
   },
   {
    "duration": 28,
    "start_time": "2025-03-28T16:30:04.138Z"
   },
   {
    "duration": 14,
    "start_time": "2025-03-28T16:30:04.168Z"
   },
   {
    "duration": 22,
    "start_time": "2025-03-28T16:30:04.184Z"
   },
   {
    "duration": 23,
    "start_time": "2025-03-28T16:30:04.209Z"
   },
   {
    "duration": 17,
    "start_time": "2025-03-28T16:30:04.234Z"
   },
   {
    "duration": 7,
    "start_time": "2025-03-28T16:30:04.254Z"
   },
   {
    "duration": 20,
    "start_time": "2025-03-28T16:30:04.263Z"
   },
   {
    "duration": 27,
    "start_time": "2025-03-28T16:30:04.285Z"
   },
   {
    "duration": 27,
    "start_time": "2025-03-28T16:30:04.314Z"
   },
   {
    "duration": 25,
    "start_time": "2025-03-28T16:30:04.343Z"
   },
   {
    "duration": 36,
    "start_time": "2025-03-28T16:30:04.370Z"
   },
   {
    "duration": 21,
    "start_time": "2025-03-28T16:30:04.408Z"
   },
   {
    "duration": 19,
    "start_time": "2025-03-28T16:30:04.431Z"
   },
   {
    "duration": 10,
    "start_time": "2025-03-28T16:30:04.451Z"
   },
   {
    "duration": 854,
    "start_time": "2025-03-28T16:30:04.463Z"
   },
   {
    "duration": 0,
    "start_time": "2025-03-28T16:30:05.319Z"
   },
   {
    "duration": 0,
    "start_time": "2025-03-28T16:30:05.320Z"
   },
   {
    "duration": 0,
    "start_time": "2025-03-28T16:30:05.321Z"
   },
   {
    "duration": 0,
    "start_time": "2025-03-28T16:30:05.322Z"
   },
   {
    "duration": 0,
    "start_time": "2025-03-28T16:30:05.323Z"
   },
   {
    "duration": 0,
    "start_time": "2025-03-28T16:30:05.324Z"
   },
   {
    "duration": 0,
    "start_time": "2025-03-28T16:30:05.325Z"
   },
   {
    "duration": 0,
    "start_time": "2025-03-28T16:30:05.326Z"
   },
   {
    "duration": 220,
    "start_time": "2025-03-28T16:32:46.703Z"
   },
   {
    "duration": 12,
    "start_time": "2025-03-28T16:32:57.826Z"
   },
   {
    "duration": 21,
    "start_time": "2025-03-28T16:34:26.860Z"
   },
   {
    "duration": 14,
    "start_time": "2025-03-28T16:34:56.412Z"
   },
   {
    "duration": 21,
    "start_time": "2025-03-28T16:37:34.654Z"
   },
   {
    "duration": 12,
    "start_time": "2025-03-28T16:38:07.058Z"
   },
   {
    "duration": 456,
    "start_time": "2025-03-28T16:39:51.298Z"
   },
   {
    "duration": 52,
    "start_time": "2025-03-28T16:39:51.756Z"
   },
   {
    "duration": 9,
    "start_time": "2025-03-28T16:39:51.809Z"
   },
   {
    "duration": 5,
    "start_time": "2025-03-28T16:39:51.820Z"
   },
   {
    "duration": 9,
    "start_time": "2025-03-28T16:39:51.827Z"
   },
   {
    "duration": 12,
    "start_time": "2025-03-28T16:39:51.838Z"
   },
   {
    "duration": 11,
    "start_time": "2025-03-28T16:39:51.852Z"
   },
   {
    "duration": 42,
    "start_time": "2025-03-28T16:39:51.865Z"
   },
   {
    "duration": 16,
    "start_time": "2025-03-28T16:39:51.908Z"
   },
   {
    "duration": 9,
    "start_time": "2025-03-28T16:39:51.925Z"
   },
   {
    "duration": 20,
    "start_time": "2025-03-28T16:39:51.935Z"
   },
   {
    "duration": 12,
    "start_time": "2025-03-28T16:39:51.956Z"
   },
   {
    "duration": 6,
    "start_time": "2025-03-28T16:39:51.969Z"
   },
   {
    "duration": 11,
    "start_time": "2025-03-28T16:39:52.007Z"
   },
   {
    "duration": 18,
    "start_time": "2025-03-28T16:39:52.020Z"
   },
   {
    "duration": 7,
    "start_time": "2025-03-28T16:39:52.039Z"
   },
   {
    "duration": 58,
    "start_time": "2025-03-28T16:39:52.047Z"
   },
   {
    "duration": 7,
    "start_time": "2025-03-28T16:39:52.107Z"
   },
   {
    "duration": 21,
    "start_time": "2025-03-28T16:39:52.116Z"
   },
   {
    "duration": 20,
    "start_time": "2025-03-28T16:39:52.140Z"
   },
   {
    "duration": 43,
    "start_time": "2025-03-28T16:39:52.162Z"
   },
   {
    "duration": 16,
    "start_time": "2025-03-28T16:39:52.207Z"
   },
   {
    "duration": 15,
    "start_time": "2025-03-28T16:39:52.225Z"
   },
   {
    "duration": 903,
    "start_time": "2025-03-28T16:39:52.242Z"
   },
   {
    "duration": 0,
    "start_time": "2025-03-28T16:39:53.147Z"
   },
   {
    "duration": 0,
    "start_time": "2025-03-28T16:39:53.148Z"
   },
   {
    "duration": 0,
    "start_time": "2025-03-28T16:39:53.149Z"
   },
   {
    "duration": 0,
    "start_time": "2025-03-28T16:39:53.150Z"
   },
   {
    "duration": 0,
    "start_time": "2025-03-28T16:39:53.151Z"
   },
   {
    "duration": 0,
    "start_time": "2025-03-28T16:39:53.153Z"
   },
   {
    "duration": 0,
    "start_time": "2025-03-28T16:39:53.154Z"
   },
   {
    "duration": 0,
    "start_time": "2025-03-28T16:39:53.155Z"
   },
   {
    "duration": 1,
    "start_time": "2025-03-28T16:39:53.155Z"
   },
   {
    "duration": 11,
    "start_time": "2025-03-28T16:40:13.334Z"
   },
   {
    "duration": 12,
    "start_time": "2025-03-28T16:40:37.655Z"
   },
   {
    "duration": 86,
    "start_time": "2025-03-28T16:49:34.521Z"
   },
   {
    "duration": 168,
    "start_time": "2025-03-28T16:50:29.511Z"
   },
   {
    "duration": 4,
    "start_time": "2025-03-28T16:52:10.249Z"
   },
   {
    "duration": 13,
    "start_time": "2025-03-28T16:55:37.227Z"
   },
   {
    "duration": 5,
    "start_time": "2025-03-28T16:55:56.853Z"
   },
   {
    "duration": 466,
    "start_time": "2025-03-28T16:56:27.541Z"
   },
   {
    "duration": 51,
    "start_time": "2025-03-28T16:56:28.009Z"
   },
   {
    "duration": 11,
    "start_time": "2025-03-28T16:56:28.062Z"
   },
   {
    "duration": 5,
    "start_time": "2025-03-28T16:56:28.076Z"
   },
   {
    "duration": 22,
    "start_time": "2025-03-28T16:56:28.083Z"
   },
   {
    "duration": 9,
    "start_time": "2025-03-28T16:56:28.106Z"
   },
   {
    "duration": 9,
    "start_time": "2025-03-28T16:56:28.116Z"
   },
   {
    "duration": 11,
    "start_time": "2025-03-28T16:56:28.127Z"
   },
   {
    "duration": 5,
    "start_time": "2025-03-28T16:56:28.139Z"
   },
   {
    "duration": 14,
    "start_time": "2025-03-28T16:56:28.148Z"
   },
   {
    "duration": 44,
    "start_time": "2025-03-28T16:56:28.164Z"
   },
   {
    "duration": 18,
    "start_time": "2025-03-28T16:56:28.211Z"
   },
   {
    "duration": 11,
    "start_time": "2025-03-28T16:56:28.231Z"
   },
   {
    "duration": 6,
    "start_time": "2025-03-28T16:56:28.244Z"
   },
   {
    "duration": 11,
    "start_time": "2025-03-28T16:56:28.252Z"
   },
   {
    "duration": 42,
    "start_time": "2025-03-28T16:56:28.265Z"
   },
   {
    "duration": 7,
    "start_time": "2025-03-28T16:56:28.309Z"
   },
   {
    "duration": 14,
    "start_time": "2025-03-28T16:56:28.318Z"
   },
   {
    "duration": 7,
    "start_time": "2025-03-28T16:56:28.334Z"
   },
   {
    "duration": 21,
    "start_time": "2025-03-28T16:56:28.343Z"
   },
   {
    "duration": 58,
    "start_time": "2025-03-28T16:56:28.365Z"
   },
   {
    "duration": 18,
    "start_time": "2025-03-28T16:56:28.425Z"
   },
   {
    "duration": 18,
    "start_time": "2025-03-28T16:56:28.445Z"
   },
   {
    "duration": 17,
    "start_time": "2025-03-28T16:56:28.465Z"
   },
   {
    "duration": 893,
    "start_time": "2025-03-28T16:56:28.484Z"
   },
   {
    "duration": 0,
    "start_time": "2025-03-28T16:56:29.379Z"
   },
   {
    "duration": 0,
    "start_time": "2025-03-28T16:56:29.380Z"
   },
   {
    "duration": 0,
    "start_time": "2025-03-28T16:56:29.382Z"
   },
   {
    "duration": 0,
    "start_time": "2025-03-28T16:56:29.384Z"
   },
   {
    "duration": 0,
    "start_time": "2025-03-28T16:56:29.385Z"
   },
   {
    "duration": 0,
    "start_time": "2025-03-28T16:56:29.386Z"
   },
   {
    "duration": 0,
    "start_time": "2025-03-28T16:56:29.387Z"
   },
   {
    "duration": 0,
    "start_time": "2025-03-28T16:56:29.388Z"
   },
   {
    "duration": 0,
    "start_time": "2025-03-28T16:56:29.406Z"
   },
   {
    "duration": 11,
    "start_time": "2025-03-28T16:57:20.163Z"
   },
   {
    "duration": 39,
    "start_time": "2025-03-28T17:00:31.512Z"
   },
   {
    "duration": 18,
    "start_time": "2025-03-28T17:00:39.701Z"
   },
   {
    "duration": 17,
    "start_time": "2025-03-28T17:03:07.554Z"
   },
   {
    "duration": 19,
    "start_time": "2025-03-28T17:04:54.411Z"
   },
   {
    "duration": 19,
    "start_time": "2025-03-28T17:05:19.567Z"
   },
   {
    "duration": 529,
    "start_time": "2025-03-28T17:05:34.104Z"
   },
   {
    "duration": 54,
    "start_time": "2025-03-28T17:05:34.635Z"
   },
   {
    "duration": 17,
    "start_time": "2025-03-28T17:05:34.691Z"
   },
   {
    "duration": 6,
    "start_time": "2025-03-28T17:05:34.711Z"
   },
   {
    "duration": 8,
    "start_time": "2025-03-28T17:05:34.720Z"
   },
   {
    "duration": 9,
    "start_time": "2025-03-28T17:05:34.731Z"
   },
   {
    "duration": 10,
    "start_time": "2025-03-28T17:05:34.742Z"
   },
   {
    "duration": 12,
    "start_time": "2025-03-28T17:05:34.754Z"
   },
   {
    "duration": 42,
    "start_time": "2025-03-28T17:05:34.768Z"
   },
   {
    "duration": 15,
    "start_time": "2025-03-28T17:05:34.812Z"
   },
   {
    "duration": 7,
    "start_time": "2025-03-28T17:05:34.829Z"
   },
   {
    "duration": 18,
    "start_time": "2025-03-28T17:05:34.838Z"
   },
   {
    "duration": 13,
    "start_time": "2025-03-28T17:05:34.858Z"
   },
   {
    "duration": 6,
    "start_time": "2025-03-28T17:05:34.909Z"
   },
   {
    "duration": 13,
    "start_time": "2025-03-28T17:05:34.917Z"
   },
   {
    "duration": 14,
    "start_time": "2025-03-28T17:05:34.933Z"
   },
   {
    "duration": 7,
    "start_time": "2025-03-28T17:05:34.949Z"
   },
   {
    "duration": 15,
    "start_time": "2025-03-28T17:05:34.957Z"
   },
   {
    "duration": 8,
    "start_time": "2025-03-28T17:05:35.007Z"
   },
   {
    "duration": 22,
    "start_time": "2025-03-28T17:05:35.016Z"
   },
   {
    "duration": 20,
    "start_time": "2025-03-28T17:05:35.041Z"
   },
   {
    "duration": 41,
    "start_time": "2025-03-28T17:05:35.064Z"
   },
   {
    "duration": 17,
    "start_time": "2025-03-28T17:05:35.108Z"
   },
   {
    "duration": 17,
    "start_time": "2025-03-28T17:05:35.127Z"
   },
   {
    "duration": 9,
    "start_time": "2025-03-28T17:05:35.146Z"
   },
   {
    "duration": 652,
    "start_time": "2025-03-28T17:05:35.157Z"
   },
   {
    "duration": 0,
    "start_time": "2025-03-28T17:05:35.811Z"
   },
   {
    "duration": 0,
    "start_time": "2025-03-28T17:05:35.812Z"
   },
   {
    "duration": 0,
    "start_time": "2025-03-28T17:05:35.813Z"
   },
   {
    "duration": 0,
    "start_time": "2025-03-28T17:05:35.815Z"
   },
   {
    "duration": 0,
    "start_time": "2025-03-28T17:05:35.816Z"
   },
   {
    "duration": 0,
    "start_time": "2025-03-28T17:05:35.818Z"
   },
   {
    "duration": 0,
    "start_time": "2025-03-28T17:05:35.819Z"
   },
   {
    "duration": 0,
    "start_time": "2025-03-28T17:05:35.821Z"
   },
   {
    "duration": 175,
    "start_time": "2025-03-28T17:07:44.757Z"
   },
   {
    "duration": 43,
    "start_time": "2025-03-28T17:08:39.757Z"
   },
   {
    "duration": 46,
    "start_time": "2025-03-28T17:09:49.699Z"
   },
   {
    "duration": 13,
    "start_time": "2025-03-28T17:10:30.321Z"
   },
   {
    "duration": 14,
    "start_time": "2025-03-28T17:13:29.336Z"
   },
   {
    "duration": 478,
    "start_time": "2025-03-28T17:13:54.410Z"
   },
   {
    "duration": 50,
    "start_time": "2025-03-28T17:13:54.890Z"
   },
   {
    "duration": 8,
    "start_time": "2025-03-28T17:13:54.942Z"
   },
   {
    "duration": 6,
    "start_time": "2025-03-28T17:13:54.952Z"
   },
   {
    "duration": 8,
    "start_time": "2025-03-28T17:13:54.960Z"
   },
   {
    "duration": 8,
    "start_time": "2025-03-28T17:13:54.970Z"
   },
   {
    "duration": 12,
    "start_time": "2025-03-28T17:13:55.005Z"
   },
   {
    "duration": 16,
    "start_time": "2025-03-28T17:13:55.019Z"
   },
   {
    "duration": 5,
    "start_time": "2025-03-28T17:13:55.040Z"
   },
   {
    "duration": 21,
    "start_time": "2025-03-28T17:13:55.048Z"
   },
   {
    "duration": 35,
    "start_time": "2025-03-28T17:13:55.071Z"
   },
   {
    "duration": 17,
    "start_time": "2025-03-28T17:13:55.108Z"
   },
   {
    "duration": 11,
    "start_time": "2025-03-28T17:13:55.128Z"
   },
   {
    "duration": 5,
    "start_time": "2025-03-28T17:13:55.141Z"
   },
   {
    "duration": 11,
    "start_time": "2025-03-28T17:13:55.148Z"
   },
   {
    "duration": 17,
    "start_time": "2025-03-28T17:13:55.161Z"
   },
   {
    "duration": 8,
    "start_time": "2025-03-28T17:13:55.205Z"
   },
   {
    "duration": 20,
    "start_time": "2025-03-28T17:13:55.214Z"
   },
   {
    "duration": 7,
    "start_time": "2025-03-28T17:13:55.236Z"
   },
   {
    "duration": 22,
    "start_time": "2025-03-28T17:13:55.245Z"
   },
   {
    "duration": 46,
    "start_time": "2025-03-28T17:13:55.271Z"
   },
   {
    "duration": 15,
    "start_time": "2025-03-28T17:13:55.319Z"
   },
   {
    "duration": 17,
    "start_time": "2025-03-28T17:13:55.335Z"
   },
   {
    "duration": 17,
    "start_time": "2025-03-28T17:13:55.353Z"
   },
   {
    "duration": 13,
    "start_time": "2025-03-28T17:13:55.371Z"
   },
   {
    "duration": 12,
    "start_time": "2025-03-28T17:13:55.406Z"
   },
   {
    "duration": 7,
    "start_time": "2025-03-28T17:13:55.420Z"
   },
   {
    "duration": 2,
    "start_time": "2025-03-28T17:13:55.431Z"
   },
   {
    "duration": 3,
    "start_time": "2025-03-28T17:13:55.434Z"
   },
   {
    "duration": 2,
    "start_time": "2025-03-28T17:13:55.441Z"
   },
   {
    "duration": 3,
    "start_time": "2025-03-28T17:13:55.445Z"
   },
   {
    "duration": 3,
    "start_time": "2025-03-28T17:13:55.449Z"
   },
   {
    "duration": 3,
    "start_time": "2025-03-28T17:13:55.454Z"
   },
   {
    "duration": 4,
    "start_time": "2025-03-28T17:13:55.458Z"
   },
   {
    "duration": 15,
    "start_time": "2025-03-28T17:14:42.446Z"
   },
   {
    "duration": 465,
    "start_time": "2025-03-28T17:15:13.038Z"
   },
   {
    "duration": 50,
    "start_time": "2025-03-28T17:15:13.505Z"
   },
   {
    "duration": 8,
    "start_time": "2025-03-28T17:15:13.557Z"
   },
   {
    "duration": 5,
    "start_time": "2025-03-28T17:15:13.567Z"
   },
   {
    "duration": 32,
    "start_time": "2025-03-28T17:15:13.575Z"
   },
   {
    "duration": 11,
    "start_time": "2025-03-28T17:15:13.608Z"
   },
   {
    "duration": 11,
    "start_time": "2025-03-28T17:15:13.621Z"
   },
   {
    "duration": 11,
    "start_time": "2025-03-28T17:15:13.636Z"
   },
   {
    "duration": 5,
    "start_time": "2025-03-28T17:15:13.648Z"
   },
   {
    "duration": 15,
    "start_time": "2025-03-28T17:15:13.655Z"
   },
   {
    "duration": 35,
    "start_time": "2025-03-28T17:15:13.672Z"
   },
   {
    "duration": 19,
    "start_time": "2025-03-28T17:15:13.709Z"
   },
   {
    "duration": 12,
    "start_time": "2025-03-28T17:15:13.730Z"
   },
   {
    "duration": 6,
    "start_time": "2025-03-28T17:15:13.746Z"
   },
   {
    "duration": 12,
    "start_time": "2025-03-28T17:15:13.754Z"
   },
   {
    "duration": 47,
    "start_time": "2025-03-28T17:15:13.768Z"
   },
   {
    "duration": 8,
    "start_time": "2025-03-28T17:15:13.816Z"
   },
   {
    "duration": 14,
    "start_time": "2025-03-28T17:15:13.825Z"
   },
   {
    "duration": 7,
    "start_time": "2025-03-28T17:15:13.841Z"
   },
   {
    "duration": 21,
    "start_time": "2025-03-28T17:15:13.850Z"
   },
   {
    "duration": 21,
    "start_time": "2025-03-28T17:15:13.904Z"
   },
   {
    "duration": 14,
    "start_time": "2025-03-28T17:15:13.927Z"
   },
   {
    "duration": 16,
    "start_time": "2025-03-28T17:15:13.943Z"
   },
   {
    "duration": 16,
    "start_time": "2025-03-28T17:15:13.961Z"
   },
   {
    "duration": 15,
    "start_time": "2025-03-28T17:15:14.005Z"
   },
   {
    "duration": 14,
    "start_time": "2025-03-28T17:15:14.023Z"
   },
   {
    "duration": 10,
    "start_time": "2025-03-28T17:15:14.038Z"
   },
   {
    "duration": 3,
    "start_time": "2025-03-28T17:15:14.051Z"
   },
   {
    "duration": 4,
    "start_time": "2025-03-28T17:15:14.055Z"
   },
   {
    "duration": 3,
    "start_time": "2025-03-28T17:15:14.060Z"
   },
   {
    "duration": 3,
    "start_time": "2025-03-28T17:15:14.065Z"
   },
   {
    "duration": 34,
    "start_time": "2025-03-28T17:15:14.071Z"
   },
   {
    "duration": 2,
    "start_time": "2025-03-28T17:15:14.107Z"
   },
   {
    "duration": 3,
    "start_time": "2025-03-28T17:15:14.111Z"
   },
   {
    "duration": 157,
    "start_time": "2025-03-29T18:09:48.293Z"
   },
   {
    "duration": 528,
    "start_time": "2025-03-29T18:10:07.488Z"
   },
   {
    "duration": 53,
    "start_time": "2025-03-29T18:10:08.019Z"
   },
   {
    "duration": 7,
    "start_time": "2025-03-29T18:10:08.075Z"
   },
   {
    "duration": 6,
    "start_time": "2025-03-29T18:10:08.084Z"
   },
   {
    "duration": 24,
    "start_time": "2025-03-29T18:10:08.091Z"
   },
   {
    "duration": 7,
    "start_time": "2025-03-29T18:10:08.116Z"
   },
   {
    "duration": 9,
    "start_time": "2025-03-29T18:10:08.125Z"
   },
   {
    "duration": 11,
    "start_time": "2025-03-29T18:10:08.135Z"
   },
   {
    "duration": 5,
    "start_time": "2025-03-29T18:10:08.147Z"
   },
   {
    "duration": 13,
    "start_time": "2025-03-29T18:10:08.155Z"
   },
   {
    "duration": 6,
    "start_time": "2025-03-29T18:10:08.170Z"
   },
   {
    "duration": 17,
    "start_time": "2025-03-29T18:10:08.212Z"
   },
   {
    "duration": 12,
    "start_time": "2025-03-29T18:10:08.230Z"
   },
   {
    "duration": 6,
    "start_time": "2025-03-29T18:10:08.243Z"
   },
   {
    "duration": 11,
    "start_time": "2025-03-29T18:10:08.251Z"
   },
   {
    "duration": 12,
    "start_time": "2025-03-29T18:10:08.264Z"
   },
   {
    "duration": 40,
    "start_time": "2025-03-29T18:10:08.277Z"
   },
   {
    "duration": 14,
    "start_time": "2025-03-29T18:10:08.318Z"
   },
   {
    "duration": 7,
    "start_time": "2025-03-29T18:10:08.333Z"
   },
   {
    "duration": 20,
    "start_time": "2025-03-29T18:10:08.342Z"
   },
   {
    "duration": 18,
    "start_time": "2025-03-29T18:10:08.364Z"
   },
   {
    "duration": 38,
    "start_time": "2025-03-29T18:10:08.383Z"
   },
   {
    "duration": 15,
    "start_time": "2025-03-29T18:10:08.422Z"
   },
   {
    "duration": 14,
    "start_time": "2025-03-29T18:10:08.439Z"
   },
   {
    "duration": 9,
    "start_time": "2025-03-29T18:10:08.455Z"
   },
   {
    "duration": 47,
    "start_time": "2025-03-29T18:10:08.465Z"
   },
   {
    "duration": 6,
    "start_time": "2025-03-29T18:10:08.513Z"
   },
   {
    "duration": 3,
    "start_time": "2025-03-29T18:10:08.522Z"
   },
   {
    "duration": 2,
    "start_time": "2025-03-29T18:10:08.527Z"
   },
   {
    "duration": 4,
    "start_time": "2025-03-29T18:10:08.530Z"
   },
   {
    "duration": 3,
    "start_time": "2025-03-29T18:10:08.535Z"
   },
   {
    "duration": 3,
    "start_time": "2025-03-29T18:10:08.540Z"
   },
   {
    "duration": 3,
    "start_time": "2025-03-29T18:10:08.544Z"
   },
   {
    "duration": 3,
    "start_time": "2025-03-29T18:10:08.550Z"
   },
   {
    "duration": 543,
    "start_time": "2025-03-29T18:25:46.632Z"
   },
   {
    "duration": 157,
    "start_time": "2025-03-29T18:26:15.481Z"
   },
   {
    "duration": 43,
    "start_time": "2025-03-29T18:27:12.952Z"
   },
   {
    "duration": 5,
    "start_time": "2025-03-29T18:28:20.339Z"
   },
   {
    "duration": 19,
    "start_time": "2025-03-29T18:35:05.052Z"
   },
   {
    "duration": 19,
    "start_time": "2025-03-29T18:35:49.483Z"
   },
   {
    "duration": 20,
    "start_time": "2025-03-29T18:35:55.224Z"
   },
   {
    "duration": 18,
    "start_time": "2025-03-29T18:41:17.222Z"
   },
   {
    "duration": 426,
    "start_time": "2025-03-29T18:41:36.280Z"
   },
   {
    "duration": 51,
    "start_time": "2025-03-29T18:41:36.708Z"
   },
   {
    "duration": 7,
    "start_time": "2025-03-29T18:41:36.761Z"
   },
   {
    "duration": 4,
    "start_time": "2025-03-29T18:41:36.771Z"
   },
   {
    "duration": 7,
    "start_time": "2025-03-29T18:41:36.776Z"
   },
   {
    "duration": 28,
    "start_time": "2025-03-29T18:41:36.784Z"
   },
   {
    "duration": 10,
    "start_time": "2025-03-29T18:41:36.814Z"
   },
   {
    "duration": 10,
    "start_time": "2025-03-29T18:41:36.825Z"
   },
   {
    "duration": 4,
    "start_time": "2025-03-29T18:41:36.837Z"
   },
   {
    "duration": 14,
    "start_time": "2025-03-29T18:41:36.844Z"
   },
   {
    "duration": 6,
    "start_time": "2025-03-29T18:41:36.860Z"
   },
   {
    "duration": 49,
    "start_time": "2025-03-29T18:41:36.868Z"
   },
   {
    "duration": 11,
    "start_time": "2025-03-29T18:41:36.919Z"
   },
   {
    "duration": 6,
    "start_time": "2025-03-29T18:41:36.931Z"
   },
   {
    "duration": 12,
    "start_time": "2025-03-29T18:41:36.938Z"
   },
   {
    "duration": 14,
    "start_time": "2025-03-29T18:41:36.951Z"
   },
   {
    "duration": 8,
    "start_time": "2025-03-29T18:41:36.967Z"
   },
   {
    "duration": 45,
    "start_time": "2025-03-29T18:41:36.976Z"
   },
   {
    "duration": 8,
    "start_time": "2025-03-29T18:41:37.023Z"
   },
   {
    "duration": 19,
    "start_time": "2025-03-29T18:41:37.034Z"
   },
   {
    "duration": 19,
    "start_time": "2025-03-29T18:41:37.054Z"
   },
   {
    "duration": 37,
    "start_time": "2025-03-29T18:41:37.074Z"
   },
   {
    "duration": 16,
    "start_time": "2025-03-29T18:41:37.113Z"
   },
   {
    "duration": 16,
    "start_time": "2025-03-29T18:41:37.131Z"
   },
   {
    "duration": 8,
    "start_time": "2025-03-29T18:41:37.149Z"
   },
   {
    "duration": 9,
    "start_time": "2025-03-29T18:41:37.159Z"
   },
   {
    "duration": 7,
    "start_time": "2025-03-29T18:41:37.169Z"
   },
   {
    "duration": 2,
    "start_time": "2025-03-29T18:41:37.212Z"
   },
   {
    "duration": 2,
    "start_time": "2025-03-29T18:41:37.216Z"
   },
   {
    "duration": 2,
    "start_time": "2025-03-29T18:41:37.220Z"
   },
   {
    "duration": 3,
    "start_time": "2025-03-29T18:41:37.224Z"
   },
   {
    "duration": 3,
    "start_time": "2025-03-29T18:41:37.228Z"
   },
   {
    "duration": 2,
    "start_time": "2025-03-29T18:41:37.234Z"
   },
   {
    "duration": 3,
    "start_time": "2025-03-29T18:41:37.237Z"
   },
   {
    "duration": 534,
    "start_time": "2025-03-29T18:44:16.242Z"
   },
   {
    "duration": 445,
    "start_time": "2025-03-29T18:44:44.162Z"
   },
   {
    "duration": 50,
    "start_time": "2025-03-29T18:44:44.609Z"
   },
   {
    "duration": 8,
    "start_time": "2025-03-29T18:44:44.661Z"
   },
   {
    "duration": 5,
    "start_time": "2025-03-29T18:44:44.671Z"
   },
   {
    "duration": 7,
    "start_time": "2025-03-29T18:44:44.679Z"
   },
   {
    "duration": 11,
    "start_time": "2025-03-29T18:44:44.713Z"
   },
   {
    "duration": 8,
    "start_time": "2025-03-29T18:44:44.726Z"
   },
   {
    "duration": 10,
    "start_time": "2025-03-29T18:44:44.736Z"
   },
   {
    "duration": 5,
    "start_time": "2025-03-29T18:44:44.747Z"
   },
   {
    "duration": 14,
    "start_time": "2025-03-29T18:44:44.753Z"
   },
   {
    "duration": 8,
    "start_time": "2025-03-29T18:44:44.768Z"
   },
   {
    "duration": 50,
    "start_time": "2025-03-29T18:44:44.777Z"
   },
   {
    "duration": 12,
    "start_time": "2025-03-29T18:44:44.830Z"
   },
   {
    "duration": 6,
    "start_time": "2025-03-29T18:44:44.846Z"
   },
   {
    "duration": 10,
    "start_time": "2025-03-29T18:44:44.854Z"
   },
   {
    "duration": 12,
    "start_time": "2025-03-29T18:44:44.866Z"
   },
   {
    "duration": 33,
    "start_time": "2025-03-29T18:44:44.880Z"
   },
   {
    "duration": 16,
    "start_time": "2025-03-29T18:44:44.915Z"
   },
   {
    "duration": 7,
    "start_time": "2025-03-29T18:44:44.933Z"
   },
   {
    "duration": 19,
    "start_time": "2025-03-29T18:44:44.942Z"
   },
   {
    "duration": 19,
    "start_time": "2025-03-29T18:44:44.963Z"
   },
   {
    "duration": 17,
    "start_time": "2025-03-29T18:44:45.012Z"
   },
   {
    "duration": 20,
    "start_time": "2025-03-29T18:44:45.031Z"
   },
   {
    "duration": 18,
    "start_time": "2025-03-29T18:44:45.053Z"
   },
   {
    "duration": 10,
    "start_time": "2025-03-29T18:44:45.074Z"
   },
   {
    "duration": 40,
    "start_time": "2025-03-29T18:44:45.086Z"
   },
   {
    "duration": 6,
    "start_time": "2025-03-29T18:44:45.127Z"
   },
   {
    "duration": 4,
    "start_time": "2025-03-29T18:44:45.134Z"
   },
   {
    "duration": 3,
    "start_time": "2025-03-29T18:44:45.140Z"
   },
   {
    "duration": 4,
    "start_time": "2025-03-29T18:44:45.144Z"
   },
   {
    "duration": 3,
    "start_time": "2025-03-29T18:44:45.149Z"
   },
   {
    "duration": 3,
    "start_time": "2025-03-29T18:44:45.154Z"
   },
   {
    "duration": 3,
    "start_time": "2025-03-29T18:44:45.158Z"
   },
   {
    "duration": 2,
    "start_time": "2025-03-29T18:44:45.163Z"
   },
   {
    "duration": 195,
    "start_time": "2025-03-29T18:48:34.924Z"
   },
   {
    "duration": 18,
    "start_time": "2025-03-29T18:48:52.946Z"
   },
   {
    "duration": 440,
    "start_time": "2025-03-29T18:49:42.710Z"
   },
   {
    "duration": 50,
    "start_time": "2025-03-29T18:49:43.152Z"
   },
   {
    "duration": 14,
    "start_time": "2025-03-29T18:49:43.203Z"
   },
   {
    "duration": 5,
    "start_time": "2025-03-29T18:49:43.218Z"
   },
   {
    "duration": 7,
    "start_time": "2025-03-29T18:49:43.226Z"
   },
   {
    "duration": 7,
    "start_time": "2025-03-29T18:49:43.234Z"
   },
   {
    "duration": 8,
    "start_time": "2025-03-29T18:49:43.243Z"
   },
   {
    "duration": 10,
    "start_time": "2025-03-29T18:49:43.252Z"
   },
   {
    "duration": 4,
    "start_time": "2025-03-29T18:49:43.264Z"
   },
   {
    "duration": 51,
    "start_time": "2025-03-29T18:49:43.269Z"
   },
   {
    "duration": 6,
    "start_time": "2025-03-29T18:49:43.321Z"
   },
   {
    "duration": 17,
    "start_time": "2025-03-29T18:49:43.329Z"
   },
   {
    "duration": 10,
    "start_time": "2025-03-29T18:49:43.348Z"
   },
   {
    "duration": 6,
    "start_time": "2025-03-29T18:49:43.362Z"
   },
   {
    "duration": 42,
    "start_time": "2025-03-29T18:49:43.370Z"
   },
   {
    "duration": 13,
    "start_time": "2025-03-29T18:49:43.415Z"
   },
   {
    "duration": 6,
    "start_time": "2025-03-29T18:49:43.430Z"
   },
   {
    "duration": 15,
    "start_time": "2025-03-29T18:49:43.438Z"
   },
   {
    "duration": 7,
    "start_time": "2025-03-29T18:49:43.455Z"
   },
   {
    "duration": 48,
    "start_time": "2025-03-29T18:49:43.464Z"
   },
   {
    "duration": 18,
    "start_time": "2025-03-29T18:49:43.513Z"
   },
   {
    "duration": 12,
    "start_time": "2025-03-29T18:49:43.533Z"
   },
   {
    "duration": 15,
    "start_time": "2025-03-29T18:49:43.547Z"
   },
   {
    "duration": 16,
    "start_time": "2025-03-29T18:49:43.564Z"
   },
   {
    "duration": 37,
    "start_time": "2025-03-29T18:49:43.581Z"
   },
   {
    "duration": 15,
    "start_time": "2025-03-29T18:49:43.620Z"
   },
   {
    "duration": 5,
    "start_time": "2025-03-29T18:49:43.636Z"
   },
   {
    "duration": 3,
    "start_time": "2025-03-29T18:49:43.643Z"
   },
   {
    "duration": 3,
    "start_time": "2025-03-29T18:49:43.647Z"
   },
   {
    "duration": 3,
    "start_time": "2025-03-29T18:49:43.652Z"
   },
   {
    "duration": 4,
    "start_time": "2025-03-29T18:49:43.656Z"
   },
   {
    "duration": 4,
    "start_time": "2025-03-29T18:49:43.661Z"
   },
   {
    "duration": 2,
    "start_time": "2025-03-29T18:49:43.667Z"
   },
   {
    "duration": 3,
    "start_time": "2025-03-29T18:49:43.671Z"
   },
   {
    "duration": 21,
    "start_time": "2025-03-29T18:55:54.954Z"
   },
   {
    "duration": 20,
    "start_time": "2025-03-29T19:00:10.221Z"
   },
   {
    "duration": 95,
    "start_time": "2025-03-29T19:01:40.788Z"
   },
   {
    "duration": 453,
    "start_time": "2025-03-29T19:02:00.819Z"
   },
   {
    "duration": 49,
    "start_time": "2025-03-29T19:02:01.275Z"
   },
   {
    "duration": 8,
    "start_time": "2025-03-29T19:02:01.326Z"
   },
   {
    "duration": 5,
    "start_time": "2025-03-29T19:02:01.335Z"
   },
   {
    "duration": 6,
    "start_time": "2025-03-29T19:02:01.344Z"
   },
   {
    "duration": 7,
    "start_time": "2025-03-29T19:02:01.353Z"
   },
   {
    "duration": 9,
    "start_time": "2025-03-29T19:02:01.361Z"
   },
   {
    "duration": 45,
    "start_time": "2025-03-29T19:02:01.372Z"
   },
   {
    "duration": 3,
    "start_time": "2025-03-29T19:02:01.419Z"
   },
   {
    "duration": 13,
    "start_time": "2025-03-29T19:02:01.425Z"
   },
   {
    "duration": 6,
    "start_time": "2025-03-29T19:02:01.439Z"
   },
   {
    "duration": 17,
    "start_time": "2025-03-29T19:02:01.447Z"
   },
   {
    "duration": 12,
    "start_time": "2025-03-29T19:02:01.465Z"
   },
   {
    "duration": 5,
    "start_time": "2025-03-29T19:02:01.513Z"
   },
   {
    "duration": 12,
    "start_time": "2025-03-29T19:02:01.520Z"
   },
   {
    "duration": 13,
    "start_time": "2025-03-29T19:02:01.533Z"
   },
   {
    "duration": 7,
    "start_time": "2025-03-29T19:02:01.548Z"
   },
   {
    "duration": 14,
    "start_time": "2025-03-29T19:02:01.556Z"
   },
   {
    "duration": 6,
    "start_time": "2025-03-29T19:02:01.572Z"
   },
   {
    "duration": 20,
    "start_time": "2025-03-29T19:02:01.612Z"
   },
   {
    "duration": 19,
    "start_time": "2025-03-29T19:02:01.634Z"
   },
   {
    "duration": 13,
    "start_time": "2025-03-29T19:02:01.654Z"
   },
   {
    "duration": 15,
    "start_time": "2025-03-29T19:02:01.668Z"
   },
   {
    "duration": 44,
    "start_time": "2025-03-29T19:02:01.685Z"
   },
   {
    "duration": 8,
    "start_time": "2025-03-29T19:02:01.731Z"
   },
   {
    "duration": 21,
    "start_time": "2025-03-29T19:02:01.741Z"
   },
   {
    "duration": 6,
    "start_time": "2025-03-29T19:02:01.763Z"
   },
   {
    "duration": 4,
    "start_time": "2025-03-29T19:02:01.770Z"
   },
   {
    "duration": 2,
    "start_time": "2025-03-29T19:02:01.776Z"
   },
   {
    "duration": 33,
    "start_time": "2025-03-29T19:02:01.779Z"
   },
   {
    "duration": 3,
    "start_time": "2025-03-29T19:02:01.814Z"
   },
   {
    "duration": 3,
    "start_time": "2025-03-29T19:02:01.818Z"
   },
   {
    "duration": 3,
    "start_time": "2025-03-29T19:02:01.823Z"
   },
   {
    "duration": 3,
    "start_time": "2025-03-29T19:02:01.828Z"
   },
   {
    "duration": 4,
    "start_time": "2025-03-29T19:08:16.854Z"
   },
   {
    "duration": 541,
    "start_time": "2025-03-29T19:08:40.445Z"
   },
   {
    "duration": 433,
    "start_time": "2025-03-29T19:09:01.697Z"
   },
   {
    "duration": 50,
    "start_time": "2025-03-29T19:09:02.133Z"
   },
   {
    "duration": 8,
    "start_time": "2025-03-29T19:09:02.185Z"
   },
   {
    "duration": 18,
    "start_time": "2025-03-29T19:09:02.194Z"
   },
   {
    "duration": 6,
    "start_time": "2025-03-29T19:09:02.215Z"
   },
   {
    "duration": 7,
    "start_time": "2025-03-29T19:09:02.223Z"
   },
   {
    "duration": 8,
    "start_time": "2025-03-29T19:09:02.232Z"
   },
   {
    "duration": 10,
    "start_time": "2025-03-29T19:09:02.241Z"
   },
   {
    "duration": 5,
    "start_time": "2025-03-29T19:09:02.253Z"
   },
   {
    "duration": 15,
    "start_time": "2025-03-29T19:09:02.259Z"
   },
   {
    "duration": 42,
    "start_time": "2025-03-29T19:09:02.275Z"
   },
   {
    "duration": 17,
    "start_time": "2025-03-29T19:09:02.319Z"
   },
   {
    "duration": 11,
    "start_time": "2025-03-29T19:09:02.338Z"
   },
   {
    "duration": 5,
    "start_time": "2025-03-29T19:09:02.353Z"
   },
   {
    "duration": 11,
    "start_time": "2025-03-29T19:09:02.360Z"
   },
   {
    "duration": 43,
    "start_time": "2025-03-29T19:09:02.373Z"
   },
   {
    "duration": 6,
    "start_time": "2025-03-29T19:09:02.418Z"
   },
   {
    "duration": 14,
    "start_time": "2025-03-29T19:09:02.426Z"
   },
   {
    "duration": 7,
    "start_time": "2025-03-29T19:09:02.441Z"
   },
   {
    "duration": 20,
    "start_time": "2025-03-29T19:09:02.449Z"
   },
   {
    "duration": 48,
    "start_time": "2025-03-29T19:09:02.470Z"
   },
   {
    "duration": 13,
    "start_time": "2025-03-29T19:09:02.519Z"
   },
   {
    "duration": 14,
    "start_time": "2025-03-29T19:09:02.534Z"
   },
   {
    "duration": 19,
    "start_time": "2025-03-29T19:09:02.550Z"
   },
   {
    "duration": 9,
    "start_time": "2025-03-29T19:09:02.571Z"
   },
   {
    "duration": 46,
    "start_time": "2025-03-29T19:09:02.583Z"
   },
   {
    "duration": 6,
    "start_time": "2025-03-29T19:09:02.630Z"
   },
   {
    "duration": 3,
    "start_time": "2025-03-29T19:09:02.638Z"
   },
   {
    "duration": 3,
    "start_time": "2025-03-29T19:09:02.642Z"
   },
   {
    "duration": 3,
    "start_time": "2025-03-29T19:09:02.647Z"
   },
   {
    "duration": 3,
    "start_time": "2025-03-29T19:09:02.651Z"
   },
   {
    "duration": 3,
    "start_time": "2025-03-29T19:09:02.656Z"
   },
   {
    "duration": 2,
    "start_time": "2025-03-29T19:09:02.661Z"
   },
   {
    "duration": 3,
    "start_time": "2025-03-29T19:09:02.665Z"
   },
   {
    "duration": 539,
    "start_time": "2025-03-29T19:21:57.764Z"
   },
   {
    "duration": 105,
    "start_time": "2025-03-29T19:22:37.321Z"
   },
   {
    "duration": 12,
    "start_time": "2025-03-29T19:25:26.017Z"
   },
   {
    "duration": 62,
    "start_time": "2025-03-29T19:25:44.261Z"
   },
   {
    "duration": 29,
    "start_time": "2025-03-29T19:26:43.138Z"
   },
   {
    "duration": 155,
    "start_time": "2025-03-29T19:27:22.879Z"
   },
   {
    "duration": 165,
    "start_time": "2025-03-29T19:28:03.280Z"
   },
   {
    "duration": 4,
    "start_time": "2025-03-29T19:33:46.530Z"
   },
   {
    "duration": 107,
    "start_time": "2025-03-29T19:33:56.148Z"
   },
   {
    "duration": 12,
    "start_time": "2025-03-29T19:45:12.494Z"
   },
   {
    "duration": 17,
    "start_time": "2025-03-29T19:45:20.238Z"
   },
   {
    "duration": 42,
    "start_time": "2025-03-29T19:48:20.304Z"
   },
   {
    "duration": 44,
    "start_time": "2025-03-29T19:48:42.371Z"
   },
   {
    "duration": 467,
    "start_time": "2025-03-29T19:49:06.323Z"
   },
   {
    "duration": 52,
    "start_time": "2025-03-29T19:49:06.793Z"
   },
   {
    "duration": 8,
    "start_time": "2025-03-29T19:49:06.847Z"
   },
   {
    "duration": 6,
    "start_time": "2025-03-29T19:49:06.856Z"
   },
   {
    "duration": 7,
    "start_time": "2025-03-29T19:49:06.864Z"
   },
   {
    "duration": 8,
    "start_time": "2025-03-29T19:49:06.873Z"
   },
   {
    "duration": 30,
    "start_time": "2025-03-29T19:49:06.883Z"
   },
   {
    "duration": 12,
    "start_time": "2025-03-29T19:49:06.915Z"
   },
   {
    "duration": 5,
    "start_time": "2025-03-29T19:49:06.928Z"
   },
   {
    "duration": 15,
    "start_time": "2025-03-29T19:49:06.934Z"
   },
   {
    "duration": 6,
    "start_time": "2025-03-29T19:49:06.950Z"
   },
   {
    "duration": 54,
    "start_time": "2025-03-29T19:49:06.958Z"
   },
   {
    "duration": 41,
    "start_time": "2025-03-29T19:49:07.014Z"
   },
   {
    "duration": 11,
    "start_time": "2025-03-29T19:49:07.058Z"
   },
   {
    "duration": 5,
    "start_time": "2025-03-29T19:49:07.071Z"
   },
   {
    "duration": 35,
    "start_time": "2025-03-29T19:49:07.078Z"
   },
   {
    "duration": 13,
    "start_time": "2025-03-29T19:49:07.114Z"
   },
   {
    "duration": 6,
    "start_time": "2025-03-29T19:49:07.128Z"
   },
   {
    "duration": 14,
    "start_time": "2025-03-29T19:49:07.136Z"
   },
   {
    "duration": 7,
    "start_time": "2025-03-29T19:49:07.152Z"
   },
   {
    "duration": 20,
    "start_time": "2025-03-29T19:49:07.160Z"
   },
   {
    "duration": 312,
    "start_time": "2025-03-29T19:49:07.181Z"
   },
   {
    "duration": 0,
    "start_time": "2025-03-29T19:49:07.495Z"
   },
   {
    "duration": 0,
    "start_time": "2025-03-29T19:49:07.496Z"
   },
   {
    "duration": 0,
    "start_time": "2025-03-29T19:49:07.497Z"
   },
   {
    "duration": 0,
    "start_time": "2025-03-29T19:49:07.498Z"
   },
   {
    "duration": 0,
    "start_time": "2025-03-29T19:49:07.500Z"
   },
   {
    "duration": 0,
    "start_time": "2025-03-29T19:49:07.501Z"
   },
   {
    "duration": 0,
    "start_time": "2025-03-29T19:49:07.512Z"
   },
   {
    "duration": 0,
    "start_time": "2025-03-29T19:49:07.513Z"
   },
   {
    "duration": 0,
    "start_time": "2025-03-29T19:49:07.514Z"
   },
   {
    "duration": 0,
    "start_time": "2025-03-29T19:49:07.516Z"
   },
   {
    "duration": 0,
    "start_time": "2025-03-29T19:49:07.517Z"
   },
   {
    "duration": 0,
    "start_time": "2025-03-29T19:49:07.518Z"
   },
   {
    "duration": 0,
    "start_time": "2025-03-29T19:49:07.520Z"
   },
   {
    "duration": 9,
    "start_time": "2025-03-29T19:55:46.128Z"
   },
   {
    "duration": 10,
    "start_time": "2025-03-29T19:56:03.046Z"
   },
   {
    "duration": 12,
    "start_time": "2025-03-29T20:00:53.245Z"
   },
   {
    "duration": 15,
    "start_time": "2025-03-29T20:01:07.854Z"
   },
   {
    "duration": 14,
    "start_time": "2025-03-29T20:01:20.350Z"
   },
   {
    "duration": 14,
    "start_time": "2025-03-29T20:03:14.213Z"
   },
   {
    "duration": 5,
    "start_time": "2025-03-29T20:03:57.122Z"
   },
   {
    "duration": 6,
    "start_time": "2025-03-29T20:04:25.973Z"
   },
   {
    "duration": 423,
    "start_time": "2025-03-29T20:04:33.285Z"
   },
   {
    "duration": 49,
    "start_time": "2025-03-29T20:04:33.710Z"
   },
   {
    "duration": 9,
    "start_time": "2025-03-29T20:04:33.761Z"
   },
   {
    "duration": 5,
    "start_time": "2025-03-29T20:04:33.773Z"
   },
   {
    "duration": 8,
    "start_time": "2025-03-29T20:04:33.780Z"
   },
   {
    "duration": 9,
    "start_time": "2025-03-29T20:04:33.812Z"
   },
   {
    "duration": 8,
    "start_time": "2025-03-29T20:04:33.822Z"
   },
   {
    "duration": 11,
    "start_time": "2025-03-29T20:04:33.832Z"
   },
   {
    "duration": 5,
    "start_time": "2025-03-29T20:04:33.844Z"
   },
   {
    "duration": 14,
    "start_time": "2025-03-29T20:04:33.853Z"
   },
   {
    "duration": 6,
    "start_time": "2025-03-29T20:04:33.868Z"
   },
   {
    "duration": 52,
    "start_time": "2025-03-29T20:04:33.876Z"
   },
   {
    "duration": 4,
    "start_time": "2025-03-29T20:04:33.930Z"
   },
   {
    "duration": 10,
    "start_time": "2025-03-29T20:04:33.936Z"
   },
   {
    "duration": 6,
    "start_time": "2025-03-29T20:04:33.948Z"
   },
   {
    "duration": 10,
    "start_time": "2025-03-29T20:04:33.956Z"
   },
   {
    "duration": 50,
    "start_time": "2025-03-29T20:04:33.968Z"
   },
   {
    "duration": 6,
    "start_time": "2025-03-29T20:04:34.019Z"
   },
   {
    "duration": 13,
    "start_time": "2025-03-29T20:04:34.027Z"
   },
   {
    "duration": 7,
    "start_time": "2025-03-29T20:04:34.041Z"
   },
   {
    "duration": 21,
    "start_time": "2025-03-29T20:04:34.050Z"
   },
   {
    "duration": 309,
    "start_time": "2025-03-29T20:04:34.072Z"
   },
   {
    "duration": 0,
    "start_time": "2025-03-29T20:04:34.383Z"
   },
   {
    "duration": 0,
    "start_time": "2025-03-29T20:04:34.385Z"
   },
   {
    "duration": 0,
    "start_time": "2025-03-29T20:04:34.386Z"
   },
   {
    "duration": 0,
    "start_time": "2025-03-29T20:04:34.387Z"
   },
   {
    "duration": 0,
    "start_time": "2025-03-29T20:04:34.389Z"
   },
   {
    "duration": 0,
    "start_time": "2025-03-29T20:04:34.390Z"
   },
   {
    "duration": 0,
    "start_time": "2025-03-29T20:04:34.412Z"
   },
   {
    "duration": 0,
    "start_time": "2025-03-29T20:04:34.413Z"
   },
   {
    "duration": 0,
    "start_time": "2025-03-29T20:04:34.415Z"
   },
   {
    "duration": 0,
    "start_time": "2025-03-29T20:04:34.416Z"
   },
   {
    "duration": 0,
    "start_time": "2025-03-29T20:04:34.418Z"
   },
   {
    "duration": 0,
    "start_time": "2025-03-29T20:04:34.419Z"
   },
   {
    "duration": 0,
    "start_time": "2025-03-29T20:04:34.421Z"
   },
   {
    "duration": 9,
    "start_time": "2025-03-29T20:06:06.135Z"
   },
   {
    "duration": 19,
    "start_time": "2025-03-29T20:08:39.336Z"
   },
   {
    "duration": 468,
    "start_time": "2025-03-29T20:08:57.217Z"
   },
   {
    "duration": 50,
    "start_time": "2025-03-29T20:08:57.688Z"
   },
   {
    "duration": 7,
    "start_time": "2025-03-29T20:08:57.739Z"
   },
   {
    "duration": 6,
    "start_time": "2025-03-29T20:08:57.749Z"
   },
   {
    "duration": 7,
    "start_time": "2025-03-29T20:08:57.756Z"
   },
   {
    "duration": 8,
    "start_time": "2025-03-29T20:08:57.764Z"
   },
   {
    "duration": 8,
    "start_time": "2025-03-29T20:08:57.774Z"
   },
   {
    "duration": 11,
    "start_time": "2025-03-29T20:08:57.812Z"
   },
   {
    "duration": 5,
    "start_time": "2025-03-29T20:08:57.824Z"
   },
   {
    "duration": 14,
    "start_time": "2025-03-29T20:08:57.832Z"
   },
   {
    "duration": 7,
    "start_time": "2025-03-29T20:08:57.847Z"
   },
   {
    "duration": 18,
    "start_time": "2025-03-29T20:08:57.856Z"
   },
   {
    "duration": 43,
    "start_time": "2025-03-29T20:08:57.876Z"
   },
   {
    "duration": 12,
    "start_time": "2025-03-29T20:08:57.920Z"
   },
   {
    "duration": 6,
    "start_time": "2025-03-29T20:08:57.933Z"
   },
   {
    "duration": 10,
    "start_time": "2025-03-29T20:08:57.941Z"
   },
   {
    "duration": 13,
    "start_time": "2025-03-29T20:08:57.953Z"
   },
   {
    "duration": 8,
    "start_time": "2025-03-29T20:08:57.967Z"
   },
   {
    "duration": 48,
    "start_time": "2025-03-29T20:08:57.977Z"
   },
   {
    "duration": 8,
    "start_time": "2025-03-29T20:08:58.027Z"
   },
   {
    "duration": 20,
    "start_time": "2025-03-29T20:08:58.037Z"
   },
   {
    "duration": 18,
    "start_time": "2025-03-29T20:08:58.059Z"
   },
   {
    "duration": 37,
    "start_time": "2025-03-29T20:08:58.079Z"
   },
   {
    "duration": 15,
    "start_time": "2025-03-29T20:08:58.117Z"
   },
   {
    "duration": 20,
    "start_time": "2025-03-29T20:08:58.133Z"
   },
   {
    "duration": 8,
    "start_time": "2025-03-29T20:08:58.155Z"
   },
   {
    "duration": 47,
    "start_time": "2025-03-29T20:08:58.165Z"
   },
   {
    "duration": 5,
    "start_time": "2025-03-29T20:08:58.216Z"
   },
   {
    "duration": 3,
    "start_time": "2025-03-29T20:08:58.223Z"
   },
   {
    "duration": 3,
    "start_time": "2025-03-29T20:08:58.227Z"
   },
   {
    "duration": 3,
    "start_time": "2025-03-29T20:08:58.232Z"
   },
   {
    "duration": 3,
    "start_time": "2025-03-29T20:08:58.237Z"
   },
   {
    "duration": 3,
    "start_time": "2025-03-29T20:08:58.241Z"
   },
   {
    "duration": 3,
    "start_time": "2025-03-29T20:08:58.246Z"
   },
   {
    "duration": 3,
    "start_time": "2025-03-29T20:08:58.250Z"
   },
   {
    "duration": 546,
    "start_time": "2025-03-29T20:14:36.282Z"
   },
   {
    "duration": 441,
    "start_time": "2025-03-29T20:15:00.770Z"
   },
   {
    "duration": 49,
    "start_time": "2025-03-29T20:15:01.213Z"
   },
   {
    "duration": 8,
    "start_time": "2025-03-29T20:15:01.264Z"
   },
   {
    "duration": 4,
    "start_time": "2025-03-29T20:15:01.275Z"
   },
   {
    "duration": 7,
    "start_time": "2025-03-29T20:15:01.281Z"
   },
   {
    "duration": 7,
    "start_time": "2025-03-29T20:15:01.312Z"
   },
   {
    "duration": 8,
    "start_time": "2025-03-29T20:15:01.321Z"
   },
   {
    "duration": 9,
    "start_time": "2025-03-29T20:15:01.331Z"
   },
   {
    "duration": 4,
    "start_time": "2025-03-29T20:15:01.342Z"
   },
   {
    "duration": 14,
    "start_time": "2025-03-29T20:15:01.349Z"
   },
   {
    "duration": 6,
    "start_time": "2025-03-29T20:15:01.364Z"
   },
   {
    "duration": 54,
    "start_time": "2025-03-29T20:15:01.372Z"
   },
   {
    "duration": 9,
    "start_time": "2025-03-29T20:15:01.428Z"
   },
   {
    "duration": 11,
    "start_time": "2025-03-29T20:15:01.439Z"
   },
   {
    "duration": 5,
    "start_time": "2025-03-29T20:15:01.452Z"
   },
   {
    "duration": 10,
    "start_time": "2025-03-29T20:15:01.459Z"
   },
   {
    "duration": 41,
    "start_time": "2025-03-29T20:15:01.471Z"
   },
   {
    "duration": 6,
    "start_time": "2025-03-29T20:15:01.514Z"
   },
   {
    "duration": 13,
    "start_time": "2025-03-29T20:15:01.522Z"
   },
   {
    "duration": 7,
    "start_time": "2025-03-29T20:15:01.537Z"
   },
   {
    "duration": 20,
    "start_time": "2025-03-29T20:15:01.545Z"
   },
   {
    "duration": 47,
    "start_time": "2025-03-29T20:15:01.567Z"
   },
   {
    "duration": 12,
    "start_time": "2025-03-29T20:15:01.615Z"
   },
   {
    "duration": 562,
    "start_time": "2025-03-29T20:15:01.629Z"
   },
   {
    "duration": 0,
    "start_time": "2025-03-29T20:15:02.193Z"
   },
   {
    "duration": 0,
    "start_time": "2025-03-29T20:15:02.194Z"
   },
   {
    "duration": 0,
    "start_time": "2025-03-29T20:15:02.196Z"
   },
   {
    "duration": 0,
    "start_time": "2025-03-29T20:15:02.197Z"
   },
   {
    "duration": 0,
    "start_time": "2025-03-29T20:15:02.198Z"
   },
   {
    "duration": 0,
    "start_time": "2025-03-29T20:15:02.199Z"
   },
   {
    "duration": 0,
    "start_time": "2025-03-29T20:15:02.200Z"
   },
   {
    "duration": 0,
    "start_time": "2025-03-29T20:15:02.212Z"
   },
   {
    "duration": 0,
    "start_time": "2025-03-29T20:15:02.213Z"
   },
   {
    "duration": 0,
    "start_time": "2025-03-29T20:15:02.214Z"
   },
   {
    "duration": 0,
    "start_time": "2025-03-29T20:15:02.215Z"
   },
   {
    "duration": 49,
    "start_time": "2025-03-29T20:17:06.234Z"
   },
   {
    "duration": 51,
    "start_time": "2025-03-29T20:17:37.266Z"
   },
   {
    "duration": 26,
    "start_time": "2025-03-29T20:21:54.909Z"
   },
   {
    "duration": 420,
    "start_time": "2025-03-29T20:22:16.299Z"
   },
   {
    "duration": 48,
    "start_time": "2025-03-29T20:22:16.721Z"
   },
   {
    "duration": 9,
    "start_time": "2025-03-29T20:22:16.771Z"
   },
   {
    "duration": 5,
    "start_time": "2025-03-29T20:22:16.783Z"
   },
   {
    "duration": 23,
    "start_time": "2025-03-29T20:22:16.790Z"
   },
   {
    "duration": 9,
    "start_time": "2025-03-29T20:22:16.815Z"
   },
   {
    "duration": 9,
    "start_time": "2025-03-29T20:22:16.825Z"
   },
   {
    "duration": 10,
    "start_time": "2025-03-29T20:22:16.836Z"
   },
   {
    "duration": 4,
    "start_time": "2025-03-29T20:22:16.848Z"
   },
   {
    "duration": 15,
    "start_time": "2025-03-29T20:22:16.855Z"
   },
   {
    "duration": 44,
    "start_time": "2025-03-29T20:22:16.871Z"
   },
   {
    "duration": 17,
    "start_time": "2025-03-29T20:22:16.918Z"
   },
   {
    "duration": 9,
    "start_time": "2025-03-29T20:22:16.937Z"
   },
   {
    "duration": 11,
    "start_time": "2025-03-29T20:22:16.948Z"
   },
   {
    "duration": 5,
    "start_time": "2025-03-29T20:22:16.961Z"
   },
   {
    "duration": 46,
    "start_time": "2025-03-29T20:22:16.968Z"
   },
   {
    "duration": 12,
    "start_time": "2025-03-29T20:22:17.016Z"
   },
   {
    "duration": 7,
    "start_time": "2025-03-29T20:22:17.030Z"
   },
   {
    "duration": 13,
    "start_time": "2025-03-29T20:22:17.039Z"
   },
   {
    "duration": 7,
    "start_time": "2025-03-29T20:22:17.054Z"
   },
   {
    "duration": 20,
    "start_time": "2025-03-29T20:22:17.062Z"
   },
   {
    "duration": 20,
    "start_time": "2025-03-29T20:22:17.113Z"
   },
   {
    "duration": 13,
    "start_time": "2025-03-29T20:22:17.134Z"
   },
   {
    "duration": 202,
    "start_time": "2025-03-29T20:22:17.149Z"
   },
   {
    "duration": 0,
    "start_time": "2025-03-29T20:22:17.353Z"
   },
   {
    "duration": 0,
    "start_time": "2025-03-29T20:22:17.354Z"
   },
   {
    "duration": 0,
    "start_time": "2025-03-29T20:22:17.355Z"
   },
   {
    "duration": 0,
    "start_time": "2025-03-29T20:22:17.357Z"
   },
   {
    "duration": 0,
    "start_time": "2025-03-29T20:22:17.358Z"
   },
   {
    "duration": 0,
    "start_time": "2025-03-29T20:22:17.359Z"
   },
   {
    "duration": 0,
    "start_time": "2025-03-29T20:22:17.360Z"
   },
   {
    "duration": 0,
    "start_time": "2025-03-29T20:22:17.361Z"
   },
   {
    "duration": 0,
    "start_time": "2025-03-29T20:22:17.362Z"
   },
   {
    "duration": 0,
    "start_time": "2025-03-29T20:22:17.363Z"
   },
   {
    "duration": 0,
    "start_time": "2025-03-29T20:22:17.364Z"
   },
   {
    "duration": 24,
    "start_time": "2025-03-29T20:23:22.996Z"
   },
   {
    "duration": 18,
    "start_time": "2025-03-29T20:27:42.557Z"
   },
   {
    "duration": 7,
    "start_time": "2025-03-29T20:29:43.207Z"
   },
   {
    "duration": 5,
    "start_time": "2025-03-29T20:31:44.401Z"
   },
   {
    "duration": 382,
    "start_time": "2025-03-29T20:32:22.001Z"
   },
   {
    "duration": 23,
    "start_time": "2025-03-29T20:32:53.771Z"
   },
   {
    "duration": 20,
    "start_time": "2025-03-29T20:35:04.499Z"
   },
   {
    "duration": 15,
    "start_time": "2025-03-29T20:36:23.632Z"
   },
   {
    "duration": 440,
    "start_time": "2025-03-29T20:36:41.068Z"
   },
   {
    "duration": 49,
    "start_time": "2025-03-29T20:36:41.510Z"
   },
   {
    "duration": 8,
    "start_time": "2025-03-29T20:36:41.560Z"
   },
   {
    "duration": 5,
    "start_time": "2025-03-29T20:36:41.570Z"
   },
   {
    "duration": 6,
    "start_time": "2025-03-29T20:36:41.578Z"
   },
   {
    "duration": 33,
    "start_time": "2025-03-29T20:36:41.585Z"
   },
   {
    "duration": 8,
    "start_time": "2025-03-29T20:36:41.619Z"
   },
   {
    "duration": 11,
    "start_time": "2025-03-29T20:36:41.628Z"
   },
   {
    "duration": 5,
    "start_time": "2025-03-29T20:36:41.640Z"
   },
   {
    "duration": 14,
    "start_time": "2025-03-29T20:36:41.646Z"
   },
   {
    "duration": 6,
    "start_time": "2025-03-29T20:36:41.661Z"
   },
   {
    "duration": 51,
    "start_time": "2025-03-29T20:36:41.669Z"
   },
   {
    "duration": 9,
    "start_time": "2025-03-29T20:36:41.721Z"
   },
   {
    "duration": 10,
    "start_time": "2025-03-29T20:36:41.734Z"
   },
   {
    "duration": 5,
    "start_time": "2025-03-29T20:36:41.746Z"
   },
   {
    "duration": 11,
    "start_time": "2025-03-29T20:36:41.754Z"
   },
   {
    "duration": 13,
    "start_time": "2025-03-29T20:36:41.766Z"
   },
   {
    "duration": 7,
    "start_time": "2025-03-29T20:36:41.812Z"
   },
   {
    "duration": 13,
    "start_time": "2025-03-29T20:36:41.821Z"
   },
   {
    "duration": 6,
    "start_time": "2025-03-29T20:36:41.835Z"
   },
   {
    "duration": 20,
    "start_time": "2025-03-29T20:36:41.843Z"
   },
   {
    "duration": 52,
    "start_time": "2025-03-29T20:36:41.864Z"
   },
   {
    "duration": 15,
    "start_time": "2025-03-29T20:36:41.918Z"
   },
   {
    "duration": 17,
    "start_time": "2025-03-29T20:36:41.937Z"
   },
   {
    "duration": 22,
    "start_time": "2025-03-29T20:36:41.956Z"
   },
   {
    "duration": 33,
    "start_time": "2025-03-29T20:36:41.979Z"
   },
   {
    "duration": 453,
    "start_time": "2025-03-29T20:36:42.013Z"
   },
   {
    "duration": 1,
    "start_time": "2025-03-29T20:36:42.467Z"
   },
   {
    "duration": 0,
    "start_time": "2025-03-29T20:36:42.469Z"
   },
   {
    "duration": 0,
    "start_time": "2025-03-29T20:36:42.471Z"
   },
   {
    "duration": 0,
    "start_time": "2025-03-29T20:36:42.472Z"
   },
   {
    "duration": 0,
    "start_time": "2025-03-29T20:36:42.474Z"
   },
   {
    "duration": 0,
    "start_time": "2025-03-29T20:36:42.475Z"
   },
   {
    "duration": 0,
    "start_time": "2025-03-29T20:36:42.476Z"
   },
   {
    "duration": 0,
    "start_time": "2025-03-29T20:36:42.477Z"
   },
   {
    "duration": 37,
    "start_time": "2025-03-29T20:38:37.255Z"
   },
   {
    "duration": 23,
    "start_time": "2025-03-29T20:39:19.995Z"
   },
   {
    "duration": 209,
    "start_time": "2025-03-29T20:39:31.912Z"
   },
   {
    "duration": 471,
    "start_time": "2025-03-29T20:39:40.422Z"
   },
   {
    "duration": 50,
    "start_time": "2025-03-29T20:39:40.895Z"
   },
   {
    "duration": 7,
    "start_time": "2025-03-29T20:39:40.947Z"
   },
   {
    "duration": 5,
    "start_time": "2025-03-29T20:39:40.956Z"
   },
   {
    "duration": 7,
    "start_time": "2025-03-29T20:39:40.963Z"
   },
   {
    "duration": 8,
    "start_time": "2025-03-29T20:39:40.971Z"
   },
   {
    "duration": 33,
    "start_time": "2025-03-29T20:39:40.980Z"
   },
   {
    "duration": 9,
    "start_time": "2025-03-29T20:39:41.015Z"
   },
   {
    "duration": 4,
    "start_time": "2025-03-29T20:39:41.026Z"
   },
   {
    "duration": 14,
    "start_time": "2025-03-29T20:39:41.031Z"
   },
   {
    "duration": 6,
    "start_time": "2025-03-29T20:39:41.047Z"
   },
   {
    "duration": 18,
    "start_time": "2025-03-29T20:39:41.055Z"
   },
   {
    "duration": 46,
    "start_time": "2025-03-29T20:39:41.074Z"
   },
   {
    "duration": 11,
    "start_time": "2025-03-29T20:39:41.124Z"
   },
   {
    "duration": 5,
    "start_time": "2025-03-29T20:39:41.137Z"
   },
   {
    "duration": 11,
    "start_time": "2025-03-29T20:39:41.144Z"
   },
   {
    "duration": 13,
    "start_time": "2025-03-29T20:39:41.156Z"
   },
   {
    "duration": 6,
    "start_time": "2025-03-29T20:39:41.170Z"
   },
   {
    "duration": 46,
    "start_time": "2025-03-29T20:39:41.178Z"
   },
   {
    "duration": 8,
    "start_time": "2025-03-29T20:39:41.226Z"
   },
   {
    "duration": 20,
    "start_time": "2025-03-29T20:39:41.236Z"
   },
   {
    "duration": 19,
    "start_time": "2025-03-29T20:39:41.257Z"
   },
   {
    "duration": 38,
    "start_time": "2025-03-29T20:39:41.278Z"
   },
   {
    "duration": 18,
    "start_time": "2025-03-29T20:39:41.317Z"
   },
   {
    "duration": 20,
    "start_time": "2025-03-29T20:39:41.336Z"
   },
   {
    "duration": 8,
    "start_time": "2025-03-29T20:39:41.359Z"
   },
   {
    "duration": 47,
    "start_time": "2025-03-29T20:39:41.369Z"
   },
   {
    "duration": 5,
    "start_time": "2025-03-29T20:39:41.417Z"
   },
   {
    "duration": 3,
    "start_time": "2025-03-29T20:39:41.424Z"
   },
   {
    "duration": 3,
    "start_time": "2025-03-29T20:39:41.428Z"
   },
   {
    "duration": 3,
    "start_time": "2025-03-29T20:39:41.433Z"
   },
   {
    "duration": 3,
    "start_time": "2025-03-29T20:39:41.437Z"
   },
   {
    "duration": 3,
    "start_time": "2025-03-29T20:39:41.442Z"
   },
   {
    "duration": 3,
    "start_time": "2025-03-29T20:39:41.446Z"
   },
   {
    "duration": 3,
    "start_time": "2025-03-29T20:39:41.451Z"
   },
   {
    "duration": 158,
    "start_time": "2025-03-31T17:38:37.139Z"
   },
   {
    "duration": 537,
    "start_time": "2025-03-31T17:40:28.048Z"
   },
   {
    "duration": 48,
    "start_time": "2025-03-31T17:40:28.588Z"
   },
   {
    "duration": 7,
    "start_time": "2025-03-31T17:40:28.638Z"
   },
   {
    "duration": 5,
    "start_time": "2025-03-31T17:40:28.647Z"
   },
   {
    "duration": 7,
    "start_time": "2025-03-31T17:40:28.655Z"
   },
   {
    "duration": 7,
    "start_time": "2025-03-31T17:40:28.663Z"
   },
   {
    "duration": 9,
    "start_time": "2025-03-31T17:40:28.672Z"
   },
   {
    "duration": 11,
    "start_time": "2025-03-31T17:40:28.682Z"
   },
   {
    "duration": 4,
    "start_time": "2025-03-31T17:40:28.695Z"
   },
   {
    "duration": 19,
    "start_time": "2025-03-31T17:40:28.733Z"
   },
   {
    "duration": 7,
    "start_time": "2025-03-31T17:40:28.754Z"
   },
   {
    "duration": 21,
    "start_time": "2025-03-31T17:40:28.763Z"
   },
   {
    "duration": 10,
    "start_time": "2025-03-31T17:40:28.785Z"
   },
   {
    "duration": 40,
    "start_time": "2025-03-31T17:40:28.797Z"
   },
   {
    "duration": 6,
    "start_time": "2025-03-31T17:40:28.838Z"
   },
   {
    "duration": 12,
    "start_time": "2025-03-31T17:40:28.845Z"
   },
   {
    "duration": 13,
    "start_time": "2025-03-31T17:40:28.858Z"
   },
   {
    "duration": 7,
    "start_time": "2025-03-31T17:40:28.872Z"
   },
   {
    "duration": 13,
    "start_time": "2025-03-31T17:40:28.881Z"
   },
   {
    "duration": 39,
    "start_time": "2025-03-31T17:40:28.896Z"
   },
   {
    "duration": 19,
    "start_time": "2025-03-31T17:40:28.937Z"
   },
   {
    "duration": 18,
    "start_time": "2025-03-31T17:40:28.958Z"
   },
   {
    "duration": 12,
    "start_time": "2025-03-31T17:40:28.979Z"
   },
   {
    "duration": 41,
    "start_time": "2025-03-31T17:40:28.993Z"
   },
   {
    "duration": 21,
    "start_time": "2025-03-31T17:40:29.036Z"
   },
   {
    "duration": 9,
    "start_time": "2025-03-31T17:40:29.058Z"
   },
   {
    "duration": 19,
    "start_time": "2025-03-31T17:40:29.069Z"
   },
   {
    "duration": 564,
    "start_time": "2025-03-31T17:40:29.092Z"
   },
   {
    "duration": 0,
    "start_time": "2025-03-31T17:40:29.658Z"
   },
   {
    "duration": 0,
    "start_time": "2025-03-31T17:40:29.659Z"
   },
   {
    "duration": 0,
    "start_time": "2025-03-31T17:40:29.661Z"
   },
   {
    "duration": 0,
    "start_time": "2025-03-31T17:40:29.662Z"
   },
   {
    "duration": 0,
    "start_time": "2025-03-31T17:40:29.664Z"
   },
   {
    "duration": 0,
    "start_time": "2025-03-31T17:40:29.665Z"
   },
   {
    "duration": 0,
    "start_time": "2025-03-31T17:40:29.666Z"
   },
   {
    "duration": 44,
    "start_time": "2025-03-31T17:41:04.367Z"
   },
   {
    "duration": 21,
    "start_time": "2025-03-31T17:57:31.220Z"
   },
   {
    "duration": 9,
    "start_time": "2025-03-31T17:58:30.223Z"
   },
   {
    "duration": 18,
    "start_time": "2025-03-31T18:01:57.239Z"
   },
   {
    "duration": 44,
    "start_time": "2025-03-31T18:04:02.027Z"
   },
   {
    "duration": 17,
    "start_time": "2025-03-31T18:04:19.457Z"
   },
   {
    "duration": 481,
    "start_time": "2025-03-31T18:04:43.449Z"
   },
   {
    "duration": 48,
    "start_time": "2025-03-31T18:04:43.932Z"
   },
   {
    "duration": 8,
    "start_time": "2025-03-31T18:04:43.981Z"
   },
   {
    "duration": 6,
    "start_time": "2025-03-31T18:04:43.990Z"
   },
   {
    "duration": 7,
    "start_time": "2025-03-31T18:04:43.998Z"
   },
   {
    "duration": 29,
    "start_time": "2025-03-31T18:04:44.006Z"
   },
   {
    "duration": 8,
    "start_time": "2025-03-31T18:04:44.036Z"
   },
   {
    "duration": 10,
    "start_time": "2025-03-31T18:04:44.046Z"
   },
   {
    "duration": 5,
    "start_time": "2025-03-31T18:04:44.058Z"
   },
   {
    "duration": 15,
    "start_time": "2025-03-31T18:04:44.064Z"
   },
   {
    "duration": 6,
    "start_time": "2025-03-31T18:04:44.080Z"
   },
   {
    "duration": 54,
    "start_time": "2025-03-31T18:04:44.088Z"
   },
   {
    "duration": 10,
    "start_time": "2025-03-31T18:04:44.143Z"
   },
   {
    "duration": 11,
    "start_time": "2025-03-31T18:04:44.157Z"
   },
   {
    "duration": 6,
    "start_time": "2025-03-31T18:04:44.169Z"
   },
   {
    "duration": 11,
    "start_time": "2025-03-31T18:04:44.176Z"
   },
   {
    "duration": 45,
    "start_time": "2025-03-31T18:04:44.189Z"
   },
   {
    "duration": 6,
    "start_time": "2025-03-31T18:04:44.236Z"
   },
   {
    "duration": 14,
    "start_time": "2025-03-31T18:04:44.244Z"
   },
   {
    "duration": 7,
    "start_time": "2025-03-31T18:04:44.260Z"
   },
   {
    "duration": 19,
    "start_time": "2025-03-31T18:04:44.268Z"
   },
   {
    "duration": 47,
    "start_time": "2025-03-31T18:04:44.289Z"
   },
   {
    "duration": 13,
    "start_time": "2025-03-31T18:04:44.338Z"
   },
   {
    "duration": 17,
    "start_time": "2025-03-31T18:04:44.352Z"
   },
   {
    "duration": 22,
    "start_time": "2025-03-31T18:04:44.371Z"
   },
   {
    "duration": 37,
    "start_time": "2025-03-31T18:04:44.394Z"
   },
   {
    "duration": 17,
    "start_time": "2025-03-31T18:04:44.433Z"
   },
   {
    "duration": 549,
    "start_time": "2025-03-31T18:04:44.452Z"
   },
   {
    "duration": 0,
    "start_time": "2025-03-31T18:04:45.003Z"
   },
   {
    "duration": 0,
    "start_time": "2025-03-31T18:04:45.004Z"
   },
   {
    "duration": 0,
    "start_time": "2025-03-31T18:04:45.005Z"
   },
   {
    "duration": 0,
    "start_time": "2025-03-31T18:04:45.006Z"
   },
   {
    "duration": 0,
    "start_time": "2025-03-31T18:04:45.007Z"
   },
   {
    "duration": 0,
    "start_time": "2025-03-31T18:04:45.008Z"
   },
   {
    "duration": 0,
    "start_time": "2025-03-31T18:04:45.009Z"
   },
   {
    "duration": 428,
    "start_time": "2025-03-31T18:25:17.202Z"
   },
   {
    "duration": 48,
    "start_time": "2025-03-31T18:25:17.633Z"
   },
   {
    "duration": 8,
    "start_time": "2025-03-31T18:25:17.683Z"
   },
   {
    "duration": 6,
    "start_time": "2025-03-31T18:25:17.693Z"
   },
   {
    "duration": 8,
    "start_time": "2025-03-31T18:25:17.700Z"
   },
   {
    "duration": 8,
    "start_time": "2025-03-31T18:25:17.732Z"
   },
   {
    "duration": 9,
    "start_time": "2025-03-31T18:25:17.741Z"
   },
   {
    "duration": 10,
    "start_time": "2025-03-31T18:25:17.752Z"
   },
   {
    "duration": 3,
    "start_time": "2025-03-31T18:25:17.764Z"
   },
   {
    "duration": 15,
    "start_time": "2025-03-31T18:25:17.769Z"
   },
   {
    "duration": 6,
    "start_time": "2025-03-31T18:25:17.786Z"
   },
   {
    "duration": 54,
    "start_time": "2025-03-31T18:25:17.793Z"
   },
   {
    "duration": 10,
    "start_time": "2025-03-31T18:25:17.849Z"
   },
   {
    "duration": 11,
    "start_time": "2025-03-31T18:25:17.862Z"
   },
   {
    "duration": 6,
    "start_time": "2025-03-31T18:25:17.875Z"
   },
   {
    "duration": 11,
    "start_time": "2025-03-31T18:25:17.883Z"
   },
   {
    "duration": 43,
    "start_time": "2025-03-31T18:25:17.895Z"
   },
   {
    "duration": 6,
    "start_time": "2025-03-31T18:25:17.941Z"
   },
   {
    "duration": 18,
    "start_time": "2025-03-31T18:25:17.949Z"
   },
   {
    "duration": 7,
    "start_time": "2025-03-31T18:25:17.969Z"
   },
   {
    "duration": 24,
    "start_time": "2025-03-31T18:25:17.977Z"
   },
   {
    "duration": 45,
    "start_time": "2025-03-31T18:25:18.003Z"
   },
   {
    "duration": 13,
    "start_time": "2025-03-31T18:25:18.050Z"
   },
   {
    "duration": 17,
    "start_time": "2025-03-31T18:25:18.065Z"
   },
   {
    "duration": 62,
    "start_time": "2025-03-31T18:25:18.083Z"
   },
   {
    "duration": 12,
    "start_time": "2025-03-31T18:25:18.147Z"
   },
   {
    "duration": 14,
    "start_time": "2025-03-31T18:25:18.160Z"
   },
   {
    "duration": 551,
    "start_time": "2025-03-31T18:25:18.175Z"
   },
   {
    "duration": 0,
    "start_time": "2025-03-31T18:25:18.727Z"
   },
   {
    "duration": 0,
    "start_time": "2025-03-31T18:25:18.731Z"
   },
   {
    "duration": 0,
    "start_time": "2025-03-31T18:25:18.732Z"
   },
   {
    "duration": 0,
    "start_time": "2025-03-31T18:25:18.733Z"
   },
   {
    "duration": 0,
    "start_time": "2025-03-31T18:25:18.734Z"
   },
   {
    "duration": 0,
    "start_time": "2025-03-31T18:25:18.735Z"
   },
   {
    "duration": 0,
    "start_time": "2025-03-31T18:25:18.736Z"
   },
   {
    "duration": 7,
    "start_time": "2025-03-31T18:34:33.577Z"
   },
   {
    "duration": 46,
    "start_time": "2025-03-31T18:34:46.521Z"
   },
   {
    "duration": 484,
    "start_time": "2025-03-31T18:35:05.272Z"
   },
   {
    "duration": 108,
    "start_time": "2025-03-31T18:35:05.758Z"
   },
   {
    "duration": 65,
    "start_time": "2025-03-31T18:35:05.869Z"
   },
   {
    "duration": 5,
    "start_time": "2025-03-31T18:35:05.935Z"
   },
   {
    "duration": 7,
    "start_time": "2025-03-31T18:35:05.943Z"
   },
   {
    "duration": 8,
    "start_time": "2025-03-31T18:35:05.951Z"
   },
   {
    "duration": 8,
    "start_time": "2025-03-31T18:35:05.961Z"
   },
   {
    "duration": 66,
    "start_time": "2025-03-31T18:35:05.970Z"
   },
   {
    "duration": 5,
    "start_time": "2025-03-31T18:35:06.037Z"
   },
   {
    "duration": 16,
    "start_time": "2025-03-31T18:35:06.044Z"
   },
   {
    "duration": 7,
    "start_time": "2025-03-31T18:35:06.061Z"
   },
   {
    "duration": 70,
    "start_time": "2025-03-31T18:35:06.070Z"
   },
   {
    "duration": 11,
    "start_time": "2025-03-31T18:35:06.143Z"
   },
   {
    "duration": 14,
    "start_time": "2025-03-31T18:35:06.157Z"
   },
   {
    "duration": 62,
    "start_time": "2025-03-31T18:35:06.172Z"
   },
   {
    "duration": 12,
    "start_time": "2025-03-31T18:35:06.236Z"
   },
   {
    "duration": 16,
    "start_time": "2025-03-31T18:35:06.249Z"
   },
   {
    "duration": 7,
    "start_time": "2025-03-31T18:35:06.267Z"
   },
   {
    "duration": 58,
    "start_time": "2025-03-31T18:35:06.276Z"
   },
   {
    "duration": 12,
    "start_time": "2025-03-31T18:35:06.336Z"
   },
   {
    "duration": 23,
    "start_time": "2025-03-31T18:35:06.350Z"
   },
   {
    "duration": 74,
    "start_time": "2025-03-31T18:35:06.375Z"
   },
   {
    "duration": 14,
    "start_time": "2025-03-31T18:35:06.451Z"
   },
   {
    "duration": 66,
    "start_time": "2025-03-31T18:35:06.466Z"
   },
   {
    "duration": 34,
    "start_time": "2025-03-31T18:35:06.534Z"
   },
   {
    "duration": 64,
    "start_time": "2025-03-31T18:35:06.570Z"
   },
   {
    "duration": 629,
    "start_time": "2025-03-31T18:35:06.636Z"
   },
   {
    "duration": 0,
    "start_time": "2025-03-31T18:35:07.267Z"
   },
   {
    "duration": 0,
    "start_time": "2025-03-31T18:35:07.268Z"
   },
   {
    "duration": 0,
    "start_time": "2025-03-31T18:35:07.270Z"
   },
   {
    "duration": 0,
    "start_time": "2025-03-31T18:35:07.271Z"
   },
   {
    "duration": 0,
    "start_time": "2025-03-31T18:35:07.273Z"
   },
   {
    "duration": 0,
    "start_time": "2025-03-31T18:35:07.274Z"
   },
   {
    "duration": 0,
    "start_time": "2025-03-31T18:35:07.276Z"
   },
   {
    "duration": 0,
    "start_time": "2025-03-31T18:35:07.277Z"
   },
   {
    "duration": 49,
    "start_time": "2025-03-31T18:37:04.883Z"
   },
   {
    "duration": 542,
    "start_time": "2025-03-31T18:39:05.350Z"
   },
   {
    "duration": 55,
    "start_time": "2025-03-31T18:39:05.895Z"
   },
   {
    "duration": 9,
    "start_time": "2025-03-31T18:39:05.952Z"
   },
   {
    "duration": 5,
    "start_time": "2025-03-31T18:39:05.965Z"
   },
   {
    "duration": 8,
    "start_time": "2025-03-31T18:39:05.973Z"
   },
   {
    "duration": 8,
    "start_time": "2025-03-31T18:39:05.983Z"
   },
   {
    "duration": 9,
    "start_time": "2025-03-31T18:39:05.993Z"
   },
   {
    "duration": 12,
    "start_time": "2025-03-31T18:39:06.032Z"
   },
   {
    "duration": 4,
    "start_time": "2025-03-31T18:39:06.046Z"
   },
   {
    "duration": 13,
    "start_time": "2025-03-31T18:39:06.052Z"
   },
   {
    "duration": 6,
    "start_time": "2025-03-31T18:39:06.068Z"
   },
   {
    "duration": 18,
    "start_time": "2025-03-31T18:39:06.076Z"
   },
   {
    "duration": 44,
    "start_time": "2025-03-31T18:39:06.097Z"
   },
   {
    "duration": 11,
    "start_time": "2025-03-31T18:39:06.146Z"
   },
   {
    "duration": 6,
    "start_time": "2025-03-31T18:39:06.159Z"
   },
   {
    "duration": 11,
    "start_time": "2025-03-31T18:39:06.166Z"
   },
   {
    "duration": 13,
    "start_time": "2025-03-31T18:39:06.178Z"
   },
   {
    "duration": 6,
    "start_time": "2025-03-31T18:39:06.193Z"
   },
   {
    "duration": 15,
    "start_time": "2025-03-31T18:39:06.231Z"
   },
   {
    "duration": 7,
    "start_time": "2025-03-31T18:39:06.248Z"
   },
   {
    "duration": 21,
    "start_time": "2025-03-31T18:39:06.257Z"
   },
   {
    "duration": 18,
    "start_time": "2025-03-31T18:39:06.280Z"
   },
   {
    "duration": 40,
    "start_time": "2025-03-31T18:39:06.300Z"
   },
   {
    "duration": 22,
    "start_time": "2025-03-31T18:39:06.342Z"
   },
   {
    "duration": 24,
    "start_time": "2025-03-31T18:39:06.366Z"
   },
   {
    "duration": 11,
    "start_time": "2025-03-31T18:39:06.392Z"
   },
   {
    "duration": 41,
    "start_time": "2025-03-31T18:39:06.405Z"
   },
   {
    "duration": 584,
    "start_time": "2025-03-31T18:39:06.448Z"
   },
   {
    "duration": 0,
    "start_time": "2025-03-31T18:39:07.033Z"
   },
   {
    "duration": 0,
    "start_time": "2025-03-31T18:39:07.034Z"
   },
   {
    "duration": 1,
    "start_time": "2025-03-31T18:39:07.035Z"
   },
   {
    "duration": 0,
    "start_time": "2025-03-31T18:39:07.037Z"
   },
   {
    "duration": 0,
    "start_time": "2025-03-31T18:39:07.038Z"
   },
   {
    "duration": 0,
    "start_time": "2025-03-31T18:39:07.039Z"
   },
   {
    "duration": 0,
    "start_time": "2025-03-31T18:39:07.041Z"
   },
   {
    "duration": 2,
    "start_time": "2025-03-31T18:43:02.453Z"
   },
   {
    "duration": 4,
    "start_time": "2025-03-31T18:56:20.582Z"
   },
   {
    "duration": 3084,
    "start_time": "2025-03-31T18:56:30.532Z"
   },
   {
    "duration": 190,
    "start_time": "2025-03-31T18:56:53.760Z"
   },
   {
    "duration": 196,
    "start_time": "2025-03-31T19:00:19.053Z"
   },
   {
    "duration": 115,
    "start_time": "2025-03-31T19:51:09.594Z"
   },
   {
    "duration": 457,
    "start_time": "2025-03-31T19:51:20.435Z"
   },
   {
    "duration": 50,
    "start_time": "2025-03-31T19:51:20.894Z"
   },
   {
    "duration": 8,
    "start_time": "2025-03-31T19:51:20.946Z"
   },
   {
    "duration": 4,
    "start_time": "2025-03-31T19:51:20.956Z"
   },
   {
    "duration": 7,
    "start_time": "2025-03-31T19:51:20.962Z"
   },
   {
    "duration": 8,
    "start_time": "2025-03-31T19:51:20.971Z"
   },
   {
    "duration": 9,
    "start_time": "2025-03-31T19:51:20.980Z"
   },
   {
    "duration": 41,
    "start_time": "2025-03-31T19:51:20.990Z"
   },
   {
    "duration": 3,
    "start_time": "2025-03-31T19:51:21.034Z"
   },
   {
    "duration": 15,
    "start_time": "2025-03-31T19:51:21.040Z"
   },
   {
    "duration": 6,
    "start_time": "2025-03-31T19:51:21.056Z"
   },
   {
    "duration": 18,
    "start_time": "2025-03-31T19:51:21.064Z"
   },
   {
    "duration": 9,
    "start_time": "2025-03-31T19:51:21.083Z"
   },
   {
    "duration": 41,
    "start_time": "2025-03-31T19:51:21.094Z"
   },
   {
    "duration": 6,
    "start_time": "2025-03-31T19:51:21.137Z"
   },
   {
    "duration": 12,
    "start_time": "2025-03-31T19:51:21.145Z"
   },
   {
    "duration": 15,
    "start_time": "2025-03-31T19:51:21.159Z"
   },
   {
    "duration": 9,
    "start_time": "2025-03-31T19:51:21.176Z"
   },
   {
    "duration": 46,
    "start_time": "2025-03-31T19:51:21.186Z"
   },
   {
    "duration": 7,
    "start_time": "2025-03-31T19:51:21.233Z"
   },
   {
    "duration": 20,
    "start_time": "2025-03-31T19:51:21.242Z"
   },
   {
    "duration": 19,
    "start_time": "2025-03-31T19:51:21.263Z"
   },
   {
    "duration": 13,
    "start_time": "2025-03-31T19:51:21.283Z"
   },
   {
    "duration": 47,
    "start_time": "2025-03-31T19:51:21.298Z"
   },
   {
    "duration": 21,
    "start_time": "2025-03-31T19:51:21.347Z"
   },
   {
    "duration": 8,
    "start_time": "2025-03-31T19:51:21.369Z"
   },
   {
    "duration": 17,
    "start_time": "2025-03-31T19:51:21.379Z"
   },
   {
    "duration": 526,
    "start_time": "2025-03-31T19:51:21.399Z"
   },
   {
    "duration": 0,
    "start_time": "2025-03-31T19:51:21.931Z"
   },
   {
    "duration": 1,
    "start_time": "2025-03-31T19:51:21.931Z"
   },
   {
    "duration": 0,
    "start_time": "2025-03-31T19:51:21.932Z"
   },
   {
    "duration": 0,
    "start_time": "2025-03-31T19:51:21.933Z"
   },
   {
    "duration": 0,
    "start_time": "2025-03-31T19:51:21.934Z"
   },
   {
    "duration": 0,
    "start_time": "2025-03-31T19:51:21.935Z"
   },
   {
    "duration": 0,
    "start_time": "2025-03-31T19:51:21.936Z"
   },
   {
    "duration": 165,
    "start_time": "2025-03-31T19:51:40.879Z"
   },
   {
    "duration": 113,
    "start_time": "2025-03-31T19:51:46.563Z"
   },
   {
    "duration": 169,
    "start_time": "2025-03-31T19:52:26.032Z"
   },
   {
    "duration": 166,
    "start_time": "2025-03-31T19:53:26.369Z"
   },
   {
    "duration": 176,
    "start_time": "2025-03-31T19:53:41.082Z"
   },
   {
    "duration": 154,
    "start_time": "2025-03-31T19:53:54.013Z"
   },
   {
    "duration": 217,
    "start_time": "2025-03-31T19:54:26.599Z"
   },
   {
    "duration": 3,
    "start_time": "2025-03-31T19:58:35.213Z"
   },
   {
    "duration": 5,
    "start_time": "2025-03-31T20:01:15.264Z"
   },
   {
    "duration": 6,
    "start_time": "2025-03-31T20:01:38.015Z"
   },
   {
    "duration": 3,
    "start_time": "2025-03-31T20:01:53.715Z"
   },
   {
    "duration": 3,
    "start_time": "2025-03-31T20:02:08.409Z"
   },
   {
    "duration": 4,
    "start_time": "2025-03-31T20:02:19.498Z"
   },
   {
    "duration": 4,
    "start_time": "2025-03-31T20:04:11.009Z"
   },
   {
    "duration": 15,
    "start_time": "2025-03-31T20:09:58.966Z"
   },
   {
    "duration": 5,
    "start_time": "2025-03-31T20:10:39.326Z"
   },
   {
    "duration": 5,
    "start_time": "2025-03-31T20:16:01.993Z"
   },
   {
    "duration": 422,
    "start_time": "2025-03-31T20:22:53.460Z"
   },
   {
    "duration": 98,
    "start_time": "2025-03-31T20:26:43.036Z"
   },
   {
    "duration": 141,
    "start_time": "2025-03-31T20:28:29.304Z"
   },
   {
    "duration": 161,
    "start_time": "2025-03-31T20:29:06.523Z"
   },
   {
    "duration": 336,
    "start_time": "2025-04-01T17:01:38.166Z"
   },
   {
    "duration": 506,
    "start_time": "2025-04-01T17:01:56.302Z"
   },
   {
    "duration": 51,
    "start_time": "2025-04-01T17:01:56.809Z"
   },
   {
    "duration": 8,
    "start_time": "2025-04-01T17:01:56.861Z"
   },
   {
    "duration": 5,
    "start_time": "2025-04-01T17:01:56.871Z"
   },
   {
    "duration": 7,
    "start_time": "2025-04-01T17:01:56.877Z"
   },
   {
    "duration": 8,
    "start_time": "2025-04-01T17:01:56.910Z"
   },
   {
    "duration": 9,
    "start_time": "2025-04-01T17:01:56.920Z"
   },
   {
    "duration": 11,
    "start_time": "2025-04-01T17:01:56.931Z"
   },
   {
    "duration": 5,
    "start_time": "2025-04-01T17:01:56.943Z"
   },
   {
    "duration": 16,
    "start_time": "2025-04-01T17:01:56.952Z"
   },
   {
    "duration": 40,
    "start_time": "2025-04-01T17:01:56.970Z"
   },
   {
    "duration": 18,
    "start_time": "2025-04-01T17:01:57.012Z"
   },
   {
    "duration": 9,
    "start_time": "2025-04-01T17:01:57.032Z"
   },
   {
    "duration": 11,
    "start_time": "2025-04-01T17:01:57.043Z"
   },
   {
    "duration": 6,
    "start_time": "2025-04-01T17:01:57.055Z"
   },
   {
    "duration": 11,
    "start_time": "2025-04-01T17:01:57.062Z"
   },
   {
    "duration": 47,
    "start_time": "2025-04-01T17:01:57.074Z"
   },
   {
    "duration": 7,
    "start_time": "2025-04-01T17:01:57.122Z"
   },
   {
    "duration": 13,
    "start_time": "2025-04-01T17:01:57.130Z"
   },
   {
    "duration": 7,
    "start_time": "2025-04-01T17:01:57.145Z"
   },
   {
    "duration": 19,
    "start_time": "2025-04-01T17:01:57.154Z"
   },
   {
    "duration": 51,
    "start_time": "2025-04-01T17:01:57.175Z"
   },
   {
    "duration": 13,
    "start_time": "2025-04-01T17:01:57.228Z"
   },
   {
    "duration": 17,
    "start_time": "2025-04-01T17:01:57.242Z"
   },
   {
    "duration": 23,
    "start_time": "2025-04-01T17:01:57.260Z"
   },
   {
    "duration": 31,
    "start_time": "2025-04-01T17:01:57.285Z"
   },
   {
    "duration": 17,
    "start_time": "2025-04-01T17:01:57.318Z"
   },
   {
    "duration": 2031,
    "start_time": "2025-04-01T17:01:57.338Z"
   },
   {
    "duration": 162,
    "start_time": "2025-04-01T17:01:59.372Z"
   },
   {
    "duration": 4,
    "start_time": "2025-04-01T17:01:59.536Z"
   },
   {
    "duration": 707,
    "start_time": "2025-04-01T17:01:59.542Z"
   },
   {
    "duration": 3,
    "start_time": "2025-04-01T17:02:00.251Z"
   },
   {
    "duration": 53,
    "start_time": "2025-04-01T17:02:00.255Z"
   },
   {
    "duration": 2,
    "start_time": "2025-04-01T17:02:00.310Z"
   },
   {
    "duration": 3,
    "start_time": "2025-04-01T17:02:00.314Z"
   },
   {
    "duration": 327,
    "start_time": "2025-04-01T17:25:03.985Z"
   },
   {
    "duration": 404,
    "start_time": "2025-04-01T17:26:13.752Z"
   },
   {
    "duration": 158,
    "start_time": "2025-04-01T17:28:30.613Z"
   },
   {
    "duration": 157,
    "start_time": "2025-04-01T17:31:14.914Z"
   },
   {
    "duration": 22,
    "start_time": "2025-04-01T17:32:16.748Z"
   },
   {
    "duration": 22,
    "start_time": "2025-04-01T17:34:19.302Z"
   },
   {
    "duration": 154,
    "start_time": "2025-04-01T17:34:33.826Z"
   },
   {
    "duration": 173,
    "start_time": "2025-04-01T17:34:56.383Z"
   },
   {
    "duration": 158,
    "start_time": "2025-04-01T17:35:17.951Z"
   },
   {
    "duration": 161,
    "start_time": "2025-04-01T17:36:22.715Z"
   },
   {
    "duration": 165,
    "start_time": "2025-04-01T17:37:02.716Z"
   },
   {
    "duration": 174,
    "start_time": "2025-04-01T17:37:26.478Z"
   },
   {
    "duration": 153,
    "start_time": "2025-04-01T17:38:13.468Z"
   },
   {
    "duration": 160,
    "start_time": "2025-04-01T17:41:34.604Z"
   },
   {
    "duration": 153,
    "start_time": "2025-04-01T17:42:50.867Z"
   },
   {
    "duration": 5,
    "start_time": "2025-04-01T17:46:25.068Z"
   },
   {
    "duration": 5,
    "start_time": "2025-04-01T17:47:01.474Z"
   },
   {
    "duration": 4,
    "start_time": "2025-04-01T17:47:38.243Z"
   },
   {
    "duration": 5,
    "start_time": "2025-04-01T17:47:54.869Z"
   },
   {
    "duration": 4,
    "start_time": "2025-04-01T17:48:48.298Z"
   },
   {
    "duration": 291,
    "start_time": "2025-04-01T18:14:48.590Z"
   },
   {
    "duration": 144,
    "start_time": "2025-04-01T18:17:19.387Z"
   },
   {
    "duration": 186,
    "start_time": "2025-04-01T18:17:30.289Z"
   },
   {
    "duration": 5,
    "start_time": "2025-04-01T18:18:25.258Z"
   },
   {
    "duration": 5,
    "start_time": "2025-04-01T18:20:24.853Z"
   },
   {
    "duration": 201,
    "start_time": "2025-04-01T18:27:14.539Z"
   },
   {
    "duration": 221,
    "start_time": "2025-04-01T18:31:57.467Z"
   },
   {
    "duration": 5,
    "start_time": "2025-04-01T18:35:34.201Z"
   },
   {
    "duration": 178,
    "start_time": "2025-04-01T18:54:49.595Z"
   },
   {
    "duration": 160,
    "start_time": "2025-04-01T18:56:43.447Z"
   },
   {
    "duration": 167,
    "start_time": "2025-04-01T18:57:54.745Z"
   },
   {
    "duration": 7,
    "start_time": "2025-04-01T19:02:42.945Z"
   },
   {
    "duration": 480,
    "start_time": "2025-04-01T19:03:30.327Z"
   },
   {
    "duration": 63,
    "start_time": "2025-04-01T19:03:30.810Z"
   },
   {
    "duration": 8,
    "start_time": "2025-04-01T19:03:30.875Z"
   },
   {
    "duration": 4,
    "start_time": "2025-04-01T19:03:30.886Z"
   },
   {
    "duration": 7,
    "start_time": "2025-04-01T19:03:30.910Z"
   },
   {
    "duration": 8,
    "start_time": "2025-04-01T19:03:30.919Z"
   },
   {
    "duration": 8,
    "start_time": "2025-04-01T19:03:30.928Z"
   },
   {
    "duration": 10,
    "start_time": "2025-04-01T19:03:30.938Z"
   },
   {
    "duration": 5,
    "start_time": "2025-04-01T19:03:30.950Z"
   },
   {
    "duration": 18,
    "start_time": "2025-04-01T19:03:30.956Z"
   },
   {
    "duration": 39,
    "start_time": "2025-04-01T19:03:30.975Z"
   },
   {
    "duration": 18,
    "start_time": "2025-04-01T19:03:31.016Z"
   },
   {
    "duration": 9,
    "start_time": "2025-04-01T19:03:31.036Z"
   },
   {
    "duration": 11,
    "start_time": "2025-04-01T19:03:31.050Z"
   },
   {
    "duration": 7,
    "start_time": "2025-04-01T19:03:31.064Z"
   },
   {
    "duration": 40,
    "start_time": "2025-04-01T19:03:31.072Z"
   },
   {
    "duration": 16,
    "start_time": "2025-04-01T19:03:31.113Z"
   },
   {
    "duration": 9,
    "start_time": "2025-04-01T19:03:31.131Z"
   },
   {
    "duration": 14,
    "start_time": "2025-04-01T19:03:31.141Z"
   },
   {
    "duration": 7,
    "start_time": "2025-04-01T19:03:31.156Z"
   },
   {
    "duration": 49,
    "start_time": "2025-04-01T19:03:31.164Z"
   },
   {
    "duration": 23,
    "start_time": "2025-04-01T19:03:31.217Z"
   },
   {
    "duration": 16,
    "start_time": "2025-04-01T19:03:31.243Z"
   },
   {
    "duration": 21,
    "start_time": "2025-04-01T19:03:31.262Z"
   },
   {
    "duration": 42,
    "start_time": "2025-04-01T19:03:31.285Z"
   },
   {
    "duration": 9,
    "start_time": "2025-04-01T19:03:31.329Z"
   },
   {
    "duration": 21,
    "start_time": "2025-04-01T19:03:31.339Z"
   },
   {
    "duration": 352,
    "start_time": "2025-04-01T19:03:31.361Z"
   },
   {
    "duration": 164,
    "start_time": "2025-04-01T19:03:31.714Z"
   },
   {
    "duration": 6,
    "start_time": "2025-04-01T19:03:31.880Z"
   },
   {
    "duration": 587,
    "start_time": "2025-04-01T19:03:31.888Z"
   },
   {
    "duration": 176,
    "start_time": "2025-04-01T19:03:32.479Z"
   },
   {
    "duration": 181,
    "start_time": "2025-04-01T19:03:32.658Z"
   },
   {
    "duration": 159,
    "start_time": "2025-04-01T19:03:32.843Z"
   },
   {
    "duration": 4,
    "start_time": "2025-04-01T19:03:33.008Z"
   },
   {
    "duration": 234,
    "start_time": "2025-04-01T19:03:33.014Z"
   },
   {
    "duration": 372,
    "start_time": "2025-04-01T19:03:33.249Z"
   },
   {
    "duration": 345,
    "start_time": "2025-04-01T19:03:33.623Z"
   },
   {
    "duration": 5,
    "start_time": "2025-04-01T19:03:33.970Z"
   },
   {
    "duration": 188,
    "start_time": "2025-04-01T19:03:33.977Z"
   },
   {
    "duration": 205,
    "start_time": "2025-04-01T19:03:34.171Z"
   },
   {
    "duration": 176,
    "start_time": "2025-04-01T19:03:34.378Z"
   },
   {
    "duration": 11,
    "start_time": "2025-04-01T19:03:34.556Z"
   },
   {
    "duration": 2,
    "start_time": "2025-04-01T19:03:34.570Z"
   },
   {
    "duration": 3,
    "start_time": "2025-04-01T19:03:34.574Z"
   },
   {
    "duration": 7,
    "start_time": "2025-04-01T19:04:29.878Z"
   },
   {
    "duration": 6,
    "start_time": "2025-04-01T19:05:48.847Z"
   },
   {
    "duration": 6,
    "start_time": "2025-04-01T19:06:02.848Z"
   },
   {
    "duration": 7,
    "start_time": "2025-04-01T19:06:22.007Z"
   },
   {
    "duration": 241,
    "start_time": "2025-04-01T19:32:14.417Z"
   },
   {
    "duration": 15,
    "start_time": "2025-04-01T19:33:52.184Z"
   },
   {
    "duration": 17,
    "start_time": "2025-04-01T19:34:44.359Z"
   },
   {
    "duration": 20,
    "start_time": "2025-04-01T19:35:28.682Z"
   },
   {
    "duration": 16,
    "start_time": "2025-04-01T19:35:58.306Z"
   },
   {
    "duration": 20,
    "start_time": "2025-04-01T19:36:14.722Z"
   },
   {
    "duration": 534,
    "start_time": "2025-04-01T19:36:54.516Z"
   },
   {
    "duration": 59,
    "start_time": "2025-04-01T19:36:55.052Z"
   },
   {
    "duration": 8,
    "start_time": "2025-04-01T19:36:55.113Z"
   },
   {
    "duration": 6,
    "start_time": "2025-04-01T19:36:55.122Z"
   },
   {
    "duration": 7,
    "start_time": "2025-04-01T19:36:55.131Z"
   },
   {
    "duration": 8,
    "start_time": "2025-04-01T19:36:55.140Z"
   },
   {
    "duration": 8,
    "start_time": "2025-04-01T19:36:55.150Z"
   },
   {
    "duration": 12,
    "start_time": "2025-04-01T19:36:55.160Z"
   },
   {
    "duration": 5,
    "start_time": "2025-04-01T19:36:55.208Z"
   },
   {
    "duration": 14,
    "start_time": "2025-04-01T19:36:55.215Z"
   },
   {
    "duration": 7,
    "start_time": "2025-04-01T19:36:55.231Z"
   },
   {
    "duration": 19,
    "start_time": "2025-04-01T19:36:55.239Z"
   },
   {
    "duration": 9,
    "start_time": "2025-04-01T19:36:55.260Z"
   },
   {
    "duration": 43,
    "start_time": "2025-04-01T19:36:55.273Z"
   },
   {
    "duration": 6,
    "start_time": "2025-04-01T19:36:55.317Z"
   },
   {
    "duration": 12,
    "start_time": "2025-04-01T19:36:55.324Z"
   },
   {
    "duration": 16,
    "start_time": "2025-04-01T19:36:55.337Z"
   },
   {
    "duration": 10,
    "start_time": "2025-04-01T19:36:55.356Z"
   },
   {
    "duration": 40,
    "start_time": "2025-04-01T19:36:55.369Z"
   },
   {
    "duration": 8,
    "start_time": "2025-04-01T19:36:55.411Z"
   },
   {
    "duration": 19,
    "start_time": "2025-04-01T19:36:55.421Z"
   },
   {
    "duration": 19,
    "start_time": "2025-04-01T19:36:55.442Z"
   },
   {
    "duration": 13,
    "start_time": "2025-04-01T19:36:55.463Z"
   },
   {
    "duration": 42,
    "start_time": "2025-04-01T19:36:55.478Z"
   },
   {
    "duration": 20,
    "start_time": "2025-04-01T19:36:55.522Z"
   },
   {
    "duration": 9,
    "start_time": "2025-04-01T19:36:55.544Z"
   },
   {
    "duration": 17,
    "start_time": "2025-04-01T19:36:55.555Z"
   },
   {
    "duration": 436,
    "start_time": "2025-04-01T19:36:55.573Z"
   },
   {
    "duration": 169,
    "start_time": "2025-04-01T19:36:56.011Z"
   },
   {
    "duration": 5,
    "start_time": "2025-04-01T19:36:56.182Z"
   },
   {
    "duration": 592,
    "start_time": "2025-04-01T19:36:56.189Z"
   },
   {
    "duration": 166,
    "start_time": "2025-04-01T19:36:56.783Z"
   },
   {
    "duration": 172,
    "start_time": "2025-04-01T19:36:56.951Z"
   },
   {
    "duration": 176,
    "start_time": "2025-04-01T19:36:57.125Z"
   },
   {
    "duration": 7,
    "start_time": "2025-04-01T19:36:57.302Z"
   },
   {
    "duration": 197,
    "start_time": "2025-04-01T19:36:57.310Z"
   },
   {
    "duration": 159,
    "start_time": "2025-04-01T19:36:57.509Z"
   },
   {
    "duration": 164,
    "start_time": "2025-04-01T19:36:57.669Z"
   },
   {
    "duration": 6,
    "start_time": "2025-04-01T19:36:57.836Z"
   },
   {
    "duration": 225,
    "start_time": "2025-04-01T19:36:57.844Z"
   },
   {
    "duration": 247,
    "start_time": "2025-04-01T19:36:58.074Z"
   },
   {
    "duration": 179,
    "start_time": "2025-04-01T19:36:58.322Z"
   },
   {
    "duration": 12,
    "start_time": "2025-04-01T19:36:58.503Z"
   },
   {
    "duration": 294,
    "start_time": "2025-04-01T19:36:58.519Z"
   },
   {
    "duration": 0,
    "start_time": "2025-04-01T19:36:58.816Z"
   },
   {
    "duration": 8,
    "start_time": "2025-04-01T19:38:02.007Z"
   },
   {
    "duration": 13,
    "start_time": "2025-04-01T19:48:59.713Z"
   },
   {
    "duration": 591,
    "start_time": "2025-04-01T19:50:05.201Z"
   },
   {
    "duration": 480,
    "start_time": "2025-04-01T19:50:15.195Z"
   },
   {
    "duration": 51,
    "start_time": "2025-04-01T19:50:15.678Z"
   },
   {
    "duration": 8,
    "start_time": "2025-04-01T19:50:15.731Z"
   },
   {
    "duration": 5,
    "start_time": "2025-04-01T19:50:15.740Z"
   },
   {
    "duration": 8,
    "start_time": "2025-04-01T19:50:15.748Z"
   },
   {
    "duration": 9,
    "start_time": "2025-04-01T19:50:15.757Z"
   },
   {
    "duration": 9,
    "start_time": "2025-04-01T19:50:15.767Z"
   },
   {
    "duration": 39,
    "start_time": "2025-04-01T19:50:15.778Z"
   },
   {
    "duration": 8,
    "start_time": "2025-04-01T19:50:15.819Z"
   },
   {
    "duration": 18,
    "start_time": "2025-04-01T19:50:15.831Z"
   },
   {
    "duration": 14,
    "start_time": "2025-04-01T19:50:15.850Z"
   },
   {
    "duration": 26,
    "start_time": "2025-04-01T19:50:15.865Z"
   },
   {
    "duration": 23,
    "start_time": "2025-04-01T19:50:15.894Z"
   },
   {
    "duration": 13,
    "start_time": "2025-04-01T19:50:15.921Z"
   },
   {
    "duration": 6,
    "start_time": "2025-04-01T19:50:15.936Z"
   },
   {
    "duration": 11,
    "start_time": "2025-04-01T19:50:15.943Z"
   },
   {
    "duration": 14,
    "start_time": "2025-04-01T19:50:15.956Z"
   },
   {
    "duration": 37,
    "start_time": "2025-04-01T19:50:15.972Z"
   },
   {
    "duration": 19,
    "start_time": "2025-04-01T19:50:16.011Z"
   },
   {
    "duration": 7,
    "start_time": "2025-04-01T19:50:16.031Z"
   },
   {
    "duration": 20,
    "start_time": "2025-04-01T19:50:16.040Z"
   },
   {
    "duration": 20,
    "start_time": "2025-04-01T19:50:16.062Z"
   },
   {
    "duration": 37,
    "start_time": "2025-04-01T19:50:16.084Z"
   },
   {
    "duration": 18,
    "start_time": "2025-04-01T19:50:16.123Z"
   },
   {
    "duration": 20,
    "start_time": "2025-04-01T19:50:16.143Z"
   },
   {
    "duration": 10,
    "start_time": "2025-04-01T19:50:16.165Z"
   },
   {
    "duration": 33,
    "start_time": "2025-04-01T19:50:16.176Z"
   },
   {
    "duration": 16,
    "start_time": "2025-04-01T19:50:16.211Z"
   },
   {
    "duration": 21,
    "start_time": "2025-04-01T19:50:16.229Z"
   },
   {
    "duration": 412,
    "start_time": "2025-04-01T19:50:16.251Z"
   },
   {
    "duration": 161,
    "start_time": "2025-04-01T19:50:16.665Z"
   },
   {
    "duration": 5,
    "start_time": "2025-04-01T19:50:16.827Z"
   },
   {
    "duration": 621,
    "start_time": "2025-04-01T19:50:16.835Z"
   },
   {
    "duration": 166,
    "start_time": "2025-04-01T19:50:17.461Z"
   },
   {
    "duration": 155,
    "start_time": "2025-04-01T19:50:17.629Z"
   },
   {
    "duration": 174,
    "start_time": "2025-04-01T19:50:17.785Z"
   },
   {
    "duration": 4,
    "start_time": "2025-04-01T19:50:17.961Z"
   },
   {
    "duration": 186,
    "start_time": "2025-04-01T19:50:17.967Z"
   },
   {
    "duration": 158,
    "start_time": "2025-04-01T19:50:18.156Z"
   },
   {
    "duration": 179,
    "start_time": "2025-04-01T19:50:18.316Z"
   },
   {
    "duration": 14,
    "start_time": "2025-04-01T19:50:18.500Z"
   },
   {
    "duration": 195,
    "start_time": "2025-04-01T19:50:18.516Z"
   },
   {
    "duration": 242,
    "start_time": "2025-04-01T19:50:18.713Z"
   },
   {
    "duration": 197,
    "start_time": "2025-04-01T19:50:18.958Z"
   },
   {
    "duration": 8,
    "start_time": "2025-04-01T19:50:19.157Z"
   },
   {
    "duration": 7,
    "start_time": "2025-04-01T19:50:19.168Z"
   },
   {
    "duration": 2,
    "start_time": "2025-04-01T19:50:19.178Z"
   },
   {
    "duration": 5,
    "start_time": "2025-04-01T19:55:28.013Z"
   },
   {
    "duration": 234,
    "start_time": "2025-04-01T19:55:42.402Z"
   },
   {
    "duration": 6,
    "start_time": "2025-04-01T19:55:57.325Z"
   },
   {
    "duration": 6,
    "start_time": "2025-04-01T19:59:31.492Z"
   },
   {
    "duration": 25,
    "start_time": "2025-04-01T19:59:41.558Z"
   },
   {
    "duration": 8,
    "start_time": "2025-04-01T19:59:57.718Z"
   },
   {
    "duration": 7,
    "start_time": "2025-04-01T20:00:52.963Z"
   },
   {
    "duration": 417,
    "start_time": "2025-04-02T17:15:32.737Z"
   },
   {
    "duration": 514,
    "start_time": "2025-04-02T17:15:44.025Z"
   },
   {
    "duration": 61,
    "start_time": "2025-04-02T17:15:44.548Z"
   },
   {
    "duration": 7,
    "start_time": "2025-04-02T17:15:44.611Z"
   },
   {
    "duration": 10,
    "start_time": "2025-04-02T17:15:44.621Z"
   },
   {
    "duration": 9,
    "start_time": "2025-04-02T17:15:44.633Z"
   },
   {
    "duration": 7,
    "start_time": "2025-04-02T17:15:44.643Z"
   },
   {
    "duration": 10,
    "start_time": "2025-04-02T17:15:44.652Z"
   },
   {
    "duration": 11,
    "start_time": "2025-04-02T17:15:44.664Z"
   },
   {
    "duration": 5,
    "start_time": "2025-04-02T17:15:44.676Z"
   },
   {
    "duration": 5,
    "start_time": "2025-04-02T17:15:44.685Z"
   },
   {
    "duration": 52,
    "start_time": "2025-04-02T17:15:44.692Z"
   },
   {
    "duration": 8,
    "start_time": "2025-04-02T17:15:44.746Z"
   },
   {
    "duration": 20,
    "start_time": "2025-04-02T17:15:44.756Z"
   },
   {
    "duration": 10,
    "start_time": "2025-04-02T17:15:44.777Z"
   },
   {
    "duration": 46,
    "start_time": "2025-04-02T17:15:44.789Z"
   },
   {
    "duration": 8,
    "start_time": "2025-04-02T17:15:44.836Z"
   },
   {
    "duration": 16,
    "start_time": "2025-04-02T17:15:44.846Z"
   },
   {
    "duration": 18,
    "start_time": "2025-04-02T17:15:44.863Z"
   },
   {
    "duration": 7,
    "start_time": "2025-04-02T17:15:44.882Z"
   },
   {
    "duration": 48,
    "start_time": "2025-04-02T17:15:44.891Z"
   },
   {
    "duration": 9,
    "start_time": "2025-04-02T17:15:44.941Z"
   },
   {
    "duration": 22,
    "start_time": "2025-04-02T17:15:44.953Z"
   },
   {
    "duration": 23,
    "start_time": "2025-04-02T17:15:44.978Z"
   },
   {
    "duration": 36,
    "start_time": "2025-04-02T17:15:45.002Z"
   },
   {
    "duration": 242,
    "start_time": "2025-04-02T17:15:45.040Z"
   },
   {
    "duration": 0,
    "start_time": "2025-04-02T17:15:45.284Z"
   },
   {
    "duration": 0,
    "start_time": "2025-04-02T17:15:45.285Z"
   },
   {
    "duration": 0,
    "start_time": "2025-04-02T17:15:45.286Z"
   },
   {
    "duration": 0,
    "start_time": "2025-04-02T17:15:45.287Z"
   },
   {
    "duration": 0,
    "start_time": "2025-04-02T17:15:45.288Z"
   },
   {
    "duration": 0,
    "start_time": "2025-04-02T17:15:45.289Z"
   },
   {
    "duration": 0,
    "start_time": "2025-04-02T17:15:45.291Z"
   },
   {
    "duration": 0,
    "start_time": "2025-04-02T17:15:45.292Z"
   },
   {
    "duration": 0,
    "start_time": "2025-04-02T17:15:45.293Z"
   },
   {
    "duration": 0,
    "start_time": "2025-04-02T17:15:45.293Z"
   },
   {
    "duration": 0,
    "start_time": "2025-04-02T17:15:45.295Z"
   },
   {
    "duration": 0,
    "start_time": "2025-04-02T17:15:45.296Z"
   },
   {
    "duration": 0,
    "start_time": "2025-04-02T17:15:45.297Z"
   },
   {
    "duration": 0,
    "start_time": "2025-04-02T17:15:45.297Z"
   },
   {
    "duration": 0,
    "start_time": "2025-04-02T17:15:45.298Z"
   },
   {
    "duration": 0,
    "start_time": "2025-04-02T17:15:45.300Z"
   },
   {
    "duration": 0,
    "start_time": "2025-04-02T17:15:45.301Z"
   },
   {
    "duration": 0,
    "start_time": "2025-04-02T17:15:45.331Z"
   },
   {
    "duration": 0,
    "start_time": "2025-04-02T17:15:45.332Z"
   },
   {
    "duration": 0,
    "start_time": "2025-04-02T17:15:45.334Z"
   },
   {
    "duration": 0,
    "start_time": "2025-04-02T17:15:45.335Z"
   },
   {
    "duration": 0,
    "start_time": "2025-04-02T17:15:45.336Z"
   },
   {
    "duration": 0,
    "start_time": "2025-04-02T17:15:45.337Z"
   },
   {
    "duration": 18,
    "start_time": "2025-04-02T17:18:26.208Z"
   },
   {
    "duration": 1905,
    "start_time": "2025-04-02T17:20:25.475Z"
   },
   {
    "duration": 452,
    "start_time": "2025-04-02T17:20:41.471Z"
   },
   {
    "duration": 55,
    "start_time": "2025-04-02T17:20:41.925Z"
   },
   {
    "duration": 7,
    "start_time": "2025-04-02T17:20:41.982Z"
   },
   {
    "duration": 4,
    "start_time": "2025-04-02T17:20:41.991Z"
   },
   {
    "duration": 6,
    "start_time": "2025-04-02T17:20:41.999Z"
   },
   {
    "duration": 24,
    "start_time": "2025-04-02T17:20:42.007Z"
   },
   {
    "duration": 8,
    "start_time": "2025-04-02T17:20:42.033Z"
   },
   {
    "duration": 11,
    "start_time": "2025-04-02T17:20:42.043Z"
   },
   {
    "duration": 5,
    "start_time": "2025-04-02T17:20:42.055Z"
   },
   {
    "duration": 5,
    "start_time": "2025-04-02T17:20:42.061Z"
   },
   {
    "duration": 14,
    "start_time": "2025-04-02T17:20:42.068Z"
   },
   {
    "duration": 6,
    "start_time": "2025-04-02T17:20:42.084Z"
   },
   {
    "duration": 19,
    "start_time": "2025-04-02T17:20:42.130Z"
   },
   {
    "duration": 9,
    "start_time": "2025-04-02T17:20:42.152Z"
   },
   {
    "duration": 12,
    "start_time": "2025-04-02T17:20:42.162Z"
   },
   {
    "duration": 5,
    "start_time": "2025-04-02T17:20:42.176Z"
   },
   {
    "duration": 12,
    "start_time": "2025-04-02T17:20:42.183Z"
   },
   {
    "duration": 41,
    "start_time": "2025-04-02T17:20:42.196Z"
   },
   {
    "duration": 7,
    "start_time": "2025-04-02T17:20:42.238Z"
   },
   {
    "duration": 15,
    "start_time": "2025-04-02T17:20:42.246Z"
   },
   {
    "duration": 7,
    "start_time": "2025-04-02T17:20:42.263Z"
   },
   {
    "duration": 20,
    "start_time": "2025-04-02T17:20:42.272Z"
   },
   {
    "duration": 51,
    "start_time": "2025-04-02T17:20:42.294Z"
   },
   {
    "duration": 12,
    "start_time": "2025-04-02T17:20:42.347Z"
   },
   {
    "duration": 17,
    "start_time": "2025-04-02T17:20:42.361Z"
   },
   {
    "duration": 25,
    "start_time": "2025-04-02T17:20:42.380Z"
   },
   {
    "duration": 28,
    "start_time": "2025-04-02T17:20:42.408Z"
   },
   {
    "duration": 10,
    "start_time": "2025-04-02T17:20:42.438Z"
   },
   {
    "duration": 22,
    "start_time": "2025-04-02T17:20:42.449Z"
   },
   {
    "duration": 24,
    "start_time": "2025-04-02T17:20:42.473Z"
   },
   {
    "duration": 358,
    "start_time": "2025-04-02T17:20:42.498Z"
   },
   {
    "duration": 166,
    "start_time": "2025-04-02T17:20:42.857Z"
   },
   {
    "duration": 9,
    "start_time": "2025-04-02T17:20:43.025Z"
   },
   {
    "duration": 616,
    "start_time": "2025-04-02T17:20:43.035Z"
   },
   {
    "duration": 158,
    "start_time": "2025-04-02T17:20:43.653Z"
   },
   {
    "duration": 155,
    "start_time": "2025-04-02T17:20:43.812Z"
   },
   {
    "duration": 167,
    "start_time": "2025-04-02T17:20:43.969Z"
   },
   {
    "duration": 5,
    "start_time": "2025-04-02T17:20:44.138Z"
   },
   {
    "duration": 181,
    "start_time": "2025-04-02T17:20:44.145Z"
   },
   {
    "duration": 152,
    "start_time": "2025-04-02T17:20:44.328Z"
   },
   {
    "duration": 177,
    "start_time": "2025-04-02T17:20:44.484Z"
   },
   {
    "duration": 4,
    "start_time": "2025-04-02T17:20:44.663Z"
   },
   {
    "duration": 179,
    "start_time": "2025-04-02T17:20:44.669Z"
   },
   {
    "duration": 222,
    "start_time": "2025-04-02T17:20:44.849Z"
   },
   {
    "duration": 165,
    "start_time": "2025-04-02T17:20:45.073Z"
   },
   {
    "duration": 7,
    "start_time": "2025-04-02T17:20:45.240Z"
   },
   {
    "duration": 5,
    "start_time": "2025-04-02T17:20:45.248Z"
   },
   {
    "duration": 6,
    "start_time": "2025-04-02T17:20:45.255Z"
   },
   {
    "duration": 837,
    "start_time": "2025-04-03T16:21:51.211Z"
   },
   {
    "duration": 497,
    "start_time": "2025-04-03T16:22:08.798Z"
   },
   {
    "duration": 50,
    "start_time": "2025-04-03T16:22:09.297Z"
   },
   {
    "duration": 7,
    "start_time": "2025-04-03T16:22:09.349Z"
   },
   {
    "duration": 5,
    "start_time": "2025-04-03T16:22:09.358Z"
   },
   {
    "duration": 7,
    "start_time": "2025-04-03T16:22:09.365Z"
   },
   {
    "duration": 7,
    "start_time": "2025-04-03T16:22:09.373Z"
   },
   {
    "duration": 10,
    "start_time": "2025-04-03T16:22:09.382Z"
   },
   {
    "duration": 41,
    "start_time": "2025-04-03T16:22:09.393Z"
   },
   {
    "duration": 4,
    "start_time": "2025-04-03T16:22:09.435Z"
   },
   {
    "duration": 5,
    "start_time": "2025-04-03T16:22:09.440Z"
   },
   {
    "duration": 14,
    "start_time": "2025-04-03T16:22:09.447Z"
   },
   {
    "duration": 6,
    "start_time": "2025-04-03T16:22:09.463Z"
   },
   {
    "duration": 19,
    "start_time": "2025-04-03T16:22:09.471Z"
   },
   {
    "duration": 44,
    "start_time": "2025-04-03T16:22:09.493Z"
   },
   {
    "duration": 11,
    "start_time": "2025-04-03T16:22:09.539Z"
   },
   {
    "duration": 6,
    "start_time": "2025-04-03T16:22:09.551Z"
   },
   {
    "duration": 11,
    "start_time": "2025-04-03T16:22:09.559Z"
   },
   {
    "duration": 12,
    "start_time": "2025-04-03T16:22:09.572Z"
   },
   {
    "duration": 6,
    "start_time": "2025-04-03T16:22:09.586Z"
   },
   {
    "duration": 13,
    "start_time": "2025-04-03T16:22:09.632Z"
   },
   {
    "duration": 7,
    "start_time": "2025-04-03T16:22:09.647Z"
   },
   {
    "duration": 20,
    "start_time": "2025-04-03T16:22:09.656Z"
   },
   {
    "duration": 18,
    "start_time": "2025-04-03T16:22:09.677Z"
   },
   {
    "duration": 42,
    "start_time": "2025-04-03T16:22:09.697Z"
   },
   {
    "duration": 19,
    "start_time": "2025-04-03T16:22:09.740Z"
   },
   {
    "duration": 23,
    "start_time": "2025-04-03T16:22:09.761Z"
   },
   {
    "duration": 11,
    "start_time": "2025-04-03T16:22:09.785Z"
   },
   {
    "duration": 38,
    "start_time": "2025-04-03T16:22:09.797Z"
   },
   {
    "duration": 19,
    "start_time": "2025-04-03T16:22:09.837Z"
   },
   {
    "duration": 22,
    "start_time": "2025-04-03T16:22:09.857Z"
   },
   {
    "duration": 2060,
    "start_time": "2025-04-03T16:22:09.880Z"
   },
   {
    "duration": 174,
    "start_time": "2025-04-03T16:22:11.942Z"
   },
   {
    "duration": 5,
    "start_time": "2025-04-03T16:22:12.117Z"
   },
   {
    "duration": 546,
    "start_time": "2025-04-03T16:22:12.131Z"
   },
   {
    "duration": 165,
    "start_time": "2025-04-03T16:22:12.678Z"
   },
   {
    "duration": 161,
    "start_time": "2025-04-03T16:22:12.845Z"
   },
   {
    "duration": 209,
    "start_time": "2025-04-03T16:22:13.008Z"
   },
   {
    "duration": 14,
    "start_time": "2025-04-03T16:22:13.219Z"
   },
   {
    "duration": 177,
    "start_time": "2025-04-03T16:22:13.235Z"
   },
   {
    "duration": 153,
    "start_time": "2025-04-03T16:22:13.414Z"
   },
   {
    "duration": 166,
    "start_time": "2025-04-03T16:22:13.571Z"
   },
   {
    "duration": 4,
    "start_time": "2025-04-03T16:22:13.739Z"
   },
   {
    "duration": 173,
    "start_time": "2025-04-03T16:22:13.745Z"
   },
   {
    "duration": 164,
    "start_time": "2025-04-03T16:22:13.921Z"
   },
   {
    "duration": 169,
    "start_time": "2025-04-03T16:22:14.087Z"
   },
   {
    "duration": 6,
    "start_time": "2025-04-03T16:22:14.259Z"
   },
   {
    "duration": 4,
    "start_time": "2025-04-03T16:22:14.267Z"
   },
   {
    "duration": 7,
    "start_time": "2025-04-03T16:22:14.273Z"
   },
   {
    "duration": 8,
    "start_time": "2025-04-03T16:22:33.253Z"
   },
   {
    "duration": 8,
    "start_time": "2025-04-03T16:26:32.725Z"
   },
   {
    "duration": 4,
    "start_time": "2025-04-03T16:26:58.449Z"
   },
   {
    "duration": 4,
    "start_time": "2025-04-03T16:27:41.172Z"
   },
   {
    "duration": 9,
    "start_time": "2025-04-03T16:28:16.816Z"
   },
   {
    "duration": 9,
    "start_time": "2025-04-03T16:28:45.962Z"
   },
   {
    "duration": 6,
    "start_time": "2025-04-03T16:35:25.956Z"
   },
   {
    "duration": 6,
    "start_time": "2025-04-03T16:36:22.541Z"
   },
   {
    "duration": 492,
    "start_time": "2025-04-04T13:29:00.809Z"
   },
   {
    "duration": 49,
    "start_time": "2025-04-04T13:29:01.303Z"
   },
   {
    "duration": 9,
    "start_time": "2025-04-04T13:29:01.354Z"
   },
   {
    "duration": 6,
    "start_time": "2025-04-04T13:29:01.364Z"
   },
   {
    "duration": 8,
    "start_time": "2025-04-04T13:29:01.371Z"
   },
   {
    "duration": 7,
    "start_time": "2025-04-04T13:29:01.381Z"
   },
   {
    "duration": 9,
    "start_time": "2025-04-04T13:29:01.390Z"
   },
   {
    "duration": 42,
    "start_time": "2025-04-04T13:29:01.401Z"
   },
   {
    "duration": 4,
    "start_time": "2025-04-04T13:29:01.445Z"
   },
   {
    "duration": 5,
    "start_time": "2025-04-04T13:29:01.452Z"
   },
   {
    "duration": 15,
    "start_time": "2025-04-04T13:29:01.458Z"
   },
   {
    "duration": 6,
    "start_time": "2025-04-04T13:29:01.475Z"
   },
   {
    "duration": 18,
    "start_time": "2025-04-04T13:29:01.483Z"
   },
   {
    "duration": 41,
    "start_time": "2025-04-04T13:29:01.504Z"
   },
   {
    "duration": 11,
    "start_time": "2025-04-04T13:29:01.547Z"
   },
   {
    "duration": 5,
    "start_time": "2025-04-04T13:29:01.560Z"
   },
   {
    "duration": 11,
    "start_time": "2025-04-04T13:29:01.567Z"
   },
   {
    "duration": 13,
    "start_time": "2025-04-04T13:29:01.579Z"
   },
   {
    "duration": 6,
    "start_time": "2025-04-04T13:29:01.594Z"
   },
   {
    "duration": 51,
    "start_time": "2025-04-04T13:29:01.601Z"
   },
   {
    "duration": 8,
    "start_time": "2025-04-04T13:29:01.654Z"
   },
   {
    "duration": 23,
    "start_time": "2025-04-04T13:29:01.663Z"
   },
   {
    "duration": 21,
    "start_time": "2025-04-04T13:29:01.688Z"
   },
   {
    "duration": 44,
    "start_time": "2025-04-04T13:29:01.710Z"
   },
   {
    "duration": 19,
    "start_time": "2025-04-04T13:29:01.756Z"
   },
   {
    "duration": 23,
    "start_time": "2025-04-04T13:29:01.777Z"
   },
   {
    "duration": 10,
    "start_time": "2025-04-04T13:29:01.801Z"
   },
   {
    "duration": 10,
    "start_time": "2025-04-04T13:29:01.842Z"
   },
   {
    "duration": 22,
    "start_time": "2025-04-04T13:29:01.853Z"
   },
   {
    "duration": 15,
    "start_time": "2025-04-04T13:29:01.876Z"
   },
   {
    "duration": 2053,
    "start_time": "2025-04-04T13:29:01.893Z"
   },
   {
    "duration": 168,
    "start_time": "2025-04-04T13:29:03.948Z"
   },
   {
    "duration": 5,
    "start_time": "2025-04-04T13:29:04.118Z"
   },
   {
    "duration": 574,
    "start_time": "2025-04-04T13:29:04.125Z"
   },
   {
    "duration": 164,
    "start_time": "2025-04-04T13:29:04.700Z"
   },
   {
    "duration": 152,
    "start_time": "2025-04-04T13:29:04.866Z"
   },
   {
    "duration": 224,
    "start_time": "2025-04-04T13:29:05.020Z"
   },
   {
    "duration": 5,
    "start_time": "2025-04-04T13:29:05.246Z"
   },
   {
    "duration": 179,
    "start_time": "2025-04-04T13:29:05.253Z"
   },
   {
    "duration": 151,
    "start_time": "2025-04-04T13:29:05.434Z"
   },
   {
    "duration": 158,
    "start_time": "2025-04-04T13:29:05.587Z"
   },
   {
    "duration": 4,
    "start_time": "2025-04-04T13:29:05.747Z"
   },
   {
    "duration": 197,
    "start_time": "2025-04-04T13:29:05.753Z"
   },
   {
    "duration": 149,
    "start_time": "2025-04-04T13:29:05.952Z"
   },
   {
    "duration": 163,
    "start_time": "2025-04-04T13:29:06.103Z"
   },
   {
    "duration": 6,
    "start_time": "2025-04-04T13:29:06.268Z"
   },
   {
    "duration": 6,
    "start_time": "2025-04-04T13:29:06.276Z"
   },
   {
    "duration": 9,
    "start_time": "2025-04-04T13:29:06.284Z"
   }
  ],
  "colab": {
   "provenance": []
  },
  "kernelspec": {
   "display_name": "Python 3 (ipykernel)",
   "language": "python",
   "name": "python3"
  },
  "language_info": {
   "codemirror_mode": {
    "name": "ipython",
    "version": 3
   },
   "file_extension": ".py",
   "mimetype": "text/x-python",
   "name": "python",
   "nbconvert_exporter": "python",
   "pygments_lexer": "ipython3",
   "version": "3.9.19"
  },
  "toc": {
   "base_numbering": 1,
   "nav_menu": {},
   "number_sections": true,
   "sideBar": true,
   "skip_h1_title": false,
   "title_cell": "Table of Contents",
   "title_sidebar": "Contents",
   "toc_cell": false,
   "toc_position": {
    "height": "calc(100% - 180px)",
    "left": "10px",
    "top": "150px",
    "width": "304px"
   },
   "toc_section_display": true,
   "toc_window_display": true
  }
 },
 "nbformat": 4,
 "nbformat_minor": 1
}
